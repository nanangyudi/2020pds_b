{
  "nbformat": 4,
  "nbformat_minor": 0,
  "metadata": {
    "colab": {
      "name": "185150400111051_NAUFAL ZULFIKAR PRIAMBODO.ipynb",
      "provenance": [],
      "include_colab_link": true
    },
    "kernelspec": {
      "name": "python3",
      "display_name": "Python 3"
    }
  },
  "cells": [
    {
      "cell_type": "markdown",
      "metadata": {
        "id": "view-in-github",
        "colab_type": "text"
      },
      "source": [
        "<a href=\"https://colab.research.google.com/github/nanangyudi/2020pds_b/blob/main/185150400111051_NAUFAL_ZULFIKAR_PRIAMBODO.ipynb\" target=\"_parent\"><img src=\"https://colab.research.google.com/assets/colab-badge.svg\" alt=\"Open In Colab\"/></a>"
      ]
    },
    {
      "cell_type": "code",
      "metadata": {
        "id": "3pGwHb3T8SBS"
      },
      "source": [
        ""
      ],
      "execution_count": null,
      "outputs": []
    },
    {
      "cell_type": "markdown",
      "metadata": {
        "id": "EvhfB8Vc_i6-"
      },
      "source": [
        "# Tujuan Bisnis"
      ]
    },
    {
      "cell_type": "markdown",
      "metadata": {
        "id": "n0o-jB5FA9LS"
      },
      "source": [
        "Tujuan dari eksplorasi data ini adalah untuk memprediksi KUALITAS dari Wine sesuai dengan data yang ada"
      ]
    },
    {
      "cell_type": "markdown",
      "metadata": {
        "id": "wVsy_aj6_o5n"
      },
      "source": [
        "# Analisa Pendekatan"
      ]
    },
    {
      "cell_type": "markdown",
      "metadata": {
        "id": "P0Q9TncaBA4k"
      },
      "source": [
        "Analisa dari data yang telah terkumpul menggunakan Linear Regression"
      ]
    },
    {
      "cell_type": "markdown",
      "metadata": {
        "id": "C6fpMfig_uR1"
      },
      "source": [
        "# Pengumpulan Data"
      ]
    },
    {
      "cell_type": "markdown",
      "metadata": {
        "id": "AbZSTSyUArW2"
      },
      "source": [
        "Dataset ini kami dapatkan dari situs https://www.kaggle.com/\r\n",
        "\r\n",
        "Dataset ini berisi:\r\n",
        "1. fixed acidity : asan tetap\r\n",
        "2. volatile acidity : tingkat volatile acidity\r\n",
        "3. citric acid : tingkat asam sitrat\r\n",
        "4. residual sugar : tingkat residu gula\r\n",
        "5. chlorides : tingkat klorida\r\n",
        "6. free sulfur dioxide : tingkat kebasan sulfur dioksida\r\n",
        "7. total sulfur dioxide : total kadar sulfur dioksida\r\n",
        "8. density : Masa jenis \r\n",
        "9. pH : tingkat pH\r\n",
        "10. sulphates : tingkat sulfat\r\n",
        "11. alcohol : tingkat alkohol\r\n",
        "12. quality : kualitas \r\n",
        "\r\n"
      ]
    },
    {
      "cell_type": "markdown",
      "metadata": {
        "id": "oyvtodZC_ycn"
      },
      "source": [
        "# Pemahaman Data"
      ]
    },
    {
      "cell_type": "code",
      "metadata": {
        "id": "KGMIkDAQa-Nm"
      },
      "source": [
        "# Import di library pyhton\r\n",
        "import pandas as pd\r\n",
        "import seaborn as sns\r\n",
        "import matplotlib.pyplot as plt\r\n",
        "from sklearn.ensemble import RandomForestClassifier\r\n",
        "from sklearn.svm import SVC\r\n",
        "from sklearn.linear_model import SGDClassifier\r\n",
        "from sklearn.metrics import confusion_matrix, classification_report\r\n",
        "from sklearn.preprocessing import StandardScaler, LabelEncoder\r\n",
        "from sklearn.model_selection import train_test_split, GridSearchCV, cross_val_score\r\n",
        "%matplotlib inline"
      ],
      "execution_count": null,
      "outputs": []
    },
    {
      "cell_type": "code",
      "metadata": {
        "id": "ujm1inwcbNv7"
      },
      "source": [
        "url = 'https://raw.githubusercontent.com/naufalzulfikar/projek/main/winequality-red.csv'\r\n",
        "df = pd.read_csv(url)"
      ],
      "execution_count": null,
      "outputs": []
    },
    {
      "cell_type": "code",
      "metadata": {
        "colab": {
          "base_uri": "https://localhost:8080/",
          "height": 204
        },
        "id": "2QNsU1HabdaF",
        "outputId": "72af9067-ed44-443c-c11a-7506e91dfdfa"
      },
      "source": [
        "df.head()"
      ],
      "execution_count": null,
      "outputs": [
        {
          "output_type": "execute_result",
          "data": {
            "text/html": [
              "<div>\n",
              "<style scoped>\n",
              "    .dataframe tbody tr th:only-of-type {\n",
              "        vertical-align: middle;\n",
              "    }\n",
              "\n",
              "    .dataframe tbody tr th {\n",
              "        vertical-align: top;\n",
              "    }\n",
              "\n",
              "    .dataframe thead th {\n",
              "        text-align: right;\n",
              "    }\n",
              "</style>\n",
              "<table border=\"1\" class=\"dataframe\">\n",
              "  <thead>\n",
              "    <tr style=\"text-align: right;\">\n",
              "      <th></th>\n",
              "      <th>fixed acidity</th>\n",
              "      <th>volatile acidity</th>\n",
              "      <th>citric acid</th>\n",
              "      <th>residual sugar</th>\n",
              "      <th>chlorides</th>\n",
              "      <th>free sulfur dioxide</th>\n",
              "      <th>total sulfur dioxide</th>\n",
              "      <th>density</th>\n",
              "      <th>pH</th>\n",
              "      <th>sulphates</th>\n",
              "      <th>alcohol</th>\n",
              "      <th>quality</th>\n",
              "    </tr>\n",
              "  </thead>\n",
              "  <tbody>\n",
              "    <tr>\n",
              "      <th>0</th>\n",
              "      <td>7.4</td>\n",
              "      <td>0.70</td>\n",
              "      <td>0.00</td>\n",
              "      <td>1.9</td>\n",
              "      <td>0.076</td>\n",
              "      <td>11.0</td>\n",
              "      <td>34.0</td>\n",
              "      <td>0.9978</td>\n",
              "      <td>3.51</td>\n",
              "      <td>0.56</td>\n",
              "      <td>9.4</td>\n",
              "      <td>5</td>\n",
              "    </tr>\n",
              "    <tr>\n",
              "      <th>1</th>\n",
              "      <td>7.8</td>\n",
              "      <td>0.88</td>\n",
              "      <td>0.00</td>\n",
              "      <td>2.6</td>\n",
              "      <td>0.098</td>\n",
              "      <td>25.0</td>\n",
              "      <td>67.0</td>\n",
              "      <td>0.9968</td>\n",
              "      <td>3.20</td>\n",
              "      <td>0.68</td>\n",
              "      <td>9.8</td>\n",
              "      <td>5</td>\n",
              "    </tr>\n",
              "    <tr>\n",
              "      <th>2</th>\n",
              "      <td>7.8</td>\n",
              "      <td>0.76</td>\n",
              "      <td>0.04</td>\n",
              "      <td>2.3</td>\n",
              "      <td>0.092</td>\n",
              "      <td>15.0</td>\n",
              "      <td>54.0</td>\n",
              "      <td>0.9970</td>\n",
              "      <td>3.26</td>\n",
              "      <td>0.65</td>\n",
              "      <td>9.8</td>\n",
              "      <td>5</td>\n",
              "    </tr>\n",
              "    <tr>\n",
              "      <th>3</th>\n",
              "      <td>11.2</td>\n",
              "      <td>0.28</td>\n",
              "      <td>0.56</td>\n",
              "      <td>1.9</td>\n",
              "      <td>0.075</td>\n",
              "      <td>17.0</td>\n",
              "      <td>60.0</td>\n",
              "      <td>0.9980</td>\n",
              "      <td>3.16</td>\n",
              "      <td>0.58</td>\n",
              "      <td>9.8</td>\n",
              "      <td>6</td>\n",
              "    </tr>\n",
              "    <tr>\n",
              "      <th>4</th>\n",
              "      <td>7.4</td>\n",
              "      <td>0.70</td>\n",
              "      <td>0.00</td>\n",
              "      <td>1.9</td>\n",
              "      <td>0.076</td>\n",
              "      <td>11.0</td>\n",
              "      <td>34.0</td>\n",
              "      <td>0.9978</td>\n",
              "      <td>3.51</td>\n",
              "      <td>0.56</td>\n",
              "      <td>9.4</td>\n",
              "      <td>5</td>\n",
              "    </tr>\n",
              "  </tbody>\n",
              "</table>\n",
              "</div>"
            ],
            "text/plain": [
              "   fixed acidity  volatile acidity  citric acid  ...  sulphates  alcohol  quality\n",
              "0            7.4              0.70         0.00  ...       0.56      9.4        5\n",
              "1            7.8              0.88         0.00  ...       0.68      9.8        5\n",
              "2            7.8              0.76         0.04  ...       0.65      9.8        5\n",
              "3           11.2              0.28         0.56  ...       0.58      9.8        6\n",
              "4            7.4              0.70         0.00  ...       0.56      9.4        5\n",
              "\n",
              "[5 rows x 12 columns]"
            ]
          },
          "metadata": {
            "tags": []
          },
          "execution_count": 3
        }
      ]
    },
    {
      "cell_type": "code",
      "metadata": {
        "colab": {
          "base_uri": "https://localhost:8080/"
        },
        "id": "8ahOshPfbstv",
        "outputId": "c510f29c-fbc3-46a7-8b35-98ca93211c2e"
      },
      "source": [
        "df.info()"
      ],
      "execution_count": null,
      "outputs": [
        {
          "output_type": "stream",
          "text": [
            "<class 'pandas.core.frame.DataFrame'>\n",
            "RangeIndex: 1599 entries, 0 to 1598\n",
            "Data columns (total 12 columns):\n",
            " #   Column                Non-Null Count  Dtype  \n",
            "---  ------                --------------  -----  \n",
            " 0   fixed acidity         1599 non-null   float64\n",
            " 1   volatile acidity      1599 non-null   float64\n",
            " 2   citric acid           1599 non-null   float64\n",
            " 3   residual sugar        1599 non-null   float64\n",
            " 4   chlorides             1599 non-null   float64\n",
            " 5   free sulfur dioxide   1599 non-null   float64\n",
            " 6   total sulfur dioxide  1599 non-null   float64\n",
            " 7   density               1599 non-null   float64\n",
            " 8   pH                    1599 non-null   float64\n",
            " 9   sulphates             1599 non-null   float64\n",
            " 10  alcohol               1599 non-null   float64\n",
            " 11  quality               1599 non-null   int64  \n",
            "dtypes: float64(11), int64(1)\n",
            "memory usage: 150.0 KB\n"
          ],
          "name": "stdout"
        }
      ]
    },
    {
      "cell_type": "markdown",
      "metadata": {
        "id": "UkV25Xlx_4bn"
      },
      "source": [
        "# Eksplorasi Data"
      ]
    },
    {
      "cell_type": "code",
      "metadata": {
        "colab": {
          "base_uri": "https://localhost:8080/",
          "height": 405
        },
        "id": "-9pnqkNPb1kH",
        "outputId": "9cb2a03c-ce08-4ee4-844a-745abaa8a93f"
      },
      "source": [
        "# Fixed Acidity tidak memberikan spesifikasi apapun untuk mengklasifikasikan kualitas\r\n",
        "fig = plt.figure(figsize = (10,6))\r\n",
        "sns.barplot(x = 'quality', y = 'fixed acidity', data = df)"
      ],
      "execution_count": null,
      "outputs": [
        {
          "output_type": "execute_result",
          "data": {
            "text/plain": [
              "<matplotlib.axes._subplots.AxesSubplot at 0x7f4767a3b080>"
            ]
          },
          "metadata": {
            "tags": []
          },
          "execution_count": 6
        },
        {
          "output_type": "display_data",
          "data": {
            "image/png": "[encoded data removed]",
            "text/plain": [
              "<Figure size 720x432 with 1 Axes>"
            ]
          },
          "metadata": {
            "tags": [],
            "needs_background": "light"
          }
        }
      ]
    },
    {
      "cell_type": "code",
      "metadata": {
        "colab": {
          "base_uri": "https://localhost:8080/",
          "height": 405
        },
        "id": "odB0eAJncAF8",
        "outputId": "0db1f2fe-6b69-4fe2-a173-24f56fc2a4eb"
      },
      "source": [
        "# Di sini kita melihat bahwa tren yang  menurun dalam volatile acidity karena kita meningkatkan kualitasnya\r\n",
        "fig = plt.figure(figsize = (10,6))\r\n",
        "sns.barplot(x = 'quality', y = 'volatile acidity', data = df)"
      ],
      "execution_count": null,
      "outputs": [
        {
          "output_type": "execute_result",
          "data": {
            "text/plain": [
              "<matplotlib.axes._subplots.AxesSubplot at 0x7f4742caecf8>"
            ]
          },
          "metadata": {
            "tags": []
          },
          "execution_count": 7
        },
        {
          "output_type": "display_data",
          "data": {
            "image/png": "[encoded data removed]",
            "text/plain": [
              "<Figure size 720x432 with 1 Axes>"
            ]
          },
          "metadata": {
            "tags": [],
            "needs_background": "light"
          }
        }
      ]
    },
    {
      "cell_type": "code",
      "metadata": {
        "colab": {
          "base_uri": "https://localhost:8080/",
          "height": 405
        },
        "id": "UCGeKWO6csQA",
        "outputId": "163fa781-6ab8-4914-d563-8239c9f47092"
      },
      "source": [
        "# Komposisi asam sitrat semakin tinggi seiring semakin tinggi kualitas anggur\r\n",
        "fig = plt.figure(figsize = (10,6))\r\n",
        "sns.barplot(x = 'quality', y = 'citric acid', data = df)"
      ],
      "execution_count": null,
      "outputs": [
        {
          "output_type": "execute_result",
          "data": {
            "text/plain": [
              "<matplotlib.axes._subplots.AxesSubplot at 0x7f47425a4630>"
            ]
          },
          "metadata": {
            "tags": []
          },
          "execution_count": 8
        },
        {
          "output_type": "display_data",
          "data": {
            "image/png": "[encoded data removed]",
            "text/plain": [
              "<Figure size 720x432 with 1 Axes>"
            ]
          },
          "metadata": {
            "tags": [],
            "needs_background": "light"
          }
        }
      ]
    },
    {
      "cell_type": "code",
      "metadata": {
        "colab": {
          "base_uri": "https://localhost:8080/",
          "height": 405
        },
        "id": "uNGOaDqac1DE",
        "outputId": "4d80c8cc-d149-424c-bfcb-120320279730"
      },
      "source": [
        "fig = plt.figure(figsize = (10,6))\r\n",
        "sns.barplot(x = 'quality', y = 'residual sugar', data = df)"
      ],
      "execution_count": null,
      "outputs": [
        {
          "output_type": "execute_result",
          "data": {
            "text/plain": [
              "<matplotlib.axes._subplots.AxesSubplot at 0x7f474249f3c8>"
            ]
          },
          "metadata": {
            "tags": []
          },
          "execution_count": 9
        },
        {
          "output_type": "display_data",
          "data": {
            "image/png": "[encoded data removed]",
            "text/plain": [
              "<Figure size 720x432 with 1 Axes>"
            ]
          },
          "metadata": {
            "tags": [],
            "needs_background": "light"
          }
        }
      ]
    },
    {
      "cell_type": "code",
      "metadata": {
        "colab": {
          "base_uri": "https://localhost:8080/",
          "height": 405
        },
        "id": "JJHhezD2c6mb",
        "outputId": "197b6bdf-e3d6-43df-cade-2f1f14bfb369"
      },
      "source": [
        "# Komposisi klorida juga turun karena kualitas anggur semakin tinggi\r\n",
        "fig = plt.figure(figsize = (10,6))\r\n",
        "sns.barplot(x = 'quality', y = 'chlorides', data = df)"
      ],
      "execution_count": null,
      "outputs": [
        {
          "output_type": "execute_result",
          "data": {
            "text/plain": [
              "<matplotlib.axes._subplots.AxesSubplot at 0x7f47424f3ac8>"
            ]
          },
          "metadata": {
            "tags": []
          },
          "execution_count": 10
        },
        {
          "output_type": "display_data",
          "data": {
            "image/png": "[encoded data removed]",
            "text/plain": [
              "<Figure size 720x432 with 1 Axes>"
            ]
          },
          "metadata": {
            "tags": [],
            "needs_background": "light"
          }
        }
      ]
    },
    {
      "cell_type": "code",
      "metadata": {
        "colab": {
          "base_uri": "https://localhost:8080/",
          "height": 405
        },
        "id": "Kso11gzGdHAY",
        "outputId": "2508f84c-41e1-4e2a-cef2-4b411d4b5491"
      },
      "source": [
        "fig = plt.figure(figsize = (10,6))\r\n",
        "sns.barplot(x = 'quality', y = 'free sulfur dioxide', data = df)"
      ],
      "execution_count": null,
      "outputs": [
        {
          "output_type": "execute_result",
          "data": {
            "text/plain": [
              "<matplotlib.axes._subplots.AxesSubplot at 0x7f47423a3fd0>"
            ]
          },
          "metadata": {
            "tags": []
          },
          "execution_count": 11
        },
        {
          "output_type": "display_data",
          "data": {
            "image/png": "[encoded data removed]",
            "text/plain": [
              "<Figure size 720x432 with 1 Axes>"
            ]
          },
          "metadata": {
            "tags": [],
            "needs_background": "light"
          }
        }
      ]
    },
    {
      "cell_type": "code",
      "metadata": {
        "colab": {
          "base_uri": "https://localhost:8080/",
          "height": 405
        },
        "id": "lLgVOmHKdJ3S",
        "outputId": "d1152085-b601-4c09-a1c6-01bc9addaf89"
      },
      "source": [
        "fig = plt.figure(figsize = (10,6))\r\n",
        "sns.barplot(x = 'quality', y = 'total sulfur dioxide', data = df)"
      ],
      "execution_count": null,
      "outputs": [
        {
          "output_type": "execute_result",
          "data": {
            "text/plain": [
              "<matplotlib.axes._subplots.AxesSubplot at 0x7f4742337748>"
            ]
          },
          "metadata": {
            "tags": []
          },
          "execution_count": 13
        },
        {
          "output_type": "display_data",
          "data": {
            "image/png": "[encoded data removed]",
            "text/plain": [
              "<Figure size 720x432 with 1 Axes>"
            ]
          },
          "metadata": {
            "tags": [],
            "needs_background": "light"
          }
        }
      ]
    },
    {
      "cell_type": "code",
      "metadata": {
        "colab": {
          "base_uri": "https://localhost:8080/",
          "height": 405
        },
        "id": "J0MFsZxudPHZ",
        "outputId": "10a2b8f6-dec3-4ac0-8a41-8959d7243054"
      },
      "source": [
        "# Kadar sulfat semakin tinggi seiring dengan kualitas wine\r\n",
        "fig = plt.figure(figsize = (10,6))\r\n",
        "sns.barplot(x = 'quality', y = 'sulphates', data = df)"
      ],
      "execution_count": null,
      "outputs": [
        {
          "output_type": "execute_result",
          "data": {
            "text/plain": [
              "<matplotlib.axes._subplots.AxesSubplot at 0x7f474230af60>"
            ]
          },
          "metadata": {
            "tags": []
          },
          "execution_count": 14
        },
        {
          "output_type": "display_data",
          "data": {
            "image/png": "[encoded data removed]",
            "text/plain": [
              "<Figure size 720x432 with 1 Axes>"
            ]
          },
          "metadata": {
            "tags": [],
            "needs_background": "light"
          }
        }
      ]
    },
    {
      "cell_type": "code",
      "metadata": {
        "colab": {
          "base_uri": "https://localhost:8080/",
          "height": 405
        },
        "id": "UbmxBvQYdYbW",
        "outputId": "737b3fc3-55bc-4c00-99e5-4df6fe13c129"
      },
      "source": [
        "# Tingkat alkohol juga meningkat seiring dengan peningkatan kualitas anggur\r\n",
        "fig = plt.figure(figsize = (10,6))\r\n",
        "sns.barplot(x = 'quality', y = 'alcohol', data = df)"
      ],
      "execution_count": null,
      "outputs": [
        {
          "output_type": "execute_result",
          "data": {
            "text/plain": [
              "<matplotlib.axes._subplots.AxesSubplot at 0x7f4742239b70>"
            ]
          },
          "metadata": {
            "tags": []
          },
          "execution_count": 15
        },
        {
          "output_type": "display_data",
          "data": {
            "image/png": "[encoded data removed]",
            "text/plain": [
              "<Figure size 720x432 with 1 Axes>"
            ]
          },
          "metadata": {
            "tags": [],
            "needs_background": "light"
          }
        }
      ]
    },
    {
      "cell_type": "markdown",
      "metadata": {
        "id": "WELmjalS_65g"
      },
      "source": [
        "# Pemodelan Data"
      ]
    },
    {
      "cell_type": "code",
      "metadata": {
        "id": "nFyLVr_2dl-b"
      },
      "source": [
        "# Membuat klasifikasi biner untuk variabel respon.\r\n",
        "# Membagi wine sebagai yang baik dan yang buruk dengan memberikan batasan kualitas\r\n",
        "bins = (2, 6.5, 8)\r\n",
        "group_names = ['bad', 'good']\r\n",
        "df['quality'] = pd.cut(df['quality'], bins = bins, labels = group_names)"
      ],
      "execution_count": null,
      "outputs": []
    },
    {
      "cell_type": "code",
      "metadata": {
        "id": "rzjNExGieClP"
      },
      "source": [
        "# Menetapkan label ke variabel kualitas\r\n",
        "label_quality = LabelEncoder()"
      ],
      "execution_count": null,
      "outputs": []
    },
    {
      "cell_type": "code",
      "metadata": {
        "id": "DnlMosJeeM3N"
      },
      "source": [
        "df['quality'] = label_quality.fit_transform(df['quality'])"
      ],
      "execution_count": null,
      "outputs": []
    },
    {
      "cell_type": "code",
      "metadata": {
        "colab": {
          "base_uri": "https://localhost:8080/"
        },
        "id": "CZY7m8VDeXrt",
        "outputId": "c8027ba6-a346-4ae5-e5a7-017dc1c1cedd"
      },
      "source": [
        "df['quality'].value_counts()"
      ],
      "execution_count": null,
      "outputs": [
        {
          "output_type": "execute_result",
          "data": {
            "text/plain": [
              "0    1382\n",
              "1     217\n",
              "Name: quality, dtype: int64"
            ]
          },
          "metadata": {
            "tags": []
          },
          "execution_count": 21
        }
      ]
    },
    {
      "cell_type": "code",
      "metadata": {
        "colab": {
          "base_uri": "https://localhost:8080/",
          "height": 350
        },
        "id": "Ryd_JPv1eegv",
        "outputId": "384d5f44-5fca-4436-9bca-ce28f0be0eb5"
      },
      "source": [
        "sns.countplot(df['quality'])"
      ],
      "execution_count": null,
      "outputs": [
        {
          "output_type": "stream",
          "text": [
            "/usr/local/lib/python3.6/dist-packages/seaborn/_decorators.py:43: FutureWarning: Pass the following variable as a keyword arg: x. From version 0.12, the only valid positional argument will be `data`, and passing other arguments without an explicit keyword will result in an error or misinterpretation.\n",
            "  FutureWarning\n"
          ],
          "name": "stderr"
        },
        {
          "output_type": "execute_result",
          "data": {
            "text/plain": [
              "<matplotlib.axes._subplots.AxesSubplot at 0x7f4742caea90>"
            ]
          },
          "metadata": {
            "tags": []
          },
          "execution_count": 22
        },
        {
          "output_type": "display_data",
          "data": {
            "image/png": "[encoded data removed]",
            "text/plain": [
              "<Figure size 432x288 with 1 Axes>"
            ]
          },
          "metadata": {
            "tags": [],
            "needs_background": "light"
          }
        }
      ]
    },
    {
      "cell_type": "code",
      "metadata": {
        "id": "KIx3jowTekut"
      },
      "source": [
        "# Pisahkan dataset sebagai variabel respon dan variabel fitur\r\n",
        "X = df.drop('quality', axis = 1)\r\n",
        "y = df['quality']"
      ],
      "execution_count": null,
      "outputs": []
    },
    {
      "cell_type": "code",
      "metadata": {
        "id": "E6xtyxHxetMJ"
      },
      "source": [
        "X_train, X_test, y_train, y_test = train_test_split(X, y, test_size = 0.2, random_state = 42)"
      ],
      "execution_count": null,
      "outputs": []
    },
    {
      "cell_type": "code",
      "metadata": {
        "id": "S0F9gQ5UexwO"
      },
      "source": [
        "sc = StandardScaler()"
      ],
      "execution_count": null,
      "outputs": []
    },
    {
      "cell_type": "code",
      "metadata": {
        "id": "EAAYkNl2e1dk"
      },
      "source": [
        "X_train = sc.fit_transform(X_train)\r\n",
        "X_test = sc.fit_transform(X_test)"
      ],
      "execution_count": null,
      "outputs": []
    },
    {
      "cell_type": "code",
      "metadata": {
        "id": "QqepV2C-e3H2"
      },
      "source": [
        "rfc = RandomForestClassifier(n_estimators=200)\r\n",
        "rfc.fit(X_train, y_train)\r\n",
        "pred_rfc = rfc.predict(X_test)"
      ],
      "execution_count": null,
      "outputs": []
    },
    {
      "cell_type": "code",
      "metadata": {
        "colab": {
          "base_uri": "https://localhost:8080/"
        },
        "id": "aZBfy3uCe7ZN",
        "outputId": "7adb4412-decc-4855-f677-551ec475ee5f"
      },
      "source": [
        "print(classification_report(y_test, pred_rfc))"
      ],
      "execution_count": null,
      "outputs": [
        {
          "output_type": "stream",
          "text": [
            "              precision    recall  f1-score   support\n",
            "\n",
            "           0       0.90      0.97      0.93       273\n",
            "           1       0.67      0.38      0.49        47\n",
            "\n",
            "    accuracy                           0.88       320\n",
            "   macro avg       0.78      0.68      0.71       320\n",
            "weighted avg       0.87      0.88      0.87       320\n",
            "\n"
          ],
          "name": "stdout"
        }
      ]
    },
    {
      "cell_type": "code",
      "metadata": {
        "colab": {
          "base_uri": "https://localhost:8080/"
        },
        "id": "OBdS7gVBfBFk",
        "outputId": "d5d7aa2e-802a-43dd-989d-60e5f6454e94"
      },
      "source": [
        "print(confusion_matrix(y_test, pred_rfc))\r\n"
      ],
      "execution_count": null,
      "outputs": [
        {
          "output_type": "stream",
          "text": [
            "[[264   9]\n",
            " [ 29  18]]\n"
          ],
          "name": "stdout"
        }
      ]
    },
    {
      "cell_type": "code",
      "metadata": {
        "id": "_9W2Md1VfJeG"
      },
      "source": [
        "sgd = SGDClassifier(penalty=None)\r\n",
        "sgd.fit(X_train, y_train)\r\n",
        "pred_sgd = sgd.predict(X_test)"
      ],
      "execution_count": null,
      "outputs": []
    },
    {
      "cell_type": "code",
      "metadata": {
        "colab": {
          "base_uri": "https://localhost:8080/"
        },
        "id": "5ehLzqfVfN21",
        "outputId": "90880e6e-2b70-4ba3-c90b-a1ab33419f27"
      },
      "source": [
        "print(classification_report(y_test, pred_sgd))"
      ],
      "execution_count": null,
      "outputs": [
        {
          "output_type": "stream",
          "text": [
            "              precision    recall  f1-score   support\n",
            "\n",
            "           0       0.88      0.91      0.89       273\n",
            "           1       0.33      0.26      0.29        47\n",
            "\n",
            "    accuracy                           0.82       320\n",
            "   macro avg       0.61      0.58      0.59       320\n",
            "weighted avg       0.80      0.82      0.81       320\n",
            "\n"
          ],
          "name": "stdout"
        }
      ]
    },
    {
      "cell_type": "code",
      "metadata": {
        "colab": {
          "base_uri": "https://localhost:8080/"
        },
        "id": "NBkkArhEfQN2",
        "outputId": "87f08466-976b-4a5b-d3ff-dd4ba7c38c01"
      },
      "source": [
        "print(confusion_matrix(y_test, pred_sgd))"
      ],
      "execution_count": null,
      "outputs": [
        {
          "output_type": "stream",
          "text": [
            "[[249  24]\n",
            " [ 35  12]]\n"
          ],
          "name": "stdout"
        }
      ]
    },
    {
      "cell_type": "code",
      "metadata": {
        "id": "VZTzINdMfSiT"
      },
      "source": [
        "svc = SVC()\r\n",
        "svc.fit(X_train, y_train)\r\n",
        "pred_svc = svc.predict(X_test)"
      ],
      "execution_count": null,
      "outputs": []
    },
    {
      "cell_type": "code",
      "metadata": {
        "colab": {
          "base_uri": "https://localhost:8080/"
        },
        "id": "sS1WX5C0fUb1",
        "outputId": "8f9a2940-6b09-4784-97fb-4f4ff93c0d76"
      },
      "source": [
        "print(classification_report(y_test, pred_svc))"
      ],
      "execution_count": null,
      "outputs": [
        {
          "output_type": "stream",
          "text": [
            "              precision    recall  f1-score   support\n",
            "\n",
            "           0       0.88      0.98      0.93       273\n",
            "           1       0.71      0.26      0.37        47\n",
            "\n",
            "    accuracy                           0.88       320\n",
            "   macro avg       0.80      0.62      0.65       320\n",
            "weighted avg       0.86      0.88      0.85       320\n",
            "\n"
          ],
          "name": "stdout"
        }
      ]
    },
    {
      "cell_type": "markdown",
      "metadata": {
        "id": "DywJWiRZfmBs"
      },
      "source": [
        "# Evaluasi Data\r\n"
      ]
    },
    {
      "cell_type": "code",
      "metadata": {
        "id": "F04FS6KYftLV"
      },
      "source": [
        "param = {\r\n",
        "    'C': [0.1,0.8,0.9,1,1.1,1.2,1.3,1.4],\r\n",
        "    'kernel':['linear', 'rbf'],\r\n",
        "    'gamma' :[0.1,0.8,0.9,1,1.1,1.2,1.3,1.4]\r\n",
        "}\r\n",
        "grid_svc = GridSearchCV(svc, param_grid=param, scoring='accuracy', cv=10)"
      ],
      "execution_count": null,
      "outputs": []
    },
    {
      "cell_type": "code",
      "metadata": {
        "colab": {
          "base_uri": "https://localhost:8080/"
        },
        "id": "2v-IiNV6fz_0",
        "outputId": "7292f6bf-b817-4406-d15f-d356ff0af745"
      },
      "source": [
        "grid_svc.fit(X_train, y_train)"
      ],
      "execution_count": null,
      "outputs": [
        {
          "output_type": "execute_result",
          "data": {
            "text/plain": [
              "GridSearchCV(cv=10, error_score=nan,\n",
              "             estimator=SVC(C=1.0, break_ties=False, cache_size=200,\n",
              "                           class_weight=None, coef0=0.0,\n",
              "                           decision_function_shape='ovr', degree=3,\n",
              "                           gamma='scale', kernel='rbf', max_iter=-1,\n",
              "                           probability=False, random_state=None, shrinking=True,\n",
              "                           tol=0.001, verbose=False),\n",
              "             iid='deprecated', n_jobs=None,\n",
              "             param_grid={'C': [0.1, 0.8, 0.9, 1, 1.1, 1.2, 1.3, 1.4],\n",
              "                         'gamma': [0.1, 0.8, 0.9, 1, 1.1, 1.2, 1.3, 1.4],\n",
              "                         'kernel': ['linear', 'rbf']},\n",
              "             pre_dispatch='2*n_jobs', refit=True, return_train_score=False,\n",
              "             scoring='accuracy', verbose=0)"
            ]
          },
          "metadata": {
            "tags": []
          },
          "execution_count": 38
        }
      ]
    },
    {
      "cell_type": "code",
      "metadata": {
        "colab": {
          "base_uri": "https://localhost:8080/"
        },
        "id": "_nkNIwkhgGO6",
        "outputId": "cf2ea39b-528c-4691-e0ea-a4bf59f804ba"
      },
      "source": [
        "grid_svc.best_params_"
      ],
      "execution_count": null,
      "outputs": [
        {
          "output_type": "execute_result",
          "data": {
            "text/plain": [
              "{'C': 1.2, 'gamma': 0.9, 'kernel': 'rbf'}"
            ]
          },
          "metadata": {
            "tags": []
          },
          "execution_count": 39
        }
      ]
    },
    {
      "cell_type": "code",
      "metadata": {
        "colab": {
          "base_uri": "https://localhost:8080/"
        },
        "id": "YbtwB747gIeS",
        "outputId": "36e31465-adc6-4ffd-94ed-0d75a6ac6b8c"
      },
      "source": [
        "svc2 = SVC(C = 1.2, gamma =  0.9, kernel= 'rbf')\r\n",
        "svc2.fit(X_train, y_train)\r\n",
        "pred_svc2 = svc2.predict(X_test)\r\n",
        "print(classification_report(y_test, pred_svc2))"
      ],
      "execution_count": null,
      "outputs": [
        {
          "output_type": "stream",
          "text": [
            "              precision    recall  f1-score   support\n",
            "\n",
            "           0       0.90      0.99      0.94       273\n",
            "           1       0.89      0.34      0.49        47\n",
            "\n",
            "    accuracy                           0.90       320\n",
            "   macro avg       0.89      0.67      0.72       320\n",
            "weighted avg       0.90      0.90      0.88       320\n",
            "\n"
          ],
          "name": "stdout"
        }
      ]
    },
    {
      "cell_type": "code",
      "metadata": {
        "id": "01ahQYsvgNPu",
        "colab": {
          "base_uri": "https://localhost:8080/"
        },
        "outputId": "7fd0588e-5a82-4d2e-8502-24973a27d085"
      },
      "source": [
        "rfc_eval = cross_val_score(estimator = rfc, X = X_train, y = y_train, cv = 10)\r\n",
        "rfc_eval.mean()\r\n"
      ],
      "execution_count": null,
      "outputs": [
        {
          "output_type": "execute_result",
          "data": {
            "text/plain": [
              "0.9140255905511812"
            ]
          },
          "metadata": {
            "tags": []
          },
          "execution_count": 41
        }
      ]
    }
  ]
}