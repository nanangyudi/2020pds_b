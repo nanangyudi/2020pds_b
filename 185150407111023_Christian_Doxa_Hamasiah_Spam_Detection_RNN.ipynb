{
  "nbformat": 4,
  "nbformat_minor": 0,
  "metadata": {
    "colab": {
      "name": "185150407111023_Christian Doxa Hamasiah_Spam Detection RNN.ipynb",
      "provenance": [],
      "collapsed_sections": [],
      "include_colab_link": true
    },
    "kernelspec": {
      "name": "python3",
      "display_name": "Python 3"
    },
    "accelerator": "GPU"
  },
  "cells": [
    {
      "cell_type": "markdown",
      "metadata": {
        "id": "view-in-github",
        "colab_type": "text"
      },
      "source": [
        "<a href=\"https://colab.research.google.com/github/nanangyudi/2020pds_b/blob/main/185150407111023_Christian_Doxa_Hamasiah_Spam_Detection_RNN.ipynb\" target=\"_parent\"><img src=\"https://colab.research.google.com/assets/colab-badge.svg\" alt=\"Open In Colab\"/></a>"
      ]
    },
    {
      "cell_type": "markdown",
      "metadata": {
        "id": "N4DUZXaHPOY1"
      },
      "source": [
        "# Tujuan Bisnis\n",
        "Tujuan bisnis dari model yang dibuat adalah untuk mendeteksi sms yang diterima merupakan spam atau tidak yang nantinya bisa diintegrasikan menjadi sebuah middleware dalam sebuah aplikasi smartphone."
      ]
    },
    {
      "cell_type": "markdown",
      "metadata": {
        "id": "IP2WZACnccmb"
      },
      "source": [
        "# Analisa Pendekatan\n",
        "Pendekatan yang akan dilakukan adalah dengan mencari dataset sms yang memiliki label spam dan tidak. Kemudian akan diproses menggunakan natural language processing dan menggunakan neural network atau deep learning."
      ]
    },
    {
      "cell_type": "code",
      "metadata": {
        "id": "7ZjhmiCi66lb"
      },
      "source": [
        "import tensorflow as tf\n",
        "import numpy as np\n",
        "import pandas as pd\n",
        "import matplotlib.pyplot as plt\n",
        "from sklearn.model_selection import train_test_split\n",
        "\n",
        "from tensorflow.keras.preprocessing.text import Tokenizer\n",
        "from tensorflow.keras.preprocessing.sequence import pad_sequences\n",
        "from tensorflow.keras.layers import Dense, Input, GlobalMaxPooling1D\n",
        "from tensorflow.keras.layers import LSTM, Embedding\n",
        "from tensorflow.keras.models import Model"
      ],
      "execution_count": null,
      "outputs": []
    },
    {
      "cell_type": "markdown",
      "metadata": {
        "id": "qhPT_hBDcvzQ"
      },
      "source": [
        "# Pengumpulan Data\n",
        "Data dikumpulkan atau dapat diambil dari personal atau instansi yang menyediakan dataset yang sesuai apabila masih belum memiliki cukup data untuk dilakukan analisa. Pada kasus ini kita menggunakan dataset yang disediakan oleh Rahmi, F. and Wibisono, Y.  (2016) dengan lisensi:\n",
        "Lisensi: https://creativecommons.org/licenses/by-sa/4.0/\n",
        "versi: 1.0 (Agt 2018)"
      ]
    },
    {
      "cell_type": "code",
      "metadata": {
        "id": "9Shv7Pyi9iON",
        "colab": {
          "base_uri": "https://localhost:8080/"
        },
        "outputId": "40029e2e-7182-4dee-fb7a-93f54f21af86"
      },
      "source": [
        "!wget -nc -O spam.csv \"https://drive.google.com/uc?export=download&id=1cD85v6MvIP17MKexW7h5YBEenqEoGkqp\""
      ],
      "execution_count": null,
      "outputs": [
        {
          "output_type": "stream",
          "text": [
            "--2020-12-05 10:32:53--  https://drive.google.com/uc?export=download&id=1cD85v6MvIP17MKexW7h5YBEenqEoGkqp\n",
            "Resolving drive.google.com (drive.google.com)... 172.217.164.142, 2607:f8b0:4004:814::200e\n",
            "Connecting to drive.google.com (drive.google.com)|172.217.164.142|:443... connected.\n",
            "HTTP request sent, awaiting response... 302 Moved Temporarily\n",
            "Location: https://doc-0c-20-docs.googleusercontent.com/docs/securesc/ha0ro937gcuc7l7deffksulhg5h7mbp1/q3mvguqmlqjjk9s86pod4f18a5j8mo7v/1607164350000/04116330833260735955/*/1cD85v6MvIP17MKexW7h5YBEenqEoGkqp?e=download [following]\n",
            "Warning: wildcards not supported in HTTP.\n",
            "--2020-12-05 10:32:53--  https://doc-0c-20-docs.googleusercontent.com/docs/securesc/ha0ro937gcuc7l7deffksulhg5h7mbp1/q3mvguqmlqjjk9s86pod4f18a5j8mo7v/1607164350000/04116330833260735955/*/1cD85v6MvIP17MKexW7h5YBEenqEoGkqp?e=download\n",
            "Resolving doc-0c-20-docs.googleusercontent.com (doc-0c-20-docs.googleusercontent.com)... 172.217.15.97, 2607:f8b0:4004:811::2001\n",
            "Connecting to doc-0c-20-docs.googleusercontent.com (doc-0c-20-docs.googleusercontent.com)|172.217.15.97|:443... connected.\n",
            "HTTP request sent, awaiting response... 200 OK\n",
            "Length: 130038 (127K) [text/csv]\n",
            "Saving to: ‘spam.csv’\n",
            "\n",
            "spam.csv            100%[===================>] 126.99K  --.-KB/s    in 0.02s   \n",
            "\n",
            "2020-12-05 10:32:54 (5.50 MB/s) - ‘spam.csv’ saved [130038/130038]\n",
            "\n"
          ],
          "name": "stdout"
        }
      ]
    },
    {
      "cell_type": "code",
      "metadata": {
        "id": "2X3TBMqM7HBT"
      },
      "source": [
        "df = pd.read_csv('spam.csv', encoding='ISO-8859-1', quotechar='\"')"
      ],
      "execution_count": null,
      "outputs": []
    },
    {
      "cell_type": "markdown",
      "metadata": {
        "id": "rXWoI74Gdn3b"
      },
      "source": [
        "# Pemahaman terhadap data\n",
        "Data memiliki dua kolom yang pertama adalah konten sms yang kedua adalah label untuk sms tersebut secara berurut indeks pertama atau nol adalah sms normal, indeks kedu atau satu adalah sms penipuan, dan yang terakhir yang ketiga atau dua adalah sms promosi. Dua kolom atau fitur terakhir tersebut yang merupakan spam."
      ]
    },
    {
      "cell_type": "code",
      "metadata": {
        "id": "OliYFF7F9Rx9",
        "colab": {
          "base_uri": "https://localhost:8080/",
          "height": 204
        },
        "outputId": "d3e2d8af-f931-4841-bea5-3b8f9883c939"
      },
      "source": [
        "df.head()"
      ],
      "execution_count": null,
      "outputs": [
        {
          "output_type": "execute_result",
          "data": {
            "text/html": [
              "<div>\n",
              "<style scoped>\n",
              "    .dataframe tbody tr th:only-of-type {\n",
              "        vertical-align: middle;\n",
              "    }\n",
              "\n",
              "    .dataframe tbody tr th {\n",
              "        vertical-align: top;\n",
              "    }\n",
              "\n",
              "    .dataframe thead th {\n",
              "        text-align: right;\n",
              "    }\n",
              "</style>\n",
              "<table border=\"1\" class=\"dataframe\">\n",
              "  <thead>\n",
              "    <tr style=\"text-align: right;\">\n",
              "      <th></th>\n",
              "      <th>Teks</th>\n",
              "      <th>label</th>\n",
              "    </tr>\n",
              "  </thead>\n",
              "  <tbody>\n",
              "    <tr>\n",
              "      <th>0</th>\n",
              "      <td>[PROMO] Beli paket Flash mulai 1GB di MY TELKO...</td>\n",
              "      <td>2</td>\n",
              "    </tr>\n",
              "    <tr>\n",
              "      <th>1</th>\n",
              "      <td>2.5 GB/30 hari hanya Rp 35 Ribu Spesial buat A...</td>\n",
              "      <td>2</td>\n",
              "    </tr>\n",
              "    <tr>\n",
              "      <th>2</th>\n",
              "      <td>2016-07-08 11:47:11.Plg Yth, sisa kuota Flash ...</td>\n",
              "      <td>2</td>\n",
              "    </tr>\n",
              "    <tr>\n",
              "      <th>3</th>\n",
              "      <td>2016-08-07 11:29:47.Plg Yth, sisa kuota Flash ...</td>\n",
              "      <td>2</td>\n",
              "    </tr>\n",
              "    <tr>\n",
              "      <th>4</th>\n",
              "      <td>4.5GB/30 hari hanya Rp 55 Ribu Spesial buat an...</td>\n",
              "      <td>2</td>\n",
              "    </tr>\n",
              "  </tbody>\n",
              "</table>\n",
              "</div>"
            ],
            "text/plain": [
              "                                                Teks  label\n",
              "0  [PROMO] Beli paket Flash mulai 1GB di MY TELKO...      2\n",
              "1  2.5 GB/30 hari hanya Rp 35 Ribu Spesial buat A...      2\n",
              "2  2016-07-08 11:47:11.Plg Yth, sisa kuota Flash ...      2\n",
              "3  2016-08-07 11:29:47.Plg Yth, sisa kuota Flash ...      2\n",
              "4  4.5GB/30 hari hanya Rp 55 Ribu Spesial buat an...      2"
            ]
          },
          "metadata": {
            "tags": []
          },
          "execution_count": 4
        }
      ]
    },
    {
      "cell_type": "markdown",
      "metadata": {
        "id": "WCh06nBAeEjH"
      },
      "source": [
        "# Persiapan data\n",
        "Dilakukan renaming pada kolom teks menjadi data agar terminologinya menjadi jelas, kemudian kita lakukan mapping untuk indeks kedua dan ketiga menjadi bernilai satu karena kita akan melakukan binary classification sehingga kita jadikan satu antara sms penipuan dan sms promosi menjadi sms spam. Sedangkan untuk indeks pertama atau sms normal kita mapping kembali ke nilai nol atau bernilai bukan spam."
      ]
    },
    {
      "cell_type": "code",
      "metadata": {
        "id": "GNTZG5OW9u2b"
      },
      "source": [
        "# mengganti nama kolom agar menjadi jelas\n",
        "df.columns = ['data', 'labels']"
      ],
      "execution_count": null,
      "outputs": []
    },
    {
      "cell_type": "code",
      "metadata": {
        "id": "w2OLDmdi9yUH",
        "colab": {
          "base_uri": "https://localhost:8080/",
          "height": 204
        },
        "outputId": "ceac38f9-96e2-4162-df13-699f161cca81"
      },
      "source": [
        "df.head()"
      ],
      "execution_count": null,
      "outputs": [
        {
          "output_type": "execute_result",
          "data": {
            "text/html": [
              "<div>\n",
              "<style scoped>\n",
              "    .dataframe tbody tr th:only-of-type {\n",
              "        vertical-align: middle;\n",
              "    }\n",
              "\n",
              "    .dataframe tbody tr th {\n",
              "        vertical-align: top;\n",
              "    }\n",
              "\n",
              "    .dataframe thead th {\n",
              "        text-align: right;\n",
              "    }\n",
              "</style>\n",
              "<table border=\"1\" class=\"dataframe\">\n",
              "  <thead>\n",
              "    <tr style=\"text-align: right;\">\n",
              "      <th></th>\n",
              "      <th>data</th>\n",
              "      <th>labels</th>\n",
              "    </tr>\n",
              "  </thead>\n",
              "  <tbody>\n",
              "    <tr>\n",
              "      <th>0</th>\n",
              "      <td>[PROMO] Beli paket Flash mulai 1GB di MY TELKO...</td>\n",
              "      <td>2</td>\n",
              "    </tr>\n",
              "    <tr>\n",
              "      <th>1</th>\n",
              "      <td>2.5 GB/30 hari hanya Rp 35 Ribu Spesial buat A...</td>\n",
              "      <td>2</td>\n",
              "    </tr>\n",
              "    <tr>\n",
              "      <th>2</th>\n",
              "      <td>2016-07-08 11:47:11.Plg Yth, sisa kuota Flash ...</td>\n",
              "      <td>2</td>\n",
              "    </tr>\n",
              "    <tr>\n",
              "      <th>3</th>\n",
              "      <td>2016-08-07 11:29:47.Plg Yth, sisa kuota Flash ...</td>\n",
              "      <td>2</td>\n",
              "    </tr>\n",
              "    <tr>\n",
              "      <th>4</th>\n",
              "      <td>4.5GB/30 hari hanya Rp 55 Ribu Spesial buat an...</td>\n",
              "      <td>2</td>\n",
              "    </tr>\n",
              "  </tbody>\n",
              "</table>\n",
              "</div>"
            ],
            "text/plain": [
              "                                                data  labels\n",
              "0  [PROMO] Beli paket Flash mulai 1GB di MY TELKO...       2\n",
              "1  2.5 GB/30 hari hanya Rp 35 Ribu Spesial buat A...       2\n",
              "2  2016-07-08 11:47:11.Plg Yth, sisa kuota Flash ...       2\n",
              "3  2016-08-07 11:29:47.Plg Yth, sisa kuota Flash ...       2\n",
              "4  4.5GB/30 hari hanya Rp 55 Ribu Spesial buat an...       2"
            ]
          },
          "metadata": {
            "tags": []
          },
          "execution_count": 6
        }
      ]
    },
    {
      "cell_type": "code",
      "metadata": {
        "id": "mbEYhaMz9zkB"
      },
      "source": [
        "# membuat label binary sms penipuan dengan indeks 1 atau promosi dengan\n",
        "# dengan indeks 2 diberi label 1 karena merupakan spam\n",
        "df['b_labels'] = df['labels'].map({0:0, 1:1, 2:1})\n",
        "Y = df['b_labels'].values"
      ],
      "execution_count": null,
      "outputs": []
    },
    {
      "cell_type": "code",
      "metadata": {
        "colab": {
          "base_uri": "https://localhost:8080/",
          "height": 204
        },
        "id": "CEH6-XqPTTxd",
        "outputId": "62945956-119b-442c-8ccb-5dc82140e7aa"
      },
      "source": [
        "df.tail()"
      ],
      "execution_count": null,
      "outputs": [
        {
          "output_type": "execute_result",
          "data": {
            "text/html": [
              "<div>\n",
              "<style scoped>\n",
              "    .dataframe tbody tr th:only-of-type {\n",
              "        vertical-align: middle;\n",
              "    }\n",
              "\n",
              "    .dataframe tbody tr th {\n",
              "        vertical-align: top;\n",
              "    }\n",
              "\n",
              "    .dataframe thead th {\n",
              "        text-align: right;\n",
              "    }\n",
              "</style>\n",
              "<table border=\"1\" class=\"dataframe\">\n",
              "  <thead>\n",
              "    <tr style=\"text-align: right;\">\n",
              "      <th></th>\n",
              "      <th>data</th>\n",
              "      <th>labels</th>\n",
              "      <th>b_labels</th>\n",
              "    </tr>\n",
              "  </thead>\n",
              "  <tbody>\n",
              "    <tr>\n",
              "      <th>1138</th>\n",
              "      <td>Yooo sama2, oke nanti aku umumin di grup kelas</td>\n",
              "      <td>0</td>\n",
              "      <td>0</td>\n",
              "    </tr>\n",
              "    <tr>\n",
              "      <th>1139</th>\n",
              "      <td>ð sebelumnya ga ad nulis kerudung. Kirain w...</td>\n",
              "      <td>0</td>\n",
              "      <td>0</td>\n",
              "    </tr>\n",
              "    <tr>\n",
              "      <th>1140</th>\n",
              "      <td>Mba mau kirim 300 ya</td>\n",
              "      <td>0</td>\n",
              "      <td>0</td>\n",
              "    </tr>\n",
              "    <tr>\n",
              "      <th>1141</th>\n",
              "      <td>nama1  beaok bwrangkat pagi...mau cas atay tra...</td>\n",
              "      <td>0</td>\n",
              "      <td>0</td>\n",
              "    </tr>\n",
              "    <tr>\n",
              "      <th>1142</th>\n",
              "      <td>No bri atas nama kamu mana</td>\n",
              "      <td>0</td>\n",
              "      <td>0</td>\n",
              "    </tr>\n",
              "  </tbody>\n",
              "</table>\n",
              "</div>"
            ],
            "text/plain": [
              "                                                   data  labels  b_labels\n",
              "1138     Yooo sama2, oke nanti aku umumin di grup kelas       0         0\n",
              "1139  ð sebelumnya ga ad nulis kerudung. Kirain w...       0         0\n",
              "1140                               Mba mau kirim 300 ya       0         0\n",
              "1141  nama1  beaok bwrangkat pagi...mau cas atay tra...       0         0\n",
              "1142                         No bri atas nama kamu mana       0         0"
            ]
          },
          "metadata": {
            "tags": []
          },
          "execution_count": 8
        }
      ]
    },
    {
      "cell_type": "code",
      "metadata": {
        "id": "tKJU_DZU91bc"
      },
      "source": [
        "# membagi data menjadi data training dan testing dengan rasio 67% training dan 33% testing.\n",
        "df_train, df_test, Ytrain, Ytest = train_test_split(df['data'], Y, test_size=0.33)"
      ],
      "execution_count": null,
      "outputs": []
    },
    {
      "cell_type": "code",
      "metadata": {
        "id": "WIOc5vxr9_iJ"
      },
      "source": [
        "# mengubah kalimat menjadi urutan kata\n",
        "MAX_VOCAB_SIZE = 20000\n",
        "tokenizer = Tokenizer(num_words=MAX_VOCAB_SIZE)\n",
        "tokenizer.fit_on_texts(df_train)\n",
        "sequences_train = tokenizer.texts_to_sequences(df_train)\n",
        "sequences_test = tokenizer.texts_to_sequences(df_test)"
      ],
      "execution_count": null,
      "outputs": []
    },
    {
      "cell_type": "code",
      "metadata": {
        "id": "Zjyf7BGE-QZN",
        "colab": {
          "base_uri": "https://localhost:8080/"
        },
        "outputId": "dcce18c2-3bca-494b-9c66-7890dcb6827f"
      },
      "source": [
        "# melihat jumlah token unique / kata yang unik\n",
        "word2idx = tokenizer.word_index\n",
        "V = len(word2idx)\n",
        "print('Found %s unique tokens.' % V)"
      ],
      "execution_count": null,
      "outputs": [
        {
          "output_type": "stream",
          "text": [
            "Found 3907 unique tokens.\n"
          ],
          "name": "stdout"
        }
      ]
    },
    {
      "cell_type": "code",
      "metadata": {
        "id": "NP1W8Cf9-cPo",
        "colab": {
          "base_uri": "https://localhost:8080/"
        },
        "outputId": "b6f530ff-bd0c-4222-b729-35416889d0ac"
      },
      "source": [
        "# menggunakan pad sequences agar kita memiliki matriks N x T\n",
        "data_train = pad_sequences(sequences_train)\n",
        "print('Shape of data train tensor:', data_train.shape)\n",
        "\n",
        "# melihat panjang urutan\n",
        "T = data_train.shape[1]"
      ],
      "execution_count": null,
      "outputs": [
        {
          "output_type": "stream",
          "text": [
            "Shape of data train tensor: (765, 71)\n"
          ],
          "name": "stdout"
        }
      ]
    },
    {
      "cell_type": "code",
      "metadata": {
        "id": "b6He4SKO-qci",
        "colab": {
          "base_uri": "https://localhost:8080/"
        },
        "outputId": "dc81abcc-361d-4ba1-c44a-87a7545d8aa5"
      },
      "source": [
        "data_test = pad_sequences(sequences_test, maxlen=T)\n",
        "print('Shape of data test tensor:', data_test.shape)"
      ],
      "execution_count": null,
      "outputs": [
        {
          "output_type": "stream",
          "text": [
            "Shape of data test tensor: (378, 71)\n"
          ],
          "name": "stdout"
        }
      ]
    },
    {
      "cell_type": "markdown",
      "metadata": {
        "id": "3cP6qeYTfNyM"
      },
      "source": [
        "# Pemodelan Data\n",
        "Pemodelan dilakukan dengan menggunakan natural language processing menggunakan algoritma Recurrent Neural Network (RNN) atau jaringan neural yang bisa mengingat hasil sebelumnya dari setiap layernya. Dengan menggunakan Long Short Term Memory (LSTM) dan fungsi aktivasinya adalah sigmoid karena kita melakukan binary classification sehingga model dapat menghasilkan probabilitas antara 0 sampai 1 untuk spam atau tidak dengan 0 sebagai tidak spam dan 1 sebagai spam."
      ]
    },
    {
      "cell_type": "code",
      "metadata": {
        "id": "sFnA0eiI-2BM"
      },
      "source": [
        "# membuat model\n",
        "\n",
        "# Menentukan embedding dimensionality\n",
        "D = 20\n",
        "\n",
        "# Menentukan Hidden state dimensionality\n",
        "M = 15\n",
        "\n",
        "# Note: kita membuat ukuran embedding dimensionalitynya menjadi (V + 1) x D,\n",
        "# karena indeks pertama dimulai dari 1 dan tidak dari 0.\n",
        "# Sehingga indeks terakir dari matriks embedding adalah V,\n",
        "# Sehingga kita harus membuat ukuran V + 1.\n",
        "\n",
        "i = Input(shape=(T,))\n",
        "x = Embedding(V + 1, D)(i)\n",
        "x = LSTM(M, return_sequences=True)(x)\n",
        "x = GlobalMaxPooling1D()(x)\n",
        "x = Dense(1, activation='sigmoid')(x)\n",
        "\n",
        "model = Model(i, x)\n"
      ],
      "execution_count": null,
      "outputs": []
    },
    {
      "cell_type": "code",
      "metadata": {
        "id": "DyBTI9wr_cvG",
        "colab": {
          "base_uri": "https://localhost:8080/"
        },
        "outputId": "7edcc5cc-a309-40a7-93b3-3f3e8bb44c65"
      },
      "source": [
        "# Compile dan fit model dengan dataset\n",
        "model.compile(\n",
        "  loss='binary_crossentropy',\n",
        "  optimizer='adam',\n",
        "  metrics=['accuracy']\n",
        ")\n",
        "\n",
        "\n",
        "print('Training model...')\n",
        "r = model.fit(\n",
        "  data_train,\n",
        "  Ytrain,\n",
        "  epochs=10,\n",
        "  validation_data=(data_test, Ytest)\n",
        ")"
      ],
      "execution_count": null,
      "outputs": [
        {
          "output_type": "stream",
          "text": [
            "Training model...\n",
            "Epoch 1/10\n",
            "24/24 [==============================] - 1s 22ms/step - loss: 0.6910 - accuracy: 0.6980 - val_loss: 0.6853 - val_accuracy: 0.8704\n",
            "Epoch 2/10\n",
            "24/24 [==============================] - 0s 9ms/step - loss: 0.6777 - accuracy: 0.9190 - val_loss: 0.6690 - val_accuracy: 0.9550\n",
            "Epoch 3/10\n",
            "24/24 [==============================] - 0s 9ms/step - loss: 0.6441 - accuracy: 0.9804 - val_loss: 0.6147 - val_accuracy: 0.9444\n",
            "Epoch 4/10\n",
            "24/24 [==============================] - 0s 8ms/step - loss: 0.5021 - accuracy: 0.9778 - val_loss: 0.4066 - val_accuracy: 0.9074\n",
            "Epoch 5/10\n",
            "24/24 [==============================] - 0s 16ms/step - loss: 0.3841 - accuracy: 0.9176 - val_loss: 0.3505 - val_accuracy: 0.9577\n",
            "Epoch 6/10\n",
            "24/24 [==============================] - 0s 9ms/step - loss: 0.2664 - accuracy: 0.9882 - val_loss: 0.2923 - val_accuracy: 0.9630\n",
            "Epoch 7/10\n",
            "24/24 [==============================] - 0s 8ms/step - loss: 0.2005 - accuracy: 0.9908 - val_loss: 0.2452 - val_accuracy: 0.9603\n",
            "Epoch 8/10\n",
            "24/24 [==============================] - 0s 9ms/step - loss: 0.1488 - accuracy: 0.9948 - val_loss: 0.2118 - val_accuracy: 0.9630\n",
            "Epoch 9/10\n",
            "24/24 [==============================] - 0s 8ms/step - loss: 0.1111 - accuracy: 0.9974 - val_loss: 0.1889 - val_accuracy: 0.9683\n",
            "Epoch 10/10\n",
            "24/24 [==============================] - 0s 8ms/step - loss: 0.0836 - accuracy: 0.9987 - val_loss: 0.1756 - val_accuracy: 0.9630\n"
          ],
          "name": "stdout"
        }
      ]
    },
    {
      "cell_type": "markdown",
      "metadata": {
        "id": "xNMbeyW2h-oF"
      },
      "source": [
        "# Evaluasi Model\n",
        "Evaluasi dilakukan dengan cara melakukan plotting loss dan accuracy dari dataset training dan testing, dapat terlihat untuk loss per iterationnya untuk daata testingnya adalah sekitar 8% sedangkan untuk testingnya sekitar 17%, untuk akurasi data training adalah 99% kemudian untuk akurasi data testingnya adalah 96%, sehinggan model memiliki akurasi **96%** untuk data baru. Kemudian ketika dilakukan testing terhadap data sms yang sangat baru dengan tulisan \"Dapatkan saldo bermain sebesar Rp 100rb hanya dengan bayar Rp 75rb\", model menghasilkan nilai kepercayaan diri sebesar 94,9% bahwa sms tersebut merupakan spam."
      ]
    },
    {
      "cell_type": "code",
      "metadata": {
        "id": "j636obn9CE7A",
        "colab": {
          "base_uri": "https://localhost:8080/",
          "height": 282
        },
        "outputId": "4174d76f-6ed2-4951-9b7e-a39684eba766"
      },
      "source": [
        "# Plotting loss per iterasi\n",
        "import matplotlib.pyplot as plt\n",
        "plt.plot(r.history['loss'], label='loss')\n",
        "plt.plot(r.history['val_loss'], label='val_loss')\n",
        "plt.legend()"
      ],
      "execution_count": null,
      "outputs": [
        {
          "output_type": "execute_result",
          "data": {
            "text/plain": [
              "<matplotlib.legend.Legend at 0x7fbd861116a0>"
            ]
          },
          "metadata": {
            "tags": []
          },
          "execution_count": 31
        },
        {
          "output_type": "display_data",
          "data": {
            "image/png": "[encoded data removed]",
            "text/plain": [
              "<Figure size 432x288 with 1 Axes>"
            ]
          },
          "metadata": {
            "tags": [],
            "needs_background": "light"
          }
        }
      ]
    },
    {
      "cell_type": "code",
      "metadata": {
        "id": "QIK6WwUNCGlR",
        "colab": {
          "base_uri": "https://localhost:8080/",
          "height": 282
        },
        "outputId": "9eb988c3-9fd6-4067-d8c8-3ab220251447"
      },
      "source": [
        "# Plotting akurasi per iterasi\n",
        "plt.plot(r.history['accuracy'], label='acc')\n",
        "plt.plot(r.history['val_accuracy'], label='val_acc')\n",
        "plt.legend()"
      ],
      "execution_count": null,
      "outputs": [
        {
          "output_type": "execute_result",
          "data": {
            "text/plain": [
              "<matplotlib.legend.Legend at 0x7fbd8665e940>"
            ]
          },
          "metadata": {
            "tags": []
          },
          "execution_count": 32
        },
        {
          "output_type": "display_data",
          "data": {
            "image/png": "[encoded data removed]",
            "text/plain": [
              "<Figure size 432x288 with 1 Axes>"
            ]
          },
          "metadata": {
            "tags": [],
            "needs_background": "light"
          }
        }
      ]
    },
    {
      "cell_type": "code",
      "metadata": {
        "colab": {
          "base_uri": "https://localhost:8080/"
        },
        "id": "_7_37VqBQiS3",
        "outputId": "368e3dba-145b-4fb3-d9ca-1fdfa8afd85c"
      },
      "source": [
        "# testing model dengan data sms spam yang baru masuk\n",
        "sms_baru = ['Dapatkan saldo bermain sebesar Rp 100rb hanya dengan bayar Rp 75rb']\n",
        "testing = tokenizer.texts_to_sequences(sms_baru)\n",
        "data_testing = pad_sequences(testing, maxlen=T)\n",
        "pred = model.predict(data_testing)\n",
        "print(\"Hasil prediksi {}\".format(pred))"
      ],
      "execution_count": null,
      "outputs": [
        {
          "output_type": "stream",
          "text": [
            "Hasil prediksi [[0.9488037]]\n"
          ],
          "name": "stdout"
        }
      ]
    }
  ]
}