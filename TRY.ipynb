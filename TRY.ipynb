{
  "nbformat": 4,
  "nbformat_minor": 0,
  "metadata": {
    "colab": {
      "name": "TRY.ipynb",
      "provenance": [],
      "collapsed_sections": [],
      "include_colab_link": true
    },
    "kernelspec": {
      "display_name": "Python 3",
      "language": "python",
      "name": "python3"
    },
    "language_info": {
      "codemirror_mode": {
        "name": "ipython",
        "version": 3
      },
      "file_extension": ".py",
      "mimetype": "text/x-python",
      "name": "python",
      "nbconvert_exporter": "python",
      "pygments_lexer": "ipython3",
      "version": "3.9.0"
    }
  },
  "cells": [
    {
      "cell_type": "markdown",
      "metadata": {
        "id": "view-in-github",
        "colab_type": "text"
      },
      "source": [
        "<a href=\"https://colab.research.google.com/github/nanangyudi/2020pds_b/blob/main/TRY.ipynb\" target=\"_parent\"><img src=\"https://colab.research.google.com/assets/colab-badge.svg\" alt=\"Open In Colab\"/></a>"
      ]
    },
    {
      "cell_type": "markdown",
      "metadata": {
        "id": "iR5Vnk58q1FH"
      },
      "source": [
        "Tahapan metodologi sains data antara lain:\r\n",
        "\r\n",
        "+ deskripsi tujuan bisnis\r\n",
        "\r\n",
        "  Tujuan dari bisnis yang saya buat yaitu agar customer dapat mengetahui data laptop yang dibutuhkan baik dilihat dari company, merk laptop, ram laptop, CPU dan lain sebagainya sehingga bisa disesuaikan dengan budget yang dipunyai.\r\n",
        "\r\n",
        "+ analisa pendekatan yang akan dilakukan\r\n",
        "\r\n",
        "  Pendekatan saya gunakan adalah classification, Classification, yaitu menyimpulkan definisi-definisi karakteristik sebuah grup. \r\n",
        "\r\n",
        "+ pengumpulan data\r\n",
        "\r\n",
        "  Data yang diperoleh dan diolah didapat dari atapdata.ai\r\n",
        "\r\n",
        "+ pemahaman terhadap data yang telah dikumpulkan\r\n",
        "\r\n",
        "  Dalam data tersebut terdapat nama perusahaan, nama laptop, tipe produk, ukuran layar, resolusi layar, CPU, RAM, Ukuran memori laptop, GPU (Grapic Processesor Unit), operasi sistem laptop, berat laptop dan harga laptop dalam satuan euro.\r\n",
        "  \r\n",
        "+ persiapan data (eksplorasi data)\r\n",
        "\r\n",
        "  data  diakses menggunakan scripts python dengan menggunakan library pandas, numpy, matplotlib, dan seaborn.\r\n"
      ]
    },
    {
      "cell_type": "code",
      "metadata": {
        "colab": {
          "background_save": true,
          "resources": {
            "http://localhost:8080/nbextensions/google.colab/files.js": {
              "data": "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",
              "headers": [
                [
                  "content-type",
                  "application/javascript"
                ]
              ],
              "ok": true,
              "status": 200,
              "status_text": ""
            }
          },
          "base_uri": "https://localhost:8080/",
          "height": 38
        },
        "id": "CbM3Xk2oqxrV",
        "outputId": "26d9bee8-f58f-4ba7-f3aa-6d7f895aa5be"
      },
      "source": [
        "import pandas as fa\n",
        "import matplotlib.pyplot as fc\n",
        "import numpy as fd\n",
        "import io\n",
        "from google.colab import files\n",
        "sr=files.upload()"
      ],
      "execution_count": null,
      "outputs": [
        {
          "output_type": "display_data",
          "data": {
            "text/html": [
              "\n",
              "     <input type=\"file\" id=\"files-f62d379e-1834-44b1-959a-88e971a6113b\" name=\"files[]\" multiple disabled\n",
              "        style=\"border:none\" />\n",
              "     <output id=\"result-f62d379e-1834-44b1-959a-88e971a6113b\">\n",
              "      Upload widget is only available when the cell has been executed in the\n",
              "      current browser session. Please rerun this cell to enable.\n",
              "      </output>\n",
              "      <script src=\"/nbextensions/google.colab/files.js\"></script> "
            ],
            "text/plain": [
              "<IPython.core.display.HTML object>"
            ]
          },
          "metadata": {
            "tags": []
          }
        },
        {
          "output_type": "error",
          "ename": "TypeError",
          "evalue": "ignored",
          "traceback": [
            "\u001b[0;31m---------------------------------------------------------------------------\u001b[0m",
            "\u001b[0;31mTypeError\u001b[0m                                 Traceback (most recent call last)",
            "\u001b[0;32m<ipython-input-6-7978a326a7d4>\u001b[0m in \u001b[0;36m<module>\u001b[0;34m()\u001b[0m\n\u001b[1;32m      4\u001b[0m \u001b[0;32mimport\u001b[0m \u001b[0mio\u001b[0m\u001b[0;34m\u001b[0m\u001b[0;34m\u001b[0m\u001b[0m\n\u001b[1;32m      5\u001b[0m \u001b[0;32mfrom\u001b[0m \u001b[0mgoogle\u001b[0m\u001b[0;34m.\u001b[0m\u001b[0mcolab\u001b[0m \u001b[0;32mimport\u001b[0m \u001b[0mfiles\u001b[0m\u001b[0;34m\u001b[0m\u001b[0;34m\u001b[0m\u001b[0m\n\u001b[0;32m----> 6\u001b[0;31m \u001b[0msr\u001b[0m\u001b[0;34m=\u001b[0m\u001b[0mfiles\u001b[0m\u001b[0;34m.\u001b[0m\u001b[0mupload\u001b[0m\u001b[0;34m(\u001b[0m\u001b[0;34m)\u001b[0m\u001b[0;34m\u001b[0m\u001b[0;34m\u001b[0m\u001b[0m\n\u001b[0m",
            "\u001b[0;32m/usr/local/lib/python3.6/dist-packages/google/colab/files.py\u001b[0m in \u001b[0;36mupload\u001b[0;34m()\u001b[0m\n\u001b[1;32m     67\u001b[0m   \u001b[0mlocal_filenames\u001b[0m \u001b[0;34m=\u001b[0m \u001b[0mdict\u001b[0m\u001b[0;34m(\u001b[0m\u001b[0;34m)\u001b[0m\u001b[0;34m\u001b[0m\u001b[0;34m\u001b[0m\u001b[0m\n\u001b[1;32m     68\u001b[0m \u001b[0;34m\u001b[0m\u001b[0m\n\u001b[0;32m---> 69\u001b[0;31m   \u001b[0;32mwhile\u001b[0m \u001b[0mresult\u001b[0m\u001b[0;34m[\u001b[0m\u001b[0;34m'action'\u001b[0m\u001b[0;34m]\u001b[0m \u001b[0;34m!=\u001b[0m \u001b[0;34m'complete'\u001b[0m\u001b[0;34m:\u001b[0m\u001b[0;34m\u001b[0m\u001b[0;34m\u001b[0m\u001b[0m\n\u001b[0m\u001b[1;32m     70\u001b[0m     result = _output.eval_js(\n\u001b[1;32m     71\u001b[0m         'google.colab._files._uploadFilesContinue(\"{output_id}\")'.format(\n",
            "\u001b[0;31mTypeError\u001b[0m: 'NoneType' object is not subscriptable"
          ]
        }
      ]
    },
    {
      "cell_type": "markdown",
      "metadata": {
        "id": "bq-nNTECLGwC"
      },
      "source": [
        "Dibuat sintax untuk membaca data yang berasal dari file csv dengan memanfaatkan method read_csv() yang berasal dari library pandas. Kemudian ditampilkan beberapa contoh sample data pada file tersebut."
      ]
    },
    {
      "cell_type": "code",
      "metadata": {
        "id": "r_J4Blsdqxru"
      },
      "source": [
        "fz = fa.read_csv(io.BytesIO(sr['cars_validate_new.csv']), encoding = 'latin-1')"
      ],
      "execution_count": null,
      "outputs": []
    },
    {
      "cell_type": "code",
      "metadata": {
        "colab": {
          "base_uri": "https://localhost:8080/",
          "height": 1000
        },
        "id": "GvWf8WRPqxrx",
        "outputId": "b11027ad-5cd3-4c5b-fb7f-997f13990773"
      },
      "source": [
        "fz.head(10)"
      ],
      "execution_count": null,
      "outputs": [
        {
          "output_type": "execute_result",
          "data": {
            "text/html": [
              "<div>\n",
              "<style scoped>\n",
              "    .dataframe tbody tr th:only-of-type {\n",
              "        vertical-align: middle;\n",
              "    }\n",
              "\n",
              "    .dataframe tbody tr th {\n",
              "        vertical-align: top;\n",
              "    }\n",
              "\n",
              "    .dataframe thead th {\n",
              "        text-align: right;\n",
              "    }\n",
              "</style>\n",
              "<table border=\"1\" class=\"dataframe\">\n",
              "  <thead>\n",
              "    <tr style=\"text-align: right;\">\n",
              "      <th></th>\n",
              "      <th>id</th>\n",
              "      <th>title</th>\n",
              "      <th>band</th>\n",
              "      <th>model</th>\n",
              "      <th>variant</th>\n",
              "      <th>fuelType</th>\n",
              "      <th>bodytype</th>\n",
              "      <th>tramsmission</th>\n",
              "      <th>seating</th>\n",
              "      <th>year</th>\n",
              "      <th>milage</th>\n",
              "      <th>color</th>\n",
              "      <th>image</th>\n",
              "      <th>place</th>\n",
              "      <th>price</th>\n",
              "    </tr>\n",
              "  </thead>\n",
              "  <tbody>\n",
              "    <tr>\n",
              "      <th>0</th>\n",
              "      <td>41256</td>\n",
              "      <td>2012 Toyota Avanza 1.3 G MPV</td>\n",
              "      <td>Toyota</td>\n",
              "      <td>Avanza</td>\n",
              "      <td>G</td>\n",
              "      <td>Pertamax</td>\n",
              "      <td>MPV</td>\n",
              "      <td>Automatic</td>\n",
              "      <td>7</td>\n",
              "      <td>2012</td>\n",
              "      <td>62500</td>\n",
              "      <td>Hitam</td>\n",
              "      <td>https://img1.icarcdn.com/8419806/thumb-l_used-...</td>\n",
              "      <td>Jakarta Selatan</td>\n",
              "      <td>112000000</td>\n",
              "    </tr>\n",
              "    <tr>\n",
              "      <th>1</th>\n",
              "      <td>5637</td>\n",
              "      <td>2014 Honda Mobilio 1.5 E Prestige MPV</td>\n",
              "      <td>Honda</td>\n",
              "      <td>Mobilio</td>\n",
              "      <td>E Prestige</td>\n",
              "      <td>Pertamax</td>\n",
              "      <td>MPV</td>\n",
              "      <td>Automatic</td>\n",
              "      <td>7</td>\n",
              "      <td>2014</td>\n",
              "      <td>70000</td>\n",
              "      <td>Putih</td>\n",
              "      <td>https://img5.icarcdn.com/0798656/thumb-l_used-...</td>\n",
              "      <td>Makasar</td>\n",
              "      <td>135000000</td>\n",
              "    </tr>\n",
              "    <tr>\n",
              "      <th>2</th>\n",
              "      <td>61059</td>\n",
              "      <td>2014 Ford EcoSport 1.5 Titanium SUV</td>\n",
              "      <td>Ford</td>\n",
              "      <td>EcoSport</td>\n",
              "      <td>Titanium</td>\n",
              "      <td>Pertamax</td>\n",
              "      <td>SUV</td>\n",
              "      <td>Automatic</td>\n",
              "      <td>5</td>\n",
              "      <td>2014</td>\n",
              "      <td>108000</td>\n",
              "      <td>Silver</td>\n",
              "      <td>https://img4.icarcdn.com/3308465/thumb-l_used-...</td>\n",
              "      <td>Bekasi</td>\n",
              "      <td>133000000</td>\n",
              "    </tr>\n",
              "    <tr>\n",
              "      <th>3</th>\n",
              "      <td>75984</td>\n",
              "      <td>2007 Toyota Kijang Innova 2.0 E MPV</td>\n",
              "      <td>Toyota</td>\n",
              "      <td>Kijang Innova</td>\n",
              "      <td>E</td>\n",
              "      <td>Pertamax</td>\n",
              "      <td>MPV</td>\n",
              "      <td>Manual</td>\n",
              "      <td>8</td>\n",
              "      <td>2007</td>\n",
              "      <td>46000</td>\n",
              "      <td>Hitam</td>\n",
              "      <td>https://img1.icarcdn.com/9066856/thumb-l_used-...</td>\n",
              "      <td>Jakarta Barat</td>\n",
              "      <td>98000000</td>\n",
              "    </tr>\n",
              "    <tr>\n",
              "      <th>4</th>\n",
              "      <td>35687</td>\n",
              "      <td>2017 Daihatsu Ayla 1.0 X Hatchback</td>\n",
              "      <td>Daihatsu</td>\n",
              "      <td>Ayla</td>\n",
              "      <td>X</td>\n",
              "      <td>Pertamax</td>\n",
              "      <td>Hatchback</td>\n",
              "      <td>Manual</td>\n",
              "      <td>5</td>\n",
              "      <td>2017</td>\n",
              "      <td>45000</td>\n",
              "      <td>Merah</td>\n",
              "      <td>https://img1.icarcdn.com/5359506/thumb-l_used-...</td>\n",
              "      <td>Surabaya</td>\n",
              "      <td>110000000</td>\n",
              "    </tr>\n",
              "    <tr>\n",
              "      <th>5</th>\n",
              "      <td>74769</td>\n",
              "      <td>2012 Suzuki Swift 1.5 GT3 Hatchback</td>\n",
              "      <td>Suzuki</td>\n",
              "      <td>Swift</td>\n",
              "      <td>GT3</td>\n",
              "      <td>Pertamax</td>\n",
              "      <td>Hatchback</td>\n",
              "      <td>Manual</td>\n",
              "      <td>5</td>\n",
              "      <td>2012</td>\n",
              "      <td>40000</td>\n",
              "      <td>Putih</td>\n",
              "      <td>https://img3.icarcdn.com/4722016/thumb-l_used-...</td>\n",
              "      <td>Makasar</td>\n",
              "      <td>125000000</td>\n",
              "    </tr>\n",
              "    <tr>\n",
              "      <th>6</th>\n",
              "      <td>26695</td>\n",
              "      <td>2017 Toyota Fortuner 2.4 VRZ SUV</td>\n",
              "      <td>Toyota</td>\n",
              "      <td>Fortuner</td>\n",
              "      <td>VRZ</td>\n",
              "      <td>Solar</td>\n",
              "      <td>SUV</td>\n",
              "      <td>Automatic</td>\n",
              "      <td>7</td>\n",
              "      <td>2017</td>\n",
              "      <td>32000</td>\n",
              "      <td>Hitam</td>\n",
              "      <td>https://img5.icarcdn.com/0943756/thumb-l_used-...</td>\n",
              "      <td>Jakarta Timur</td>\n",
              "      <td>380000000</td>\n",
              "    </tr>\n",
              "    <tr>\n",
              "      <th>7</th>\n",
              "      <td>73531</td>\n",
              "      <td>2013 Honda CR-V 2.4 2.4 SUV</td>\n",
              "      <td>Honda</td>\n",
              "      <td>CR-V</td>\n",
              "      <td>2.4</td>\n",
              "      <td>Pertamax</td>\n",
              "      <td>SUV</td>\n",
              "      <td>Automatic</td>\n",
              "      <td>5</td>\n",
              "      <td>2013</td>\n",
              "      <td>64000</td>\n",
              "      <td>Hitam</td>\n",
              "      <td>https://img3.icarcdn.com/3458216/thumb-l_used-...</td>\n",
              "      <td>Tangerang</td>\n",
              "      <td>213500000</td>\n",
              "    </tr>\n",
              "    <tr>\n",
              "      <th>8</th>\n",
              "      <td>74843</td>\n",
              "      <td>2011 Isuzu Panther 2.5 SMART SUV</td>\n",
              "      <td>Isuzu</td>\n",
              "      <td>Panther</td>\n",
              "      <td>SMART</td>\n",
              "      <td>Solar</td>\n",
              "      <td>SUV</td>\n",
              "      <td>Manual</td>\n",
              "      <td>7</td>\n",
              "      <td>2011</td>\n",
              "      <td>200000</td>\n",
              "      <td>Silver</td>\n",
              "      <td>https://img5.icarcdn.com/8529706/thumb-l_used-...</td>\n",
              "      <td>Sleman</td>\n",
              "      <td>115000000</td>\n",
              "    </tr>\n",
              "    <tr>\n",
              "      <th>9</th>\n",
              "      <td>78168</td>\n",
              "      <td>2017 Toyota Avanza 1.3 G MPV</td>\n",
              "      <td>Toyota</td>\n",
              "      <td>Avanza</td>\n",
              "      <td>G</td>\n",
              "      <td>Pertamax</td>\n",
              "      <td>MPV</td>\n",
              "      <td>Manual</td>\n",
              "      <td>7</td>\n",
              "      <td>2017</td>\n",
              "      <td>102500</td>\n",
              "      <td>Hitam</td>\n",
              "      <td>https://img5.icarcdn.com/4749756/thumb-l_used-...</td>\n",
              "      <td>Tangerang</td>\n",
              "      <td>140000000</td>\n",
              "    </tr>\n",
              "  </tbody>\n",
              "</table>\n",
              "</div>"
            ],
            "text/plain": [
              "      id                                  title  ...            place      price\n",
              "0  41256           2012 Toyota Avanza 1.3 G MPV  ...  Jakarta Selatan  112000000\n",
              "1   5637  2014 Honda Mobilio 1.5 E Prestige MPV  ...          Makasar  135000000\n",
              "2  61059    2014 Ford EcoSport 1.5 Titanium SUV  ...           Bekasi  133000000\n",
              "3  75984    2007 Toyota Kijang Innova 2.0 E MPV  ...    Jakarta Barat   98000000\n",
              "4  35687     2017 Daihatsu Ayla 1.0 X Hatchback  ...         Surabaya  110000000\n",
              "5  74769    2012 Suzuki Swift 1.5 GT3 Hatchback  ...          Makasar  125000000\n",
              "6  26695       2017 Toyota Fortuner 2.4 VRZ SUV  ...    Jakarta Timur  380000000\n",
              "7  73531            2013 Honda CR-V 2.4 2.4 SUV  ...        Tangerang  213500000\n",
              "8  74843       2011 Isuzu Panther 2.5 SMART SUV  ...           Sleman  115000000\n",
              "9  78168           2017 Toyota Avanza 1.3 G MPV  ...        Tangerang  140000000\n",
              "\n",
              "[10 rows x 15 columns]"
            ]
          },
          "metadata": {
            "tags": []
          },
          "execution_count": 3
        }
      ]
    },
    {
      "cell_type": "code",
      "metadata": {
        "id": "2qCT9hSUg-33"
      },
      "source": [
        "Menampilkan jumlah laptop berdasarkan perusahaan "
      ],
      "execution_count": null,
      "outputs": []
    },
    {
      "cell_type": "code",
      "metadata": {
        "id": "3Oj6VW_khUME"
      },
      "source": [
        "CompGroup = dt.groupby(\"band\")\r\n",
        "CompGroup[\"Company\"].count()"
      ],
      "execution_count": null,
      "outputs": []
    },
    {
      "cell_type": "markdown",
      "metadata": {
        "id": "4G7RsSx8LayZ"
      },
      "source": [
        "Syntax berikut digunakan untuk menampilkan informasi dari file yang di read. "
      ]
    },
    {
      "cell_type": "code",
      "metadata": {
        "colab": {
          "base_uri": "https://localhost:8080/"
        },
        "id": "FwF1NClxw1iA",
        "outputId": "8a0dce66-f598-48af-ac09-a069414c1c1e"
      },
      "source": [
        "fz.info()"
      ],
      "execution_count": null,
      "outputs": [
        {
          "output_type": "stream",
          "text": [
            "<class 'pandas.core.frame.DataFrame'>\n",
            "RangeIndex: 5585 entries, 0 to 5584\n",
            "Data columns (total 15 columns):\n",
            " #   Column        Non-Null Count  Dtype \n",
            "---  ------        --------------  ----- \n",
            " 0   id            5585 non-null   int64 \n",
            " 1   title         5585 non-null   object\n",
            " 2   band          5585 non-null   object\n",
            " 3   model         5585 non-null   object\n",
            " 4   variant       5466 non-null   object\n",
            " 5   fuelType      5584 non-null   object\n",
            " 6   bodytype      5572 non-null   object\n",
            " 7   tramsmission  5585 non-null   object\n",
            " 8   seating       5585 non-null   int64 \n",
            " 9   year          5585 non-null   int64 \n",
            " 10  milage        5585 non-null   int64 \n",
            " 11  color         5585 non-null   object\n",
            " 12  image         5585 non-null   object\n",
            " 13  place         5585 non-null   object\n",
            " 14  price         5585 non-null   int64 \n",
            "dtypes: int64(5), object(10)\n",
            "memory usage: 654.6+ KB\n"
          ],
          "name": "stdout"
        }
      ]
    },
    {
      "cell_type": "code",
      "metadata": {
        "colab": {
          "base_uri": "https://localhost:8080/",
          "height": 186
        },
        "id": "aXDfYrhxvBK8",
        "outputId": "2d444d14-d4a2-47b8-a61a-274d132918fa"
      },
      "source": [
        "Lokasi=fz.groupby(\"place\")\r\n",
        "Lokasi[\"place\"].count()"
      ],
      "execution_count": null,
      "outputs": [
        {
          "output_type": "error",
          "ename": "NameError",
          "evalue": "ignored",
          "traceback": [
            "\u001b[0;31m---------------------------------------------------------------------------\u001b[0m",
            "\u001b[0;31mNameError\u001b[0m                                 Traceback (most recent call last)",
            "\u001b[0;32m<ipython-input-5-a8bc5e9221f2>\u001b[0m in \u001b[0;36m<module>\u001b[0;34m()\u001b[0m\n\u001b[0;32m----> 1\u001b[0;31m \u001b[0mLokasi\u001b[0m\u001b[0;34m=\u001b[0m\u001b[0mfz\u001b[0m\u001b[0;34m.\u001b[0m\u001b[0mgroupby\u001b[0m\u001b[0;34m(\u001b[0m\u001b[0;34m\"place\"\u001b[0m\u001b[0;34m)\u001b[0m\u001b[0;34m\u001b[0m\u001b[0;34m\u001b[0m\u001b[0m\n\u001b[0m\u001b[1;32m      2\u001b[0m \u001b[0mLokasi\u001b[0m\u001b[0;34m[\u001b[0m\u001b[0;34m\"place\"\u001b[0m\u001b[0;34m]\u001b[0m\u001b[0;34m.\u001b[0m\u001b[0mcount\u001b[0m\u001b[0;34m(\u001b[0m\u001b[0;34m)\u001b[0m\u001b[0;34m\u001b[0m\u001b[0;34m\u001b[0m\u001b[0m\n",
            "\u001b[0;31mNameError\u001b[0m: name 'fz' is not defined"
          ]
        }
      ]
    },
    {
      "cell_type": "code",
      "metadata": {
        "colab": {
          "base_uri": "https://localhost:8080/",
          "height": 186
        },
        "id": "_Gmdv9SEzhOX",
        "outputId": "696a6322-55f3-4651-dd9a-a367e70a7276"
      },
      "source": [
        "Produk=fz.groupby(\"band\")\r\n",
        "Produk[\"band\"].count()"
      ],
      "execution_count": null,
      "outputs": [
        {
          "output_type": "error",
          "ename": "NameError",
          "evalue": "ignored",
          "traceback": [
            "\u001b[0;31m---------------------------------------------------------------------------\u001b[0m",
            "\u001b[0;31mNameError\u001b[0m                                 Traceback (most recent call last)",
            "\u001b[0;32m<ipython-input-3-3e201553d47d>\u001b[0m in \u001b[0;36m<module>\u001b[0;34m()\u001b[0m\n\u001b[0;32m----> 1\u001b[0;31m \u001b[0mProduk\u001b[0m\u001b[0;34m=\u001b[0m\u001b[0mfz\u001b[0m\u001b[0;34m.\u001b[0m\u001b[0mgroupby\u001b[0m\u001b[0;34m(\u001b[0m\u001b[0;34m\"band\"\u001b[0m\u001b[0;34m)\u001b[0m\u001b[0;34m\u001b[0m\u001b[0;34m\u001b[0m\u001b[0m\n\u001b[0m\u001b[1;32m      2\u001b[0m \u001b[0mProduk\u001b[0m\u001b[0;34m[\u001b[0m\u001b[0;34m\"band\"\u001b[0m\u001b[0;34m]\u001b[0m\u001b[0;34m.\u001b[0m\u001b[0mcount\u001b[0m\u001b[0;34m(\u001b[0m\u001b[0;34m)\u001b[0m\u001b[0;34m\u001b[0m\u001b[0;34m\u001b[0m\u001b[0m\n",
            "\u001b[0;31mNameError\u001b[0m: name 'fz' is not defined"
          ]
        }
      ]
    },
    {
      "cell_type": "code",
      "metadata": {
        "colab": {
          "base_uri": "https://localhost:8080/",
          "height": 336
        },
        "id": "fDoMd-3Jx4aP",
        "outputId": "ee3d6af6-65a7-4190-b596-8a73c0ab9f93"
      },
      "source": [
        "Wry = fz.groupby(\"place\")\r\n",
        "Wry[\"place\"].count()\r\n",
        "Figured = fc.figure() #Jangan dirubah\r\n",
        "axis = Figured.add_axes([0,0,1,1]) #Jangan dirubah\r\n",
        "nilai1 = Wry[\"place\"].count()\r\n",
        "axis.plot(nilai1)\r\n",
        "fc.show()"
      ],
      "execution_count": null,
      "outputs": [
        {
          "output_type": "display_data",
          "data": {
            "image/png": "[encoded data removed]",
            "text/plain": [
              "<Figure size 432x288 with 1 Axes>"
            ]
          },
          "metadata": {
            "tags": []
          }
        }
      ]
    },
    {
      "cell_type": "code",
      "metadata": {
        "id": "6eqJYeAvqxr0",
        "outputId": "3230c49d-c25e-424b-fe3e-971728db40b7"
      },
      "source": [
        "merk=fz[fz[\"Company\"]==\"Apple\"]\n",
        "merk[[\"Company\",\"Price_euros\",\"Cpu\"]]"
      ],
      "execution_count": null,
      "outputs": [
        {
          "output_type": "execute_result",
          "data": {
            "text/html": [
              "<div>\n",
              "<style scoped>\n",
              "    .dataframe tbody tr th:only-of-type {\n",
              "        vertical-align: middle;\n",
              "    }\n",
              "\n",
              "    .dataframe tbody tr th {\n",
              "        vertical-align: top;\n",
              "    }\n",
              "\n",
              "    .dataframe thead th {\n",
              "        text-align: right;\n",
              "    }\n",
              "</style>\n",
              "<table border=\"1\" class=\"dataframe\">\n",
              "  <thead>\n",
              "    <tr style=\"text-align: right;\">\n",
              "      <th></th>\n",
              "      <th>Company</th>\n",
              "      <th>Price_euros</th>\n",
              "      <th>Cpu</th>\n",
              "    </tr>\n",
              "  </thead>\n",
              "  <tbody>\n",
              "    <tr>\n",
              "      <th>0</th>\n",
              "      <td>Apple</td>\n",
              "      <td>1339.69</td>\n",
              "      <td>Intel Core i5 2.3GHz</td>\n",
              "    </tr>\n",
              "    <tr>\n",
              "      <th>1</th>\n",
              "      <td>Apple</td>\n",
              "      <td>898.94</td>\n",
              "      <td>Intel Core i5 1.8GHz</td>\n",
              "    </tr>\n",
              "    <tr>\n",
              "      <th>3</th>\n",
              "      <td>Apple</td>\n",
              "      <td>2537.45</td>\n",
              "      <td>Intel Core i7 2.7GHz</td>\n",
              "    </tr>\n",
              "    <tr>\n",
              "      <th>4</th>\n",
              "      <td>Apple</td>\n",
              "      <td>1803.60</td>\n",
              "      <td>Intel Core i5 3.1GHz</td>\n",
              "    </tr>\n",
              "    <tr>\n",
              "      <th>6</th>\n",
              "      <td>Apple</td>\n",
              "      <td>2139.97</td>\n",
              "      <td>Intel Core i7 2.2GHz</td>\n",
              "    </tr>\n",
              "    <tr>\n",
              "      <th>7</th>\n",
              "      <td>Apple</td>\n",
              "      <td>1158.70</td>\n",
              "      <td>Intel Core i5 1.8GHz</td>\n",
              "    </tr>\n",
              "    <tr>\n",
              "      <th>12</th>\n",
              "      <td>Apple</td>\n",
              "      <td>2439.97</td>\n",
              "      <td>Intel Core i7 2.8GHz</td>\n",
              "    </tr>\n",
              "    <tr>\n",
              "      <th>14</th>\n",
              "      <td>Apple</td>\n",
              "      <td>1262.40</td>\n",
              "      <td>Intel Core M m3 1.2GHz</td>\n",
              "    </tr>\n",
              "    <tr>\n",
              "      <th>15</th>\n",
              "      <td>Apple</td>\n",
              "      <td>1518.55</td>\n",
              "      <td>Intel Core i5 2.3GHz</td>\n",
              "    </tr>\n",
              "    <tr>\n",
              "      <th>17</th>\n",
              "      <td>Apple</td>\n",
              "      <td>2858.00</td>\n",
              "      <td>Intel Core i7 2.9GHz</td>\n",
              "    </tr>\n",
              "    <tr>\n",
              "      <th>26</th>\n",
              "      <td>Apple</td>\n",
              "      <td>1099.00</td>\n",
              "      <td>Intel Core i5 1.6GHz</td>\n",
              "    </tr>\n",
              "    <tr>\n",
              "      <th>34</th>\n",
              "      <td>Apple</td>\n",
              "      <td>998.00</td>\n",
              "      <td>Intel Core i5 1.6GHz</td>\n",
              "    </tr>\n",
              "    <tr>\n",
              "      <th>45</th>\n",
              "      <td>Apple</td>\n",
              "      <td>1419.00</td>\n",
              "      <td>Intel Core i5 2.0GHz</td>\n",
              "    </tr>\n",
              "    <tr>\n",
              "      <th>81</th>\n",
              "      <td>Apple</td>\n",
              "      <td>1510.00</td>\n",
              "      <td>Intel Core i5 1.3GHz</td>\n",
              "    </tr>\n",
              "    <tr>\n",
              "      <th>249</th>\n",
              "      <td>Apple</td>\n",
              "      <td>2040.00</td>\n",
              "      <td>Intel Core i5 3.1GHz</td>\n",
              "    </tr>\n",
              "    <tr>\n",
              "      <th>270</th>\n",
              "      <td>Apple</td>\n",
              "      <td>1958.90</td>\n",
              "      <td>Intel Core i5 2.9GHz</td>\n",
              "    </tr>\n",
              "    <tr>\n",
              "      <th>794</th>\n",
              "      <td>Apple</td>\n",
              "      <td>1165.00</td>\n",
              "      <td>Intel Core M 1.2GHz</td>\n",
              "    </tr>\n",
              "    <tr>\n",
              "      <th>1069</th>\n",
              "      <td>Apple</td>\n",
              "      <td>1300.00</td>\n",
              "      <td>Intel Core M 1.1GHz</td>\n",
              "    </tr>\n",
              "    <tr>\n",
              "      <th>1193</th>\n",
              "      <td>Apple</td>\n",
              "      <td>1163.00</td>\n",
              "      <td>Intel Core M 1.1GHz</td>\n",
              "    </tr>\n",
              "    <tr>\n",
              "      <th>1210</th>\n",
              "      <td>Apple</td>\n",
              "      <td>1279.00</td>\n",
              "      <td>Intel Core M 1.2GHz</td>\n",
              "    </tr>\n",
              "    <tr>\n",
              "      <th>1234</th>\n",
              "      <td>Apple</td>\n",
              "      <td>959.00</td>\n",
              "      <td>Intel Core i5 1.6GHz</td>\n",
              "    </tr>\n",
              "  </tbody>\n",
              "</table>\n",
              "</div>"
            ],
            "text/plain": [
              "     Company  Price_euros                     Cpu\n",
              "0      Apple      1339.69    Intel Core i5 2.3GHz\n",
              "1      Apple       898.94    Intel Core i5 1.8GHz\n",
              "3      Apple      2537.45    Intel Core i7 2.7GHz\n",
              "4      Apple      1803.60    Intel Core i5 3.1GHz\n",
              "6      Apple      2139.97    Intel Core i7 2.2GHz\n",
              "7      Apple      1158.70    Intel Core i5 1.8GHz\n",
              "12     Apple      2439.97    Intel Core i7 2.8GHz\n",
              "14     Apple      1262.40  Intel Core M m3 1.2GHz\n",
              "15     Apple      1518.55    Intel Core i5 2.3GHz\n",
              "17     Apple      2858.00    Intel Core i7 2.9GHz\n",
              "26     Apple      1099.00    Intel Core i5 1.6GHz\n",
              "34     Apple       998.00    Intel Core i5 1.6GHz\n",
              "45     Apple      1419.00    Intel Core i5 2.0GHz\n",
              "81     Apple      1510.00    Intel Core i5 1.3GHz\n",
              "249    Apple      2040.00    Intel Core i5 3.1GHz\n",
              "270    Apple      1958.90    Intel Core i5 2.9GHz\n",
              "794    Apple      1165.00     Intel Core M 1.2GHz\n",
              "1069   Apple      1300.00     Intel Core M 1.1GHz\n",
              "1193   Apple      1163.00     Intel Core M 1.1GHz\n",
              "1210   Apple      1279.00     Intel Core M 1.2GHz\n",
              "1234   Apple       959.00    Intel Core i5 1.6GHz"
            ]
          },
          "metadata": {
            "tags": []
          },
          "execution_count": 25
        }
      ]
    },
    {
      "cell_type": "markdown",
      "metadata": {
        "id": "5AZoc32XaAMq"
      },
      "source": [
        "Digunakan untuk memberikan data laptop dengan nama perusahaan Apple."
      ]
    },
    {
      "cell_type": "code",
      "metadata": {
        "id": "YL-X7n_hqxr2",
        "outputId": "95bacca5-ea75-4774-f1f4-b27550939739"
      },
      "source": [
        "Harga = fz[(fz[\"Price_euros\"] > 1000)]\n",
        "Harga[[\"Company\",\"Price_euros\",\"Cpu\"]].sort_values([\"Price_euros\"], ascending=True)"
      ],
      "execution_count": null,
      "outputs": [
        {
          "output_type": "execute_result",
          "data": {
            "text/html": [
              "<div>\n",
              "<style scoped>\n",
              "    .dataframe tbody tr th:only-of-type {\n",
              "        vertical-align: middle;\n",
              "    }\n",
              "\n",
              "    .dataframe tbody tr th {\n",
              "        vertical-align: top;\n",
              "    }\n",
              "\n",
              "    .dataframe thead th {\n",
              "        text-align: right;\n",
              "    }\n",
              "</style>\n",
              "<table border=\"1\" class=\"dataframe\">\n",
              "  <thead>\n",
              "    <tr style=\"text-align: right;\">\n",
              "      <th></th>\n",
              "      <th>Company</th>\n",
              "      <th>Price_euros</th>\n",
              "      <th>Cpu</th>\n",
              "    </tr>\n",
              "  </thead>\n",
              "  <tbody>\n",
              "    <tr>\n",
              "      <th>976</th>\n",
              "      <td>Lenovo</td>\n",
              "      <td>1002.00</td>\n",
              "      <td>Intel Core i5 6200U 2.3GHz</td>\n",
              "    </tr>\n",
              "    <tr>\n",
              "      <th>581</th>\n",
              "      <td>Dell</td>\n",
              "      <td>1008.52</td>\n",
              "      <td>Intel Core i5 7300U 2.6GHz</td>\n",
              "    </tr>\n",
              "    <tr>\n",
              "      <th>962</th>\n",
              "      <td>Acer</td>\n",
              "      <td>1009.00</td>\n",
              "      <td>Intel Core i5 7200U 2.5GHz</td>\n",
              "    </tr>\n",
              "    <tr>\n",
              "      <th>1147</th>\n",
              "      <td>Dell</td>\n",
              "      <td>1009.90</td>\n",
              "      <td>Intel Core i7 7500U 2.7GHz</td>\n",
              "    </tr>\n",
              "    <tr>\n",
              "      <th>431</th>\n",
              "      <td>Lenovo</td>\n",
              "      <td>1010.00</td>\n",
              "      <td>Intel Core i7 7500U 2.7GHz</td>\n",
              "    </tr>\n",
              "    <tr>\n",
              "      <th>...</th>\n",
              "      <td>...</td>\n",
              "      <td>...</td>\n",
              "      <td>...</td>\n",
              "    </tr>\n",
              "    <tr>\n",
              "      <th>1066</th>\n",
              "      <td>Asus</td>\n",
              "      <td>3975.00</td>\n",
              "      <td>Intel Core i7 6820HK 2.7GHz</td>\n",
              "    </tr>\n",
              "    <tr>\n",
              "      <th>749</th>\n",
              "      <td>HP</td>\n",
              "      <td>4389.00</td>\n",
              "      <td>Intel Xeon E3-1535M v5 2.9GHz</td>\n",
              "    </tr>\n",
              "    <tr>\n",
              "      <th>610</th>\n",
              "      <td>Lenovo</td>\n",
              "      <td>4899.00</td>\n",
              "      <td>Intel Xeon E3-1535M v6 3.1GHz</td>\n",
              "    </tr>\n",
              "    <tr>\n",
              "      <th>830</th>\n",
              "      <td>Razer</td>\n",
              "      <td>5499.00</td>\n",
              "      <td>Intel Core i7 7820HK 2.9GHz</td>\n",
              "    </tr>\n",
              "    <tr>\n",
              "      <th>196</th>\n",
              "      <td>Razer</td>\n",
              "      <td>6099.00</td>\n",
              "      <td>Intel Core i7 7820HK 2.9GHz</td>\n",
              "    </tr>\n",
              "  </tbody>\n",
              "</table>\n",
              "<p>620 rows × 3 columns</p>\n",
              "</div>"
            ],
            "text/plain": [
              "     Company  Price_euros                            Cpu\n",
              "976   Lenovo      1002.00     Intel Core i5 6200U 2.3GHz\n",
              "581     Dell      1008.52     Intel Core i5 7300U 2.6GHz\n",
              "962     Acer      1009.00     Intel Core i5 7200U 2.5GHz\n",
              "1147    Dell      1009.90     Intel Core i7 7500U 2.7GHz\n",
              "431   Lenovo      1010.00     Intel Core i7 7500U 2.7GHz\n",
              "...      ...          ...                            ...\n",
              "1066    Asus      3975.00    Intel Core i7 6820HK 2.7GHz\n",
              "749       HP      4389.00  Intel Xeon E3-1535M v5 2.9GHz\n",
              "610   Lenovo      4899.00  Intel Xeon E3-1535M v6 3.1GHz\n",
              "830    Razer      5499.00    Intel Core i7 7820HK 2.9GHz\n",
              "196    Razer      6099.00    Intel Core i7 7820HK 2.9GHz\n",
              "\n",
              "[620 rows x 3 columns]"
            ]
          },
          "metadata": {
            "tags": []
          },
          "execution_count": 44
        }
      ]
    },
    {
      "cell_type": "markdown",
      "metadata": {
        "id": "gZQoAO1KZhN3"
      },
      "source": [
        "Digunakan untuk memberikan data laptop yang memiliki harga di atas 1000 euro, harga yang relatif mahal dan diurutkan dari harga 1000 euro ke atas"
      ]
    },
    {
      "cell_type": "code",
      "metadata": {
        "id": "5Qnrzm4hqxr4",
        "outputId": "ced33b18-fb04-4f37-fb30-146c549f4845"
      },
      "source": [
        "data = fz[fz[\"Company\"]==\"HP\"]\n",
        "data[[\"Company\",\"Cpu\"]]"
      ],
      "execution_count": null,
      "outputs": [
        {
          "output_type": "execute_result",
          "data": {
            "text/html": [
              "<div>\n",
              "<style scoped>\n",
              "    .dataframe tbody tr th:only-of-type {\n",
              "        vertical-align: middle;\n",
              "    }\n",
              "\n",
              "    .dataframe tbody tr th {\n",
              "        vertical-align: top;\n",
              "    }\n",
              "\n",
              "    .dataframe thead th {\n",
              "        text-align: right;\n",
              "    }\n",
              "</style>\n",
              "<table border=\"1\" class=\"dataframe\">\n",
              "  <thead>\n",
              "    <tr style=\"text-align: right;\">\n",
              "      <th></th>\n",
              "      <th>Company</th>\n",
              "      <th>Cpu</th>\n",
              "    </tr>\n",
              "  </thead>\n",
              "  <tbody>\n",
              "    <tr>\n",
              "      <th>2</th>\n",
              "      <td>HP</td>\n",
              "      <td>Intel Core i5 7200U 2.5GHz</td>\n",
              "    </tr>\n",
              "    <tr>\n",
              "      <th>10</th>\n",
              "      <td>HP</td>\n",
              "      <td>Intel Core i5 7200U 2.5GHz</td>\n",
              "    </tr>\n",
              "    <tr>\n",
              "      <th>11</th>\n",
              "      <td>HP</td>\n",
              "      <td>Intel Core i3 6006U 2GHz</td>\n",
              "    </tr>\n",
              "    <tr>\n",
              "      <th>22</th>\n",
              "      <td>HP</td>\n",
              "      <td>AMD E-Series E2-9000e 1.5GHz</td>\n",
              "    </tr>\n",
              "    <tr>\n",
              "      <th>24</th>\n",
              "      <td>HP</td>\n",
              "      <td>Intel Core i7 8550U 1.8GHz</td>\n",
              "    </tr>\n",
              "    <tr>\n",
              "      <th>...</th>\n",
              "      <td>...</td>\n",
              "      <td>...</td>\n",
              "    </tr>\n",
              "    <tr>\n",
              "      <th>1282</th>\n",
              "      <td>HP</td>\n",
              "      <td>Intel Celeron Dual Core N3060 1.6GHz</td>\n",
              "    </tr>\n",
              "    <tr>\n",
              "      <th>1287</th>\n",
              "      <td>HP</td>\n",
              "      <td>Intel Core i7 6500U 2.5GHz</td>\n",
              "    </tr>\n",
              "    <tr>\n",
              "      <th>1294</th>\n",
              "      <td>HP</td>\n",
              "      <td>AMD A9-Series 9410 2.9GHz</td>\n",
              "    </tr>\n",
              "    <tr>\n",
              "      <th>1296</th>\n",
              "      <td>HP</td>\n",
              "      <td>Intel Celeron Dual Core N3060 1.6GHz</td>\n",
              "    </tr>\n",
              "    <tr>\n",
              "      <th>1301</th>\n",
              "      <td>HP</td>\n",
              "      <td>Intel Core i7 6500U 2.5GHz</td>\n",
              "    </tr>\n",
              "  </tbody>\n",
              "</table>\n",
              "<p>274 rows × 2 columns</p>\n",
              "</div>"
            ],
            "text/plain": [
              "     Company                                   Cpu\n",
              "2         HP            Intel Core i5 7200U 2.5GHz\n",
              "10        HP            Intel Core i5 7200U 2.5GHz\n",
              "11        HP              Intel Core i3 6006U 2GHz\n",
              "22        HP          AMD E-Series E2-9000e 1.5GHz\n",
              "24        HP            Intel Core i7 8550U 1.8GHz\n",
              "...      ...                                   ...\n",
              "1282      HP  Intel Celeron Dual Core N3060 1.6GHz\n",
              "1287      HP            Intel Core i7 6500U 2.5GHz\n",
              "1294      HP             AMD A9-Series 9410 2.9GHz\n",
              "1296      HP  Intel Celeron Dual Core N3060 1.6GHz\n",
              "1301      HP            Intel Core i7 6500U 2.5GHz\n",
              "\n",
              "[274 rows x 2 columns]"
            ]
          },
          "metadata": {
            "tags": []
          },
          "execution_count": 59
        }
      ]
    },
    {
      "cell_type": "markdown",
      "metadata": {
        "id": "gRw0ayFAaT4i"
      },
      "source": [
        "Digunakan untuk memberikan data laptop dengan nama perusahaan HP dan menampilkan kolom Company dan CPU"
      ]
    },
    {
      "cell_type": "code",
      "metadata": {
        "id": "uoL_veiKqxr5",
        "outputId": "cca6fd26-5583-477e-b547-abdef6ea1277"
      },
      "source": [
        "data = fz[fz[\"Company\"]==\"Apple\"]\n",
        "data[\"Company\"].count()"
      ],
      "execution_count": null,
      "outputs": [
        {
          "output_type": "execute_result",
          "data": {
            "text/plain": [
              "21"
            ]
          },
          "metadata": {
            "tags": []
          },
          "execution_count": 64
        }
      ]
    },
    {
      "cell_type": "code",
      "metadata": {
        "id": "lrjDWiApqxr7",
        "outputId": "a764df0e-39d1-4e65-da1b-ef5e075b2c21"
      },
      "source": [
        "tampil = fz.iloc[5:12]\n",
        "tampil[[\"Company\",\"Ram\",\"Weight\"]]"
      ],
      "execution_count": null,
      "outputs": [
        {
          "output_type": "execute_result",
          "data": {
            "text/html": [
              "<div>\n",
              "<style scoped>\n",
              "    .dataframe tbody tr th:only-of-type {\n",
              "        vertical-align: middle;\n",
              "    }\n",
              "\n",
              "    .dataframe tbody tr th {\n",
              "        vertical-align: top;\n",
              "    }\n",
              "\n",
              "    .dataframe thead th {\n",
              "        text-align: right;\n",
              "    }\n",
              "</style>\n",
              "<table border=\"1\" class=\"dataframe\">\n",
              "  <thead>\n",
              "    <tr style=\"text-align: right;\">\n",
              "      <th></th>\n",
              "      <th>Company</th>\n",
              "      <th>Ram</th>\n",
              "      <th>Weight</th>\n",
              "    </tr>\n",
              "  </thead>\n",
              "  <tbody>\n",
              "    <tr>\n",
              "      <th>5</th>\n",
              "      <td>Acer</td>\n",
              "      <td>4GB</td>\n",
              "      <td>2.1kg</td>\n",
              "    </tr>\n",
              "    <tr>\n",
              "      <th>6</th>\n",
              "      <td>Apple</td>\n",
              "      <td>16GB</td>\n",
              "      <td>2.04kg</td>\n",
              "    </tr>\n",
              "    <tr>\n",
              "      <th>7</th>\n",
              "      <td>Apple</td>\n",
              "      <td>8GB</td>\n",
              "      <td>1.34kg</td>\n",
              "    </tr>\n",
              "    <tr>\n",
              "      <th>8</th>\n",
              "      <td>Asus</td>\n",
              "      <td>16GB</td>\n",
              "      <td>1.3kg</td>\n",
              "    </tr>\n",
              "    <tr>\n",
              "      <th>9</th>\n",
              "      <td>Acer</td>\n",
              "      <td>8GB</td>\n",
              "      <td>1.6kg</td>\n",
              "    </tr>\n",
              "    <tr>\n",
              "      <th>10</th>\n",
              "      <td>HP</td>\n",
              "      <td>4GB</td>\n",
              "      <td>1.86kg</td>\n",
              "    </tr>\n",
              "    <tr>\n",
              "      <th>11</th>\n",
              "      <td>HP</td>\n",
              "      <td>4GB</td>\n",
              "      <td>1.86kg</td>\n",
              "    </tr>\n",
              "  </tbody>\n",
              "</table>\n",
              "</div>"
            ],
            "text/plain": [
              "   Company   Ram  Weight\n",
              "5     Acer   4GB   2.1kg\n",
              "6    Apple  16GB  2.04kg\n",
              "7    Apple   8GB  1.34kg\n",
              "8     Asus  16GB   1.3kg\n",
              "9     Acer   8GB   1.6kg\n",
              "10      HP   4GB  1.86kg\n",
              "11      HP   4GB  1.86kg"
            ]
          },
          "metadata": {
            "tags": []
          },
          "execution_count": 84
        }
      ]
    },
    {
      "cell_type": "markdown",
      "metadata": {
        "id": "TsoDvzKxauO2"
      },
      "source": [
        "Menampilakn indeks kolom sesuai kemauan dengan menggunakan perintah iloc dan menampilkan hanya kolom Company, Ram dan berat laptop"
      ]
    },
    {
      "cell_type": "code",
      "metadata": {
        "id": "KkeM0RwKqxr8",
        "outputId": "08a18e95-4d4f-4203-b268-3b22ada0be2f"
      },
      "source": [
        "fz.info()"
      ],
      "execution_count": null,
      "outputs": [
        {
          "output_type": "stream",
          "text": [
            "<class 'pandas.core.frame.DataFrame'>\n",
            "RangeIndex: 1303 entries, 0 to 1302\n",
            "Data columns (total 13 columns):\n",
            " #   Column            Non-Null Count  Dtype  \n",
            "---  ------            --------------  -----  \n",
            " 0   Unnamed: 0        1303 non-null   int64  \n",
            " 1   Company           1303 non-null   object \n",
            " 2   Product           1303 non-null   object \n",
            " 3   TypeName          1303 non-null   object \n",
            " 4   Inches            1303 non-null   float64\n",
            " 5   ScreenResolution  1303 non-null   object \n",
            " 6   Cpu               1303 non-null   object \n",
            " 7   Ram               1303 non-null   object \n",
            " 8   Memory            1303 non-null   object \n",
            " 9   Gpu               1303 non-null   object \n",
            " 10  OpSys             1303 non-null   object \n",
            " 11  Weight            1303 non-null   object \n",
            " 12  Price_euros       1303 non-null   float64\n",
            "dtypes: float64(2), int64(1), object(10)\n",
            "memory usage: 132.5+ KB\n"
          ],
          "name": "stdout"
        }
      ]
    },
    {
      "cell_type": "markdown",
      "metadata": {
        "id": "3iTSj419anyH"
      },
      "source": [
        "Menggunakan method info() yang mana akan menampilkan informasi berupa nama kolom, kondisi kolom, dan tipe data. Serta menampilkan banyaknya data pada file tersebut. Selain itu juga menampilkan besarnya memory yang digunakan untuk menyimpan data."
      ]
    }
  ]
}