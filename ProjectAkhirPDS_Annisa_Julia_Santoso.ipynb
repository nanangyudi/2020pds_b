{
  "nbformat": 4,
  "nbformat_minor": 0,
  "metadata": {
    "colab": {
      "name": "ProjectAkhirPDS_Annisa Julia Santoso",
      "provenance": [],
      "collapsed_sections": [],
      "include_colab_link": true
    },
    "kernelspec": {
      "name": "python3",
      "display_name": "Python 3"
    }
  },
  "cells": [
    {
      "cell_type": "markdown",
      "metadata": {
        "id": "view-in-github",
        "colab_type": "text"
      },
      "source": [
        "<a href=\"https://colab.research.google.com/github/nanangyudi/2020pds_b/blob/main/ProjectAkhirPDS_Annisa_Julia_Santoso.ipynb\" target=\"_parent\"><img src=\"https://colab.research.google.com/assets/colab-badge.svg\" alt=\"Open In Colab\"/></a>"
      ]
    },
    {
      "cell_type": "markdown",
      "metadata": {
        "id": "rxFS1iPPyOL_"
      },
      "source": [
        "# **DEKSRIPSI TUJUAN BISNIS**\n",
        "Ikan memiliki beberapa macam spesies yang berbeda-beda seperti bream, roach, whitefish, parkki, dan perch. Tentunya setiap spesies memiliki ukuran yang berbeda-beda. Oleh karena itu, tujuan bisnis ini adalah untuk memprediksi bobot atau berat ikan berdasarkan data pengukuran tubuh ikan\n",
        "\n"
      ]
    },
    {
      "cell_type": "markdown",
      "metadata": {
        "id": "TKGCV-FWyWxP"
      },
      "source": [
        "#**ANALISA PENDEKATAN YANG AKAN DILAKUKAN**\n",
        "Pendekatan yang digunakan adalah predictive model dimana dapat memprediksi bobot atau berat ikan berdasarkan data pengukuran tubuh ikan\n"
      ]
    },
    {
      "cell_type": "markdown",
      "metadata": {
        "id": "CzhPZKh1yXh8"
      },
      "source": [
        "#**PENGUMPULAN DATA**\n",
        "Pengumpulan data dilakukan dengan mengunduh dataset dari kaggle.com kemudian dataset tersebut diunggah ke github.com"
      ]
    },
    {
      "cell_type": "markdown",
      "metadata": {
        "id": "Rmm7LIoHyaMA"
      },
      "source": [
        "#**PEMAHAMAN TERHADAP DATA YANG TELAH DIKUMPULKAN**\n",
        "Dataset yang telah diunduh memiliki 159 baris dan 7 kolom. Setiap kolomnya mempunyai detail seperti dibawah ini :\n",
        "1. Species : Spesies ikan\n",
        "2. Weight  : Berat ikan dalam gram\n",
        "3. Length1 : Panjang vertikal dalam cm\n",
        "4. Length2 : Panjang diagonal dalam cm\n",
        "5. Length3 : Panjang silang dalam cm\n",
        "6. Height  : Tinggi dalam cm\n",
        "7. Width   : Lebar diagonal dalam cm\n",
        "\n"
      ]
    },
    {
      "cell_type": "markdown",
      "metadata": {
        "id": "mcsS-xOAyevp"
      },
      "source": [
        "#**PERSIAPAN DATA (EKSPLORASI DATA)**"
      ]
    },
    {
      "cell_type": "markdown",
      "metadata": {
        "id": "Je0AtAbYE75B"
      },
      "source": [
        "Langkah pertama adalah mengimport library yang dibutuhkan seperti numpy, pandas, matplotlib, seaborn, linear_model dan train_test_split"
      ]
    },
    {
      "cell_type": "code",
      "metadata": {
        "id": "Lh2mAflbynov"
      },
      "source": [
        "import numpy as np\n",
        "import pandas as pd\n",
        "import matplotlib.pyplot as plt\n",
        "import seaborn as sns\n",
        "from sklearn import linear_model\n",
        "from sklearn.model_selection import train_test_split"
      ],
      "execution_count": null,
      "outputs": []
    },
    {
      "cell_type": "code",
      "metadata": {
        "colab": {
          "base_uri": "https://localhost:8080/",
          "height": 221
        },
        "id": "yqDVBojjyvVC",
        "outputId": "429119e6-952a-4dbd-a127-5600a254afaa"
      },
      "source": [
        "df = pd.read_csv('https://raw.githubusercontent.com/Annisajulia/ProjectPDS/main/Fish.csv')\n",
        "print('Shape of dataset= ', df.shape) # Untuk mengetahui berapa baris dan kolom dalam dataset\n",
        "df.head(5) # Menampilkan 5 data teratas yang ada dalam dataset"
      ],
      "execution_count": null,
      "outputs": [
        {
          "output_type": "stream",
          "text": [
            "Shape of dataset=  (159, 7)\n"
          ],
          "name": "stdout"
        },
        {
          "output_type": "execute_result",
          "data": {
            "text/html": [
              "<div>\n",
              "<style scoped>\n",
              "    .dataframe tbody tr th:only-of-type {\n",
              "        vertical-align: middle;\n",
              "    }\n",
              "\n",
              "    .dataframe tbody tr th {\n",
              "        vertical-align: top;\n",
              "    }\n",
              "\n",
              "    .dataframe thead th {\n",
              "        text-align: right;\n",
              "    }\n",
              "</style>\n",
              "<table border=\"1\" class=\"dataframe\">\n",
              "  <thead>\n",
              "    <tr style=\"text-align: right;\">\n",
              "      <th></th>\n",
              "      <th>Species</th>\n",
              "      <th>Weight</th>\n",
              "      <th>Length1</th>\n",
              "      <th>Length2</th>\n",
              "      <th>Length3</th>\n",
              "      <th>Height</th>\n",
              "      <th>Width</th>\n",
              "    </tr>\n",
              "  </thead>\n",
              "  <tbody>\n",
              "    <tr>\n",
              "      <th>0</th>\n",
              "      <td>Bream</td>\n",
              "      <td>242.0</td>\n",
              "      <td>23.2</td>\n",
              "      <td>25.4</td>\n",
              "      <td>30.0</td>\n",
              "      <td>11.5200</td>\n",
              "      <td>4.0200</td>\n",
              "    </tr>\n",
              "    <tr>\n",
              "      <th>1</th>\n",
              "      <td>Bream</td>\n",
              "      <td>290.0</td>\n",
              "      <td>24.0</td>\n",
              "      <td>26.3</td>\n",
              "      <td>31.2</td>\n",
              "      <td>12.4800</td>\n",
              "      <td>4.3056</td>\n",
              "    </tr>\n",
              "    <tr>\n",
              "      <th>2</th>\n",
              "      <td>Bream</td>\n",
              "      <td>340.0</td>\n",
              "      <td>23.9</td>\n",
              "      <td>26.5</td>\n",
              "      <td>31.1</td>\n",
              "      <td>12.3778</td>\n",
              "      <td>4.6961</td>\n",
              "    </tr>\n",
              "    <tr>\n",
              "      <th>3</th>\n",
              "      <td>Bream</td>\n",
              "      <td>363.0</td>\n",
              "      <td>26.3</td>\n",
              "      <td>29.0</td>\n",
              "      <td>33.5</td>\n",
              "      <td>12.7300</td>\n",
              "      <td>4.4555</td>\n",
              "    </tr>\n",
              "    <tr>\n",
              "      <th>4</th>\n",
              "      <td>Bream</td>\n",
              "      <td>430.0</td>\n",
              "      <td>26.5</td>\n",
              "      <td>29.0</td>\n",
              "      <td>34.0</td>\n",
              "      <td>12.4440</td>\n",
              "      <td>5.1340</td>\n",
              "    </tr>\n",
              "  </tbody>\n",
              "</table>\n",
              "</div>"
            ],
            "text/plain": [
              "  Species  Weight  Length1  Length2  Length3   Height   Width\n",
              "0   Bream   242.0     23.2     25.4     30.0  11.5200  4.0200\n",
              "1   Bream   290.0     24.0     26.3     31.2  12.4800  4.3056\n",
              "2   Bream   340.0     23.9     26.5     31.1  12.3778  4.6961\n",
              "3   Bream   363.0     26.3     29.0     33.5  12.7300  4.4555\n",
              "4   Bream   430.0     26.5     29.0     34.0  12.4440  5.1340"
            ]
          },
          "metadata": {
            "tags": []
          },
          "execution_count": 3
        }
      ]
    },
    {
      "cell_type": "code",
      "metadata": {
        "colab": {
          "base_uri": "https://localhost:8080/",
          "height": 204
        },
        "id": "YscRg7kby-53",
        "outputId": "4bcf3dd3-3964-4783-d40d-ae267dc185c9"
      },
      "source": [
        "df.rename(columns={'Length1':'VerticalLen','Length2':'DiagonalLen','Length3':'CrossLen'},inplace = True) # 'inplace= true' untuk mengubah dataframe\n",
        "df.sample(5) # Menampilkan 5 sample secara acak"
      ],
      "execution_count": null,
      "outputs": [
        {
          "output_type": "execute_result",
          "data": {
            "text/html": [
              "<div>\n",
              "<style scoped>\n",
              "    .dataframe tbody tr th:only-of-type {\n",
              "        vertical-align: middle;\n",
              "    }\n",
              "\n",
              "    .dataframe tbody tr th {\n",
              "        vertical-align: top;\n",
              "    }\n",
              "\n",
              "    .dataframe thead th {\n",
              "        text-align: right;\n",
              "    }\n",
              "</style>\n",
              "<table border=\"1\" class=\"dataframe\">\n",
              "  <thead>\n",
              "    <tr style=\"text-align: right;\">\n",
              "      <th></th>\n",
              "      <th>Species</th>\n",
              "      <th>Weight</th>\n",
              "      <th>VerticalLen</th>\n",
              "      <th>DiagonalLen</th>\n",
              "      <th>CrossLen</th>\n",
              "      <th>Height</th>\n",
              "      <th>Width</th>\n",
              "    </tr>\n",
              "  </thead>\n",
              "  <tbody>\n",
              "    <tr>\n",
              "      <th>40</th>\n",
              "      <td>Roach</td>\n",
              "      <td>0.0</td>\n",
              "      <td>19.0</td>\n",
              "      <td>20.5</td>\n",
              "      <td>22.8</td>\n",
              "      <td>6.4752</td>\n",
              "      <td>3.3516</td>\n",
              "    </tr>\n",
              "    <tr>\n",
              "      <th>117</th>\n",
              "      <td>Perch</td>\n",
              "      <td>650.0</td>\n",
              "      <td>36.5</td>\n",
              "      <td>39.0</td>\n",
              "      <td>41.4</td>\n",
              "      <td>11.1366</td>\n",
              "      <td>6.0030</td>\n",
              "    </tr>\n",
              "    <tr>\n",
              "      <th>137</th>\n",
              "      <td>Pike</td>\n",
              "      <td>500.0</td>\n",
              "      <td>42.0</td>\n",
              "      <td>45.0</td>\n",
              "      <td>48.0</td>\n",
              "      <td>6.9600</td>\n",
              "      <td>4.8960</td>\n",
              "    </tr>\n",
              "    <tr>\n",
              "      <th>17</th>\n",
              "      <td>Bream</td>\n",
              "      <td>700.0</td>\n",
              "      <td>30.4</td>\n",
              "      <td>33.0</td>\n",
              "      <td>38.5</td>\n",
              "      <td>14.9380</td>\n",
              "      <td>5.1975</td>\n",
              "    </tr>\n",
              "    <tr>\n",
              "      <th>101</th>\n",
              "      <td>Perch</td>\n",
              "      <td>218.0</td>\n",
              "      <td>25.0</td>\n",
              "      <td>26.5</td>\n",
              "      <td>28.0</td>\n",
              "      <td>7.1680</td>\n",
              "      <td>4.1440</td>\n",
              "    </tr>\n",
              "  </tbody>\n",
              "</table>\n",
              "</div>"
            ],
            "text/plain": [
              "    Species  Weight  VerticalLen  DiagonalLen  CrossLen   Height   Width\n",
              "40    Roach     0.0         19.0         20.5      22.8   6.4752  3.3516\n",
              "117   Perch   650.0         36.5         39.0      41.4  11.1366  6.0030\n",
              "137    Pike   500.0         42.0         45.0      48.0   6.9600  4.8960\n",
              "17    Bream   700.0         30.4         33.0      38.5  14.9380  5.1975\n",
              "101   Perch   218.0         25.0         26.5      28.0   7.1680  4.1440"
            ]
          },
          "metadata": {
            "tags": []
          },
          "execution_count": 4
        }
      ]
    },
    {
      "cell_type": "markdown",
      "metadata": {
        "id": "v6vUuvuKGZ0d"
      },
      "source": [
        "Mencetak informasi secara rinci tentang dataset berupa jumlah baris & kolom, jumlah data kosong, tipe data, dan memori yang digunakan"
      ]
    },
    {
      "cell_type": "code",
      "metadata": {
        "colab": {
          "base_uri": "https://localhost:8080/"
        },
        "id": "Lp6V5WNDzFGE",
        "outputId": "ed88aa07-5f2f-472b-cc86-30e81aac9a2f"
      },
      "source": [
        "df.info()"
      ],
      "execution_count": null,
      "outputs": [
        {
          "output_type": "stream",
          "text": [
            "<class 'pandas.core.frame.DataFrame'>\n",
            "RangeIndex: 159 entries, 0 to 158\n",
            "Data columns (total 7 columns):\n",
            " #   Column       Non-Null Count  Dtype  \n",
            "---  ------       --------------  -----  \n",
            " 0   Species      159 non-null    object \n",
            " 1   Weight       159 non-null    float64\n",
            " 2   VerticalLen  159 non-null    float64\n",
            " 3   DiagonalLen  159 non-null    float64\n",
            " 4   CrossLen     159 non-null    float64\n",
            " 5   Height       159 non-null    float64\n",
            " 6   Width        159 non-null    float64\n",
            "dtypes: float64(6), object(1)\n",
            "memory usage: 8.8+ KB\n"
          ],
          "name": "stdout"
        }
      ]
    },
    {
      "cell_type": "code",
      "metadata": {
        "colab": {
          "base_uri": "https://localhost:8080/"
        },
        "id": "FbP30U7_zJlD",
        "outputId": "54560fbc-4bd5-4dc9-a57c-91ce801b9563"
      },
      "source": [
        "df.isna().sum() # Untuk menampilkan jumlah nilai kosong dari setiap kolom dan tidak ada nilai null dalam dataset ini"
      ],
      "execution_count": null,
      "outputs": [
        {
          "output_type": "execute_result",
          "data": {
            "text/plain": [
              "Species        0\n",
              "Weight         0\n",
              "VerticalLen    0\n",
              "DiagonalLen    0\n",
              "CrossLen       0\n",
              "Height         0\n",
              "Width          0\n",
              "dtype: int64"
            ]
          },
          "metadata": {
            "tags": []
          },
          "execution_count": 6
        }
      ]
    },
    {
      "cell_type": "code",
      "metadata": {
        "colab": {
          "base_uri": "https://localhost:8080/"
        },
        "id": "Ejvr-ENXzMhl",
        "outputId": "ec2e9673-8775-49e3-fbc2-da52017e6101"
      },
      "source": [
        "df.Species.value_counts() # Untuk mengetahui jumlah dari setiap spesies"
      ],
      "execution_count": null,
      "outputs": [
        {
          "output_type": "execute_result",
          "data": {
            "text/plain": [
              "Perch        56\n",
              "Bream        35\n",
              "Roach        20\n",
              "Pike         17\n",
              "Smelt        14\n",
              "Parkki       11\n",
              "Whitefish     6\n",
              "Name: Species, dtype: int64"
            ]
          },
          "metadata": {
            "tags": []
          },
          "execution_count": 7
        }
      ]
    },
    {
      "cell_type": "code",
      "metadata": {
        "colab": {
          "base_uri": "https://localhost:8080/",
          "height": 80
        },
        "id": "KkiE5re7zP3u",
        "outputId": "a324421b-2055-4730-9f7f-196a59f998f9"
      },
      "source": [
        "df_sp = df.Species.value_counts()\n",
        "df_sp = pd.DataFrame(df_sp)\n",
        "df_sp.T \n",
        "# Menampilkan jumlah dari setiap spesies secara vertikal"
      ],
      "execution_count": null,
      "outputs": [
        {
          "output_type": "execute_result",
          "data": {
            "text/html": [
              "<div>\n",
              "<style scoped>\n",
              "    .dataframe tbody tr th:only-of-type {\n",
              "        vertical-align: middle;\n",
              "    }\n",
              "\n",
              "    .dataframe tbody tr th {\n",
              "        vertical-align: top;\n",
              "    }\n",
              "\n",
              "    .dataframe thead th {\n",
              "        text-align: right;\n",
              "    }\n",
              "</style>\n",
              "<table border=\"1\" class=\"dataframe\">\n",
              "  <thead>\n",
              "    <tr style=\"text-align: right;\">\n",
              "      <th></th>\n",
              "      <th>Perch</th>\n",
              "      <th>Bream</th>\n",
              "      <th>Roach</th>\n",
              "      <th>Pike</th>\n",
              "      <th>Smelt</th>\n",
              "      <th>Parkki</th>\n",
              "      <th>Whitefish</th>\n",
              "    </tr>\n",
              "  </thead>\n",
              "  <tbody>\n",
              "    <tr>\n",
              "      <th>Species</th>\n",
              "      <td>56</td>\n",
              "      <td>35</td>\n",
              "      <td>20</td>\n",
              "      <td>17</td>\n",
              "      <td>14</td>\n",
              "      <td>11</td>\n",
              "      <td>6</td>\n",
              "    </tr>\n",
              "  </tbody>\n",
              "</table>\n",
              "</div>"
            ],
            "text/plain": [
              "         Perch  Bream  Roach  Pike  Smelt  Parkki  Whitefish\n",
              "Species     56     35     20    17     14      11          6"
            ]
          },
          "metadata": {
            "tags": []
          },
          "execution_count": 8
        }
      ]
    },
    {
      "cell_type": "code",
      "metadata": {
        "colab": {
          "base_uri": "https://localhost:8080/",
          "height": 295
        },
        "id": "BcQe1JfLzSs_",
        "outputId": "ebe0cee7-0ab7-42f5-90db-bccfe6873edb"
      },
      "source": [
        "sns.barplot(x= df_sp.index, y = df_sp.Species) # Menampilkan jumlah ikan berdasarkan spesies dalam bentuk barplot\n",
        "plt.xlabel('Species')\n",
        "plt.ylabel('Count of Species')\n",
        "plt.rcParams[\"figure.figsize\"] = (10,6)\n",
        "plt.title('Fish Count Based On Species')\n",
        "plt.show()"
      ],
      "execution_count": null,
      "outputs": [
        {
          "output_type": "display_data",
          "data": {
            "image/png": "[encoded data removed]",
            "text/plain": [
              "<Figure size 432x288 with 1 Axes>"
            ]
          },
          "metadata": {
            "tags": [],
            "needs_background": "light"
          }
        }
      ]
    },
    {
      "cell_type": "code",
      "metadata": {
        "colab": {
          "base_uri": "https://localhost:8080/",
          "height": 80
        },
        "id": "Ol_TvbL2zWGf",
        "outputId": "c8d13aeb-50fa-42ab-a52e-cd2a3fec01d9"
      },
      "source": [
        "df[df.Weight <= 0] # Mendari data dimana bobot ikan bernilai 0 atau kurang dari 0"
      ],
      "execution_count": null,
      "outputs": [
        {
          "output_type": "execute_result",
          "data": {
            "text/html": [
              "<div>\n",
              "<style scoped>\n",
              "    .dataframe tbody tr th:only-of-type {\n",
              "        vertical-align: middle;\n",
              "    }\n",
              "\n",
              "    .dataframe tbody tr th {\n",
              "        vertical-align: top;\n",
              "    }\n",
              "\n",
              "    .dataframe thead th {\n",
              "        text-align: right;\n",
              "    }\n",
              "</style>\n",
              "<table border=\"1\" class=\"dataframe\">\n",
              "  <thead>\n",
              "    <tr style=\"text-align: right;\">\n",
              "      <th></th>\n",
              "      <th>Species</th>\n",
              "      <th>Weight</th>\n",
              "      <th>VerticalLen</th>\n",
              "      <th>DiagonalLen</th>\n",
              "      <th>CrossLen</th>\n",
              "      <th>Height</th>\n",
              "      <th>Width</th>\n",
              "    </tr>\n",
              "  </thead>\n",
              "  <tbody>\n",
              "    <tr>\n",
              "      <th>40</th>\n",
              "      <td>Roach</td>\n",
              "      <td>0.0</td>\n",
              "      <td>19.0</td>\n",
              "      <td>20.5</td>\n",
              "      <td>22.8</td>\n",
              "      <td>6.4752</td>\n",
              "      <td>3.3516</td>\n",
              "    </tr>\n",
              "  </tbody>\n",
              "</table>\n",
              "</div>"
            ],
            "text/plain": [
              "   Species  Weight  VerticalLen  DiagonalLen  CrossLen  Height   Width\n",
              "40   Roach     0.0         19.0         20.5      22.8  6.4752  3.3516"
            ]
          },
          "metadata": {
            "tags": []
          },
          "execution_count": 10
        }
      ]
    },
    {
      "cell_type": "code",
      "metadata": {
        "colab": {
          "base_uri": "https://localhost:8080/",
          "height": 221
        },
        "id": "YaOZflRnzZkc",
        "outputId": "757696ee-4c5b-49ca-ad5b-7758a72ce560"
      },
      "source": [
        "df1 = df.drop([40]) # Menghilangkan atau menghapus data ke 40\n",
        "print('New dimension of dataset is= ', df1.shape) # Menampilkan jumlah kolom dan baris yang terbaru\n",
        "df1.head(5)"
      ],
      "execution_count": null,
      "outputs": [
        {
          "output_type": "stream",
          "text": [
            "New dimension of dataset is=  (158, 7)\n"
          ],
          "name": "stdout"
        },
        {
          "output_type": "execute_result",
          "data": {
            "text/html": [
              "<div>\n",
              "<style scoped>\n",
              "    .dataframe tbody tr th:only-of-type {\n",
              "        vertical-align: middle;\n",
              "    }\n",
              "\n",
              "    .dataframe tbody tr th {\n",
              "        vertical-align: top;\n",
              "    }\n",
              "\n",
              "    .dataframe thead th {\n",
              "        text-align: right;\n",
              "    }\n",
              "</style>\n",
              "<table border=\"1\" class=\"dataframe\">\n",
              "  <thead>\n",
              "    <tr style=\"text-align: right;\">\n",
              "      <th></th>\n",
              "      <th>Species</th>\n",
              "      <th>Weight</th>\n",
              "      <th>VerticalLen</th>\n",
              "      <th>DiagonalLen</th>\n",
              "      <th>CrossLen</th>\n",
              "      <th>Height</th>\n",
              "      <th>Width</th>\n",
              "    </tr>\n",
              "  </thead>\n",
              "  <tbody>\n",
              "    <tr>\n",
              "      <th>0</th>\n",
              "      <td>Bream</td>\n",
              "      <td>242.0</td>\n",
              "      <td>23.2</td>\n",
              "      <td>25.4</td>\n",
              "      <td>30.0</td>\n",
              "      <td>11.5200</td>\n",
              "      <td>4.0200</td>\n",
              "    </tr>\n",
              "    <tr>\n",
              "      <th>1</th>\n",
              "      <td>Bream</td>\n",
              "      <td>290.0</td>\n",
              "      <td>24.0</td>\n",
              "      <td>26.3</td>\n",
              "      <td>31.2</td>\n",
              "      <td>12.4800</td>\n",
              "      <td>4.3056</td>\n",
              "    </tr>\n",
              "    <tr>\n",
              "      <th>2</th>\n",
              "      <td>Bream</td>\n",
              "      <td>340.0</td>\n",
              "      <td>23.9</td>\n",
              "      <td>26.5</td>\n",
              "      <td>31.1</td>\n",
              "      <td>12.3778</td>\n",
              "      <td>4.6961</td>\n",
              "    </tr>\n",
              "    <tr>\n",
              "      <th>3</th>\n",
              "      <td>Bream</td>\n",
              "      <td>363.0</td>\n",
              "      <td>26.3</td>\n",
              "      <td>29.0</td>\n",
              "      <td>33.5</td>\n",
              "      <td>12.7300</td>\n",
              "      <td>4.4555</td>\n",
              "    </tr>\n",
              "    <tr>\n",
              "      <th>4</th>\n",
              "      <td>Bream</td>\n",
              "      <td>430.0</td>\n",
              "      <td>26.5</td>\n",
              "      <td>29.0</td>\n",
              "      <td>34.0</td>\n",
              "      <td>12.4440</td>\n",
              "      <td>5.1340</td>\n",
              "    </tr>\n",
              "  </tbody>\n",
              "</table>\n",
              "</div>"
            ],
            "text/plain": [
              "  Species  Weight  VerticalLen  DiagonalLen  CrossLen   Height   Width\n",
              "0   Bream   242.0         23.2         25.4      30.0  11.5200  4.0200\n",
              "1   Bream   290.0         24.0         26.3      31.2  12.4800  4.3056\n",
              "2   Bream   340.0         23.9         26.5      31.1  12.3778  4.6961\n",
              "3   Bream   363.0         26.3         29.0      33.5  12.7300  4.4555\n",
              "4   Bream   430.0         26.5         29.0      34.0  12.4440  5.1340"
            ]
          },
          "metadata": {
            "tags": []
          },
          "execution_count": 11
        }
      ]
    },
    {
      "cell_type": "code",
      "metadata": {
        "colab": {
          "base_uri": "https://localhost:8080/",
          "height": 235
        },
        "id": "hBrHEmA6zdqP",
        "outputId": "95526e3b-34c4-422b-875b-bdd6aa616b5b"
      },
      "source": [
        "df1.corr() # Untuk mengetahui korelasi agar bisa mengetahui hubungan antar variabel"
      ],
      "execution_count": null,
      "outputs": [
        {
          "output_type": "execute_result",
          "data": {
            "text/html": [
              "<div>\n",
              "<style scoped>\n",
              "    .dataframe tbody tr th:only-of-type {\n",
              "        vertical-align: middle;\n",
              "    }\n",
              "\n",
              "    .dataframe tbody tr th {\n",
              "        vertical-align: top;\n",
              "    }\n",
              "\n",
              "    .dataframe thead th {\n",
              "        text-align: right;\n",
              "    }\n",
              "</style>\n",
              "<table border=\"1\" class=\"dataframe\">\n",
              "  <thead>\n",
              "    <tr style=\"text-align: right;\">\n",
              "      <th></th>\n",
              "      <th>Weight</th>\n",
              "      <th>VerticalLen</th>\n",
              "      <th>DiagonalLen</th>\n",
              "      <th>CrossLen</th>\n",
              "      <th>Height</th>\n",
              "      <th>Width</th>\n",
              "    </tr>\n",
              "  </thead>\n",
              "  <tbody>\n",
              "    <tr>\n",
              "      <th>Weight</th>\n",
              "      <td>1.000000</td>\n",
              "      <td>0.915719</td>\n",
              "      <td>0.918603</td>\n",
              "      <td>0.923090</td>\n",
              "      <td>0.723857</td>\n",
              "      <td>0.886654</td>\n",
              "    </tr>\n",
              "    <tr>\n",
              "      <th>VerticalLen</th>\n",
              "      <td>0.915719</td>\n",
              "      <td>1.000000</td>\n",
              "      <td>0.999516</td>\n",
              "      <td>0.992004</td>\n",
              "      <td>0.624409</td>\n",
              "      <td>0.866684</td>\n",
              "    </tr>\n",
              "    <tr>\n",
              "      <th>DiagonalLen</th>\n",
              "      <td>0.918603</td>\n",
              "      <td>0.999516</td>\n",
              "      <td>1.000000</td>\n",
              "      <td>0.994083</td>\n",
              "      <td>0.639503</td>\n",
              "      <td>0.873201</td>\n",
              "    </tr>\n",
              "    <tr>\n",
              "      <th>CrossLen</th>\n",
              "      <td>0.923090</td>\n",
              "      <td>0.992004</td>\n",
              "      <td>0.994083</td>\n",
              "      <td>1.000000</td>\n",
              "      <td>0.702655</td>\n",
              "      <td>0.878189</td>\n",
              "    </tr>\n",
              "    <tr>\n",
              "      <th>Height</th>\n",
              "      <td>0.723857</td>\n",
              "      <td>0.624409</td>\n",
              "      <td>0.639503</td>\n",
              "      <td>0.702655</td>\n",
              "      <td>1.000000</td>\n",
              "      <td>0.792401</td>\n",
              "    </tr>\n",
              "    <tr>\n",
              "      <th>Width</th>\n",
              "      <td>0.886654</td>\n",
              "      <td>0.866684</td>\n",
              "      <td>0.873201</td>\n",
              "      <td>0.878189</td>\n",
              "      <td>0.792401</td>\n",
              "      <td>1.000000</td>\n",
              "    </tr>\n",
              "  </tbody>\n",
              "</table>\n",
              "</div>"
            ],
            "text/plain": [
              "               Weight  VerticalLen  DiagonalLen  CrossLen    Height     Width\n",
              "Weight       1.000000     0.915719     0.918603  0.923090  0.723857  0.886654\n",
              "VerticalLen  0.915719     1.000000     0.999516  0.992004  0.624409  0.866684\n",
              "DiagonalLen  0.918603     0.999516     1.000000  0.994083  0.639503  0.873201\n",
              "CrossLen     0.923090     0.992004     0.994083  1.000000  0.702655  0.878189\n",
              "Height       0.723857     0.624409     0.639503  0.702655  1.000000  0.792401\n",
              "Width        0.886654     0.866684     0.873201  0.878189  0.792401  1.000000"
            ]
          },
          "metadata": {
            "tags": []
          },
          "execution_count": 12
        }
      ]
    },
    {
      "cell_type": "code",
      "metadata": {
        "colab": {
          "base_uri": "https://localhost:8080/",
          "height": 407
        },
        "id": "b09Q_RFwzhBx",
        "outputId": "22182569-3bee-4685-aab0-58bce24a7bfa"
      },
      "source": [
        "plt.rcParams[\"figure.figsize\"] = (10,6) #Menampilkan dalam bentuk correlation matrix\n",
        "sns.heatmap(df1.corr(), annot =True)\n",
        "plt.title('Correlation Matrix')"
      ],
      "execution_count": null,
      "outputs": [
        {
          "output_type": "execute_result",
          "data": {
            "text/plain": [
              "Text(0.5, 1.0, 'Correlation Matrix')"
            ]
          },
          "metadata": {
            "tags": []
          },
          "execution_count": 13
        },
        {
          "output_type": "display_data",
          "data": {
            "image/png": "[encoded data removed]",
            "text/plain": [
              "<Figure size 720x432 with 2 Axes>"
            ]
          },
          "metadata": {
            "tags": [],
            "needs_background": "light"
          }
        }
      ]
    },
    {
      "cell_type": "markdown",
      "metadata": {
        "id": "1HAYY8EfK4i-"
      },
      "source": [
        "Korelasi antara verticallen, diagonallen, dan crosslen mendekati 1. Hal ini dapat menyebabkan multikolinieritas. Oleh karena itu harus menghilangkan atau menghapus 3 kolom tersebut."
      ]
    },
    {
      "cell_type": "code",
      "metadata": {
        "colab": {
          "base_uri": "https://localhost:8080/",
          "height": 221
        },
        "id": "ZVxmw2uWzlLZ",
        "outputId": "5dc1f2c6-81ba-4e36-eea6-2b033e99f312"
      },
      "source": [
        "df2 = df1.drop(['VerticalLen', 'DiagonalLen', 'CrossLen'], axis =1) # Menghapus 3 kolom\n",
        "print('New dimension of dataset is= ', df2.shape) # mengupdate jumlah kolom yang baru\n",
        "df2.head()"
      ],
      "execution_count": null,
      "outputs": [
        {
          "output_type": "stream",
          "text": [
            "New dimension of dataset is=  (158, 4)\n"
          ],
          "name": "stdout"
        },
        {
          "output_type": "execute_result",
          "data": {
            "text/html": [
              "<div>\n",
              "<style scoped>\n",
              "    .dataframe tbody tr th:only-of-type {\n",
              "        vertical-align: middle;\n",
              "    }\n",
              "\n",
              "    .dataframe tbody tr th {\n",
              "        vertical-align: top;\n",
              "    }\n",
              "\n",
              "    .dataframe thead th {\n",
              "        text-align: right;\n",
              "    }\n",
              "</style>\n",
              "<table border=\"1\" class=\"dataframe\">\n",
              "  <thead>\n",
              "    <tr style=\"text-align: right;\">\n",
              "      <th></th>\n",
              "      <th>Species</th>\n",
              "      <th>Weight</th>\n",
              "      <th>Height</th>\n",
              "      <th>Width</th>\n",
              "    </tr>\n",
              "  </thead>\n",
              "  <tbody>\n",
              "    <tr>\n",
              "      <th>0</th>\n",
              "      <td>Bream</td>\n",
              "      <td>242.0</td>\n",
              "      <td>11.5200</td>\n",
              "      <td>4.0200</td>\n",
              "    </tr>\n",
              "    <tr>\n",
              "      <th>1</th>\n",
              "      <td>Bream</td>\n",
              "      <td>290.0</td>\n",
              "      <td>12.4800</td>\n",
              "      <td>4.3056</td>\n",
              "    </tr>\n",
              "    <tr>\n",
              "      <th>2</th>\n",
              "      <td>Bream</td>\n",
              "      <td>340.0</td>\n",
              "      <td>12.3778</td>\n",
              "      <td>4.6961</td>\n",
              "    </tr>\n",
              "    <tr>\n",
              "      <th>3</th>\n",
              "      <td>Bream</td>\n",
              "      <td>363.0</td>\n",
              "      <td>12.7300</td>\n",
              "      <td>4.4555</td>\n",
              "    </tr>\n",
              "    <tr>\n",
              "      <th>4</th>\n",
              "      <td>Bream</td>\n",
              "      <td>430.0</td>\n",
              "      <td>12.4440</td>\n",
              "      <td>5.1340</td>\n",
              "    </tr>\n",
              "  </tbody>\n",
              "</table>\n",
              "</div>"
            ],
            "text/plain": [
              "  Species  Weight   Height   Width\n",
              "0   Bream   242.0  11.5200  4.0200\n",
              "1   Bream   290.0  12.4800  4.3056\n",
              "2   Bream   340.0  12.3778  4.6961\n",
              "3   Bream   363.0  12.7300  4.4555\n",
              "4   Bream   430.0  12.4440  5.1340"
            ]
          },
          "metadata": {
            "tags": []
          },
          "execution_count": 14
        }
      ]
    },
    {
      "cell_type": "code",
      "metadata": {
        "colab": {
          "base_uri": "https://localhost:8080/",
          "height": 567
        },
        "id": "v0zrMebezpu3",
        "outputId": "acebeea4-1faa-4bec-b69a-f967d7e8f6e6"
      },
      "source": [
        "sns.pairplot(df2, kind = 'scatter', hue = 'Species') #Memvisualisasikan menggunakan pairplot"
      ],
      "execution_count": null,
      "outputs": [
        {
          "output_type": "execute_result",
          "data": {
            "text/plain": [
              "<seaborn.axisgrid.PairGrid at 0x7f92f6f49da0>"
            ]
          },
          "metadata": {
            "tags": []
          },
          "execution_count": 15
        },
        {
          "output_type": "display_data",
          "data": {
            "image/png": "[encoded data removed]",
            "text/plain": [
              "<Figure size 623.25x540 with 12 Axes>"
            ]
          },
          "metadata": {
            "tags": [],
            "needs_background": "light"
          }
        }
      ]
    },
    {
      "cell_type": "markdown",
      "metadata": {
        "id": "bkMLFPX9MNMd"
      },
      "source": [
        "Dari boxplot dibawah diketahui bahwa ada tiga pencilan pada data 'Weight'"
      ]
    },
    {
      "cell_type": "code",
      "metadata": {
        "colab": {
          "base_uri": "https://localhost:8080/",
          "height": 421
        },
        "id": "d8RgACYKztjy",
        "outputId": "6cb64176-073a-4595-8825-8a101e4813ee"
      },
      "source": [
        "sns.boxplot(x=df2['Weight'])\n",
        "plt.title('Outlier Detection based on Weight')"
      ],
      "execution_count": null,
      "outputs": [
        {
          "output_type": "execute_result",
          "data": {
            "text/plain": [
              "Text(0.5, 1.0, 'Outlier Detection based on Weight')"
            ]
          },
          "metadata": {
            "tags": []
          },
          "execution_count": 16
        },
        {
          "output_type": "display_data",
          "data": {
            "image/png": "[encoded data removed]",
            "text/plain": [
              "<Figure size 720x432 with 1 Axes>"
            ]
          },
          "metadata": {
            "tags": [],
            "needs_background": "light"
          }
        }
      ]
    },
    {
      "cell_type": "markdown",
      "metadata": {
        "id": "ZPX-WCezMdzS"
      },
      "source": [
        "Membuat fungsi untuk menemukan outliers dari data ini"
      ]
    },
    {
      "cell_type": "code",
      "metadata": {
        "id": "x5pKPLddzzPx"
      },
      "source": [
        "def outlier_detection(dataframe):\n",
        "  Q1 = dataframe.quantile(0.25)\n",
        "  Q3 = dataframe.quantile(0.75)\n",
        "  IQR = Q3 - Q1\n",
        "  upper_end = Q3 + 1.5 * IQR\n",
        "  lower_end = Q1 - 1.5 * IQR \n",
        "  outlier = dataframe[(dataframe > upper_end) | (dataframe < lower_end)]\n",
        "  return outlier"
      ],
      "execution_count": null,
      "outputs": []
    },
    {
      "cell_type": "markdown",
      "metadata": {
        "id": "nSRBQDlrMmEy"
      },
      "source": [
        "Jadi berdasarkan data 'Weight', indeks 142, 143, dan 144 merupakan outlier"
      ]
    },
    {
      "cell_type": "code",
      "metadata": {
        "colab": {
          "base_uri": "https://localhost:8080/"
        },
        "id": "ZHfwV4_Ez1hw",
        "outputId": "4f6a9179-47cb-4549-ba6e-69da96ff07a4"
      },
      "source": [
        "outlier_detection(df2['Weight'])"
      ],
      "execution_count": null,
      "outputs": [
        {
          "output_type": "execute_result",
          "data": {
            "text/plain": [
              "142    1600.0\n",
              "143    1550.0\n",
              "144    1650.0\n",
              "Name: Weight, dtype: float64"
            ]
          },
          "metadata": {
            "tags": []
          },
          "execution_count": 19
        }
      ]
    },
    {
      "cell_type": "markdown",
      "metadata": {
        "id": "LzDIrIdMOFYO"
      },
      "source": [
        "Dari boxplot dibawah dapat diketahui bahwa tidak ada outliers dalam data 'Height'"
      ]
    },
    {
      "cell_type": "code",
      "metadata": {
        "colab": {
          "base_uri": "https://localhost:8080/",
          "height": 421
        },
        "id": "gzEs61ttz61C",
        "outputId": "c9d3f16e-032d-469b-b43d-e90130bc8d7d"
      },
      "source": [
        "sns.boxplot(x =df2['Height'])\n",
        "plt.title('Outlier Detection based on Height')"
      ],
      "execution_count": null,
      "outputs": [
        {
          "output_type": "execute_result",
          "data": {
            "text/plain": [
              "Text(0.5, 1.0, 'Outlier Detection based on Height')"
            ]
          },
          "metadata": {
            "tags": []
          },
          "execution_count": 20
        },
        {
          "output_type": "display_data",
          "data": {
            "image/png": "[encoded data removed]",
            "text/plain": [
              "<Figure size 720x432 with 1 Axes>"
            ]
          },
          "metadata": {
            "tags": [],
            "needs_background": "light"
          }
        }
      ]
    },
    {
      "cell_type": "markdown",
      "metadata": {
        "id": "fepDcyU6OS6d"
      },
      "source": [
        "Dari boxplot dibawah dapat diketahui bahwa tidak ada outliers pada data 'Width'"
      ]
    },
    {
      "cell_type": "code",
      "metadata": {
        "colab": {
          "base_uri": "https://localhost:8080/",
          "height": 421
        },
        "id": "DNwGHx1Tz86R",
        "outputId": "fe2e8ea6-27b5-401d-8cf0-bbfe519469bd"
      },
      "source": [
        "sns.boxplot(x = df2['Width'])\n",
        "plt.title('Outlier Detection based on Width')"
      ],
      "execution_count": null,
      "outputs": [
        {
          "output_type": "execute_result",
          "data": {
            "text/plain": [
              "Text(0.5, 1.0, 'Outlier Detection based on Width')"
            ]
          },
          "metadata": {
            "tags": []
          },
          "execution_count": 21
        },
        {
          "output_type": "display_data",
          "data": {
            "image/png": "[encoded data removed]",
            "text/plain": [
              "<Figure size 720x432 with 1 Axes>"
            ]
          },
          "metadata": {
            "tags": [],
            "needs_background": "light"
          }
        }
      ]
    },
    {
      "cell_type": "code",
      "metadata": {
        "colab": {
          "base_uri": "https://localhost:8080/"
        },
        "id": "TyoWwGoO0BFy",
        "outputId": "d571d409-1025-4966-824c-d65e327030c6"
      },
      "source": [
        "df3 = df2.drop([142,143,144]) # Menghilangkan indeks 142, 143, dan 144\n",
        "df3.shape # Mengupdate data terbaru"
      ],
      "execution_count": null,
      "outputs": [
        {
          "output_type": "execute_result",
          "data": {
            "text/plain": [
              "(155, 4)"
            ]
          },
          "metadata": {
            "tags": []
          },
          "execution_count": 22
        }
      ]
    },
    {
      "cell_type": "code",
      "metadata": {
        "colab": {
          "base_uri": "https://localhost:8080/",
          "height": 142
        },
        "id": "XJsZnzHj0Drp",
        "outputId": "1654d453-560a-432d-effe-698baf5803a5"
      },
      "source": [
        "df3.describe().T "
      ],
      "execution_count": null,
      "outputs": [
        {
          "output_type": "execute_result",
          "data": {
            "text/html": [
              "<div>\n",
              "<style scoped>\n",
              "    .dataframe tbody tr th:only-of-type {\n",
              "        vertical-align: middle;\n",
              "    }\n",
              "\n",
              "    .dataframe tbody tr th {\n",
              "        vertical-align: top;\n",
              "    }\n",
              "\n",
              "    .dataframe thead th {\n",
              "        text-align: right;\n",
              "    }\n",
              "</style>\n",
              "<table border=\"1\" class=\"dataframe\">\n",
              "  <thead>\n",
              "    <tr style=\"text-align: right;\">\n",
              "      <th></th>\n",
              "      <th>count</th>\n",
              "      <th>mean</th>\n",
              "      <th>std</th>\n",
              "      <th>min</th>\n",
              "      <th>25%</th>\n",
              "      <th>50%</th>\n",
              "      <th>75%</th>\n",
              "      <th>max</th>\n",
              "    </tr>\n",
              "  </thead>\n",
              "  <tbody>\n",
              "    <tr>\n",
              "      <th>Weight</th>\n",
              "      <td>155.0</td>\n",
              "      <td>377.638065</td>\n",
              "      <td>319.144511</td>\n",
              "      <td>5.9000</td>\n",
              "      <td>120.00000</td>\n",
              "      <td>272.0000</td>\n",
              "      <td>615.00000</td>\n",
              "      <td>1250.000</td>\n",
              "    </tr>\n",
              "    <tr>\n",
              "      <th>Height</th>\n",
              "      <td>155.0</td>\n",
              "      <td>8.967102</td>\n",
              "      <td>4.333722</td>\n",
              "      <td>1.7284</td>\n",
              "      <td>5.92695</td>\n",
              "      <td>7.6800</td>\n",
              "      <td>12.37930</td>\n",
              "      <td>18.957</td>\n",
              "    </tr>\n",
              "    <tr>\n",
              "      <th>Width</th>\n",
              "      <td>155.0</td>\n",
              "      <td>4.382326</td>\n",
              "      <td>1.675564</td>\n",
              "      <td>1.0476</td>\n",
              "      <td>3.38565</td>\n",
              "      <td>4.2476</td>\n",
              "      <td>5.47275</td>\n",
              "      <td>8.142</td>\n",
              "    </tr>\n",
              "  </tbody>\n",
              "</table>\n",
              "</div>"
            ],
            "text/plain": [
              "        count        mean         std  ...       50%        75%       max\n",
              "Weight  155.0  377.638065  319.144511  ...  272.0000  615.00000  1250.000\n",
              "Height  155.0    8.967102    4.333722  ...    7.6800   12.37930    18.957\n",
              "Width   155.0    4.382326    1.675564  ...    4.2476    5.47275     8.142\n",
              "\n",
              "[3 rows x 8 columns]"
            ]
          },
          "metadata": {
            "tags": []
          },
          "execution_count": 23
        }
      ]
    },
    {
      "cell_type": "markdown",
      "metadata": {
        "id": "TaaXfN4T0bCA"
      },
      "source": [
        "# **PEMODELAN DATA**"
      ]
    },
    {
      "cell_type": "markdown",
      "metadata": {
        "id": "aZINZplQ0hZ6"
      },
      "source": [
        "**Build Machine Learning Model**"
      ]
    },
    {
      "cell_type": "code",
      "metadata": {
        "colab": {
          "base_uri": "https://localhost:8080/",
          "height": 204
        },
        "id": "kT7n3yhA0vR6",
        "outputId": "fdcc2dea-739f-4963-8ea3-76492c8ef54f"
      },
      "source": [
        "X = df3[['Height','Width']] # Memilih kolom menggunakan indeks kolom\n",
        "X.head()"
      ],
      "execution_count": null,
      "outputs": [
        {
          "output_type": "execute_result",
          "data": {
            "text/html": [
              "<div>\n",
              "<style scoped>\n",
              "    .dataframe tbody tr th:only-of-type {\n",
              "        vertical-align: middle;\n",
              "    }\n",
              "\n",
              "    .dataframe tbody tr th {\n",
              "        vertical-align: top;\n",
              "    }\n",
              "\n",
              "    .dataframe thead th {\n",
              "        text-align: right;\n",
              "    }\n",
              "</style>\n",
              "<table border=\"1\" class=\"dataframe\">\n",
              "  <thead>\n",
              "    <tr style=\"text-align: right;\">\n",
              "      <th></th>\n",
              "      <th>Height</th>\n",
              "      <th>Width</th>\n",
              "    </tr>\n",
              "  </thead>\n",
              "  <tbody>\n",
              "    <tr>\n",
              "      <th>0</th>\n",
              "      <td>11.5200</td>\n",
              "      <td>4.0200</td>\n",
              "    </tr>\n",
              "    <tr>\n",
              "      <th>1</th>\n",
              "      <td>12.4800</td>\n",
              "      <td>4.3056</td>\n",
              "    </tr>\n",
              "    <tr>\n",
              "      <th>2</th>\n",
              "      <td>12.3778</td>\n",
              "      <td>4.6961</td>\n",
              "    </tr>\n",
              "    <tr>\n",
              "      <th>3</th>\n",
              "      <td>12.7300</td>\n",
              "      <td>4.4555</td>\n",
              "    </tr>\n",
              "    <tr>\n",
              "      <th>4</th>\n",
              "      <td>12.4440</td>\n",
              "      <td>5.1340</td>\n",
              "    </tr>\n",
              "  </tbody>\n",
              "</table>\n",
              "</div>"
            ],
            "text/plain": [
              "    Height   Width\n",
              "0  11.5200  4.0200\n",
              "1  12.4800  4.3056\n",
              "2  12.3778  4.6961\n",
              "3  12.7300  4.4555\n",
              "4  12.4440  5.1340"
            ]
          },
          "metadata": {
            "tags": []
          },
          "execution_count": 24
        }
      ]
    },
    {
      "cell_type": "code",
      "metadata": {
        "colab": {
          "base_uri": "https://localhost:8080/",
          "height": 204
        },
        "id": "p5HzNzFj0xvs",
        "outputId": "8a81d563-317c-49e2-9a49-254df04b7a1e"
      },
      "source": [
        "y = df3[['Weight']]\n",
        "y.head(5)"
      ],
      "execution_count": null,
      "outputs": [
        {
          "output_type": "execute_result",
          "data": {
            "text/html": [
              "<div>\n",
              "<style scoped>\n",
              "    .dataframe tbody tr th:only-of-type {\n",
              "        vertical-align: middle;\n",
              "    }\n",
              "\n",
              "    .dataframe tbody tr th {\n",
              "        vertical-align: top;\n",
              "    }\n",
              "\n",
              "    .dataframe thead th {\n",
              "        text-align: right;\n",
              "    }\n",
              "</style>\n",
              "<table border=\"1\" class=\"dataframe\">\n",
              "  <thead>\n",
              "    <tr style=\"text-align: right;\">\n",
              "      <th></th>\n",
              "      <th>Weight</th>\n",
              "    </tr>\n",
              "  </thead>\n",
              "  <tbody>\n",
              "    <tr>\n",
              "      <th>0</th>\n",
              "      <td>242.0</td>\n",
              "    </tr>\n",
              "    <tr>\n",
              "      <th>1</th>\n",
              "      <td>290.0</td>\n",
              "    </tr>\n",
              "    <tr>\n",
              "      <th>2</th>\n",
              "      <td>340.0</td>\n",
              "    </tr>\n",
              "    <tr>\n",
              "      <th>3</th>\n",
              "      <td>363.0</td>\n",
              "    </tr>\n",
              "    <tr>\n",
              "      <th>4</th>\n",
              "      <td>430.0</td>\n",
              "    </tr>\n",
              "  </tbody>\n",
              "</table>\n",
              "</div>"
            ],
            "text/plain": [
              "   Weight\n",
              "0   242.0\n",
              "1   290.0\n",
              "2   340.0\n",
              "3   363.0\n",
              "4   430.0"
            ]
          },
          "metadata": {
            "tags": []
          },
          "execution_count": 25
        }
      ]
    },
    {
      "cell_type": "markdown",
      "metadata": {
        "id": "kKYSkbpBPwRS"
      },
      "source": [
        "Membagi dataset menjadi dua dimana 80% data digunakan untuk melatih model dan 20% data untuk menguji model. "
      ]
    },
    {
      "cell_type": "code",
      "metadata": {
        "colab": {
          "base_uri": "https://localhost:8080/"
        },
        "id": "5mh0IKFD00eq",
        "outputId": "916b021d-3e56-4209-9989-5c88efae869f"
      },
      "source": [
        "X_train,X_test, y_train, y_test = train_test_split(X, y, test_size =0.2, random_state = 42) \n",
        "print('X_train dimension= ', X_train.shape)\n",
        "print('X_test dimension= ', X_test.shape)\n",
        "print('y_train dimension= ', y_train.shape)\n",
        "print('y_train dimension= ', y_test.shape)"
      ],
      "execution_count": null,
      "outputs": [
        {
          "output_type": "stream",
          "text": [
            "X_train dimension=  (124, 2)\n",
            "X_test dimension=  (31, 2)\n",
            "y_train dimension=  (124, 1)\n",
            "y_train dimension=  (31, 1)\n"
          ],
          "name": "stdout"
        }
      ]
    },
    {
      "cell_type": "code",
      "metadata": {
        "colab": {
          "base_uri": "https://localhost:8080/"
        },
        "id": "7Y8MktQB03Lg",
        "outputId": "90732fd4-c375-4ef7-94a6-2a4c55dcdbf1"
      },
      "source": [
        "model = linear_model.LinearRegression()\n",
        "model.fit(X_train,y_train)"
      ],
      "execution_count": null,
      "outputs": [
        {
          "output_type": "execute_result",
          "data": {
            "text/plain": [
              "LinearRegression(copy_X=True, fit_intercept=True, n_jobs=None, normalize=False)"
            ]
          },
          "metadata": {
            "tags": []
          },
          "execution_count": 27
        }
      ]
    },
    {
      "cell_type": "code",
      "metadata": {
        "colab": {
          "base_uri": "https://localhost:8080/"
        },
        "id": "jcLuxHlU05xd",
        "outputId": "817405e0-21d8-48db-997f-5c0ec57106cc"
      },
      "source": [
        "print('coef= ', model.coef_) \n",
        "print('intercept= ', model.intercept_)\n",
        "print('score= ', model.score(X_test,y_test))"
      ],
      "execution_count": null,
      "outputs": [
        {
          "output_type": "stream",
          "text": [
            "coef=  [[ 10.40686081 151.73209963]]\n",
            "intercept=  [-386.16761436]\n",
            "score=  0.896022997657309\n"
          ],
          "name": "stdout"
        }
      ]
    },
    {
      "cell_type": "markdown",
      "metadata": {
        "id": "Ev35dCPCQ3hj"
      },
      "source": [
        "Memeriksa data 'Weight' dari data uji dan prediksi data 'Weight'. Dapat dilihat dari perbandingan dibawah bahwa prediksi data 'Weight' berniai negatif"
      ]
    },
    {
      "cell_type": "code",
      "metadata": {
        "colab": {
          "base_uri": "https://localhost:8080/",
          "height": 148
        },
        "id": "WrfqwIvj08vt",
        "outputId": "d19d8fb9-fac5-4e88-a3c8-a15a5af56234"
      },
      "source": [
        "predictedWeight = pd.DataFrame(model.predict(X_test), columns=['Predicted Weight']) # Create new dataframe of column'Predicted Weight'\n",
        "actualWeight = pd.DataFrame(y_test)\n",
        "actualWeight = actualWeight.reset_index(drop=True) # Drop the index so that we can concat it, to create new dataframe\n",
        "df_actual_vs_predicted = pd.concat([actualWeight,predictedWeight],axis =1)\n",
        "df_actual_vs_predicted.T\n"
      ],
      "execution_count": null,
      "outputs": [
        {
          "output_type": "execute_result",
          "data": {
            "text/html": [
              "<div>\n",
              "<style scoped>\n",
              "    .dataframe tbody tr th:only-of-type {\n",
              "        vertical-align: middle;\n",
              "    }\n",
              "\n",
              "    .dataframe tbody tr th {\n",
              "        vertical-align: top;\n",
              "    }\n",
              "\n",
              "    .dataframe thead th {\n",
              "        text-align: right;\n",
              "    }\n",
              "</style>\n",
              "<table border=\"1\" class=\"dataframe\">\n",
              "  <thead>\n",
              "    <tr style=\"text-align: right;\">\n",
              "      <th></th>\n",
              "      <th>0</th>\n",
              "      <th>1</th>\n",
              "      <th>2</th>\n",
              "      <th>3</th>\n",
              "      <th>4</th>\n",
              "      <th>5</th>\n",
              "      <th>6</th>\n",
              "      <th>7</th>\n",
              "      <th>8</th>\n",
              "      <th>9</th>\n",
              "      <th>10</th>\n",
              "      <th>11</th>\n",
              "      <th>12</th>\n",
              "      <th>13</th>\n",
              "      <th>14</th>\n",
              "      <th>15</th>\n",
              "      <th>16</th>\n",
              "      <th>17</th>\n",
              "      <th>18</th>\n",
              "      <th>19</th>\n",
              "      <th>20</th>\n",
              "      <th>21</th>\n",
              "      <th>22</th>\n",
              "      <th>23</th>\n",
              "      <th>24</th>\n",
              "      <th>25</th>\n",
              "      <th>26</th>\n",
              "      <th>27</th>\n",
              "      <th>28</th>\n",
              "      <th>29</th>\n",
              "      <th>30</th>\n",
              "    </tr>\n",
              "  </thead>\n",
              "  <tbody>\n",
              "    <tr>\n",
              "      <th>Weight</th>\n",
              "      <td>110.000000</td>\n",
              "      <td>7.500000</td>\n",
              "      <td>955.000000</td>\n",
              "      <td>1000.0000</td>\n",
              "      <td>850.000000</td>\n",
              "      <td>55.000000</td>\n",
              "      <td>150.000000</td>\n",
              "      <td>10.000000</td>\n",
              "      <td>19.700000</td>\n",
              "      <td>200.000000</td>\n",
              "      <td>150.000000</td>\n",
              "      <td>770.000000</td>\n",
              "      <td>80.000000</td>\n",
              "      <td>70.000000</td>\n",
              "      <td>600.000000</td>\n",
              "      <td>650.000000</td>\n",
              "      <td>920.000000</td>\n",
              "      <td>130.000000</td>\n",
              "      <td>820.000000</td>\n",
              "      <td>567.00000</td>\n",
              "      <td>610.000000</td>\n",
              "      <td>500.000000</td>\n",
              "      <td>500.000000</td>\n",
              "      <td>700.000000</td>\n",
              "      <td>273.000000</td>\n",
              "      <td>430.000000</td>\n",
              "      <td>225.000000</td>\n",
              "      <td>140.000000</td>\n",
              "      <td>120.000000</td>\n",
              "      <td>130.000000</td>\n",
              "      <td>1000.000000</td>\n",
              "    </tr>\n",
              "    <tr>\n",
              "      <th>Predicted Weight</th>\n",
              "      <td>212.481055</td>\n",
              "      <td>-189.636049</td>\n",
              "      <td>756.728427</td>\n",
              "      <td>813.0023</td>\n",
              "      <td>816.240658</td>\n",
              "      <td>38.098095</td>\n",
              "      <td>218.321182</td>\n",
              "      <td>-168.334196</td>\n",
              "      <td>-42.610188</td>\n",
              "      <td>277.385406</td>\n",
              "      <td>243.902004</td>\n",
              "      <td>509.468844</td>\n",
              "      <td>135.296622</td>\n",
              "      <td>107.899034</td>\n",
              "      <td>621.158619</td>\n",
              "      <td>633.519982</td>\n",
              "      <td>758.408033</td>\n",
              "      <td>224.652092</td>\n",
              "      <td>858.646552</td>\n",
              "      <td>433.85797</td>\n",
              "      <td>555.485094</td>\n",
              "      <td>419.788276</td>\n",
              "      <td>514.386807</td>\n",
              "      <td>630.875714</td>\n",
              "      <td>358.001479</td>\n",
              "      <td>384.100355</td>\n",
              "      <td>254.628228</td>\n",
              "      <td>186.506555</td>\n",
              "      <td>207.382732</td>\n",
              "      <td>216.491025</td>\n",
              "      <td>896.328271</td>\n",
              "    </tr>\n",
              "  </tbody>\n",
              "</table>\n",
              "</div>"
            ],
            "text/plain": [
              "                          0           1   ...          29           30\n",
              "Weight            110.000000    7.500000  ...  130.000000  1000.000000\n",
              "Predicted Weight  212.481055 -189.636049  ...  216.491025   896.328271\n",
              "\n",
              "[2 rows x 31 columns]"
            ]
          },
          "metadata": {
            "tags": []
          },
          "execution_count": 29
        }
      ]
    },
    {
      "cell_type": "markdown",
      "metadata": {
        "id": "LjtgBNMhRxIt"
      },
      "source": [
        "Memvisualisasikan menggunakan scatter plots"
      ]
    },
    {
      "cell_type": "code",
      "metadata": {
        "colab": {
          "base_uri": "https://localhost:8080/",
          "height": 421
        },
        "id": "oI_aCDpn1Bhu",
        "outputId": "9bbc1970-3135-43ab-bdfd-38ff887d4b53"
      },
      "source": [
        "plt.scatter(y_test, model.predict(X_test))\n",
        "plt.xlabel('Weight From Test Data')\n",
        "plt.ylabel('Weight Predicted By Model')\n",
        "plt.rcParams[\"figure.figsize\"] = (10,6) \n",
        "plt.title(\"Weight From test Data Vs Weight Predicted By Model\")"
      ],
      "execution_count": null,
      "outputs": [
        {
          "output_type": "execute_result",
          "data": {
            "text/plain": [
              "Text(0.5, 1.0, 'Weight From test Data Vs Weight Predicted By Model')"
            ]
          },
          "metadata": {
            "tags": []
          },
          "execution_count": 30
        },
        {
          "output_type": "display_data",
          "data": {
            "image/png": "[encoded data removed]",
            "text/plain": [
              "<Figure size 720x432 with 1 Axes>"
            ]
          },
          "metadata": {
            "tags": [],
            "needs_background": "light"
          }
        }
      ]
    },
    {
      "cell_type": "code",
      "metadata": {
        "colab": {
          "base_uri": "https://localhost:8080/",
          "height": 404
        },
        "id": "fQWFAdOA1GR0",
        "outputId": "253d2175-182a-49f7-caf8-d89a23c9d0ef"
      },
      "source": [
        "plt.scatter(X_test['Height'], y_test, color='red', label = 'Actual Weight')\n",
        "plt.scatter(X_test['Height'], model.predict(X_test), color='green', label = 'Prdicted Weight')\n",
        "plt.xlabel('Height')\n",
        "plt.ylabel('Weight')\n",
        "plt.rcParams[\"figure.figsize\"] = (10,6) # Custom figure size in inches\n",
        "plt.title('Actual Vs Predicted Weight for Test Data')\n",
        "plt.legend()\n",
        "plt.show()"
      ],
      "execution_count": null,
      "outputs": [
        {
          "output_type": "display_data",
          "data": {
            "image/png": "[encoded data removed]",
            "text/plain": [
              "<Figure size 720x432 with 1 Axes>"
            ]
          },
          "metadata": {
            "tags": [],
            "needs_background": "light"
          }
        }
      ]
    },
    {
      "cell_type": "code",
      "metadata": {
        "colab": {
          "base_uri": "https://localhost:8080/",
          "height": 404
        },
        "id": "qnXWxnu91I0Z",
        "outputId": "f959db7d-fc16-488d-97fb-a2ffff79cebb"
      },
      "source": [
        "plt.scatter(X_test['Width'], y_test, color='red', label = 'Actual Weight')\n",
        "plt.scatter(X_test['Width'], model.predict(X_test), color='green', label = 'Prdicted Weight')\n",
        "plt.xlabel('Width')\n",
        "plt.ylabel('Weight')\n",
        "plt.rcParams[\"figure.figsize\"] = (10,6) # Custom figure size in inches\n",
        "plt.title('Actual Vs Predicted Weight for Test Data')\n",
        "plt.legend()\n",
        "plt.show()"
      ],
      "execution_count": null,
      "outputs": [
        {
          "output_type": "display_data",
          "data": {
            "image/png": "[encoded data removed]",
            "text/plain": [
              "<Figure size 720x432 with 1 Axes>"
            ]
          },
          "metadata": {
            "tags": [],
            "needs_background": "light"
          }
        }
      ]
    },
    {
      "cell_type": "markdown",
      "metadata": {
        "id": "XG6Gr19L1L0-"
      },
      "source": [
        "# **EVALUASI MODEL**"
      ]
    },
    {
      "cell_type": "code",
      "metadata": {
        "colab": {
          "base_uri": "https://localhost:8080/",
          "height": 461
        },
        "id": "ul3ZZb5ZKgxZ",
        "outputId": "a75ff838-7e0a-4346-adbb-0174a1fa3f4b"
      },
      "source": [
        "sns.distplot((y_test-model.predict(X_test)))\r\n",
        "plt.rcParams[\"figure.figsize\"] = (10,6) # Custom figure size in inches\r\n",
        "plt.title(\"Histogram of Residuals\")"
      ],
      "execution_count": null,
      "outputs": [
        {
          "output_type": "stream",
          "text": [
            "/usr/local/lib/python3.6/dist-packages/seaborn/distributions.py:2551: FutureWarning: `distplot` is a deprecated function and will be removed in a future version. Please adapt your code to use either `displot` (a figure-level function with similar flexibility) or `histplot` (an axes-level function for histograms).\n",
            "  warnings.warn(msg, FutureWarning)\n"
          ],
          "name": "stderr"
        },
        {
          "output_type": "execute_result",
          "data": {
            "text/plain": [
              "Text(0.5, 1.0, 'Histogram of Residuals')"
            ]
          },
          "metadata": {
            "tags": []
          },
          "execution_count": 33
        },
        {
          "output_type": "display_data",
          "data": {
            "image/png": "[encoded data removed]",
            "text/plain": [
              "<Figure size 720x432 with 1 Axes>"
            ]
          },
          "metadata": {
            "tags": [],
            "needs_background": "light"
          }
        }
      ]
    }
  ]
}