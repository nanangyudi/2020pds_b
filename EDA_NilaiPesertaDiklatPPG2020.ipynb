{
  "nbformat": 4,
  "nbformat_minor": 0,
  "metadata": {
    "colab": {
      "name": "EDA NilaiPesertaDiklatPPG2020.ipynb",
      "provenance": [],
      "authorship_tag": "ABX9TyNhV3JgcEXVUQ5bYHYJeI4A",
      "include_colab_link": true
    },
    "kernelspec": {
      "name": "python3",
      "display_name": "Python 3"
    },
    "language_info": {
      "name": "python"
    }
  },
  "cells": [
    {
      "cell_type": "markdown",
      "metadata": {
        "id": "view-in-github",
        "colab_type": "text"
      },
      "source": [
        "<a href=\"https://colab.research.google.com/github/nanangyudi/2020pds_b/blob/main/EDA_NilaiPesertaDiklatPPG2020.ipynb\" target=\"_parent\"><img src=\"https://colab.research.google.com/assets/colab-badge.svg\" alt=\"Open In Colab\"/></a>"
      ]
    },
    {
      "cell_type": "code",
      "metadata": {
        "colab": {
          "base_uri": "https://localhost:8080/"
        },
        "id": "BQ6RVVlL2orx",
        "outputId": "8e669d1b-e82c-4480-891a-cd7d87881524"
      },
      "source": [
        "!pip install clickhouse-driver"
      ],
      "execution_count": null,
      "outputs": [
        {
          "output_type": "stream",
          "name": "stdout",
          "text": [
            "Collecting clickhouse-driver\n",
            "  Downloading clickhouse_driver-0.2.2-cp37-cp37m-manylinux2010_x86_64.whl (604 kB)\n",
            "\u001b[?25l\r\u001b[K     |▌                               | 10 kB 9.4 MB/s eta 0:00:01\r\u001b[K     |█                               | 20 kB 9.0 MB/s eta 0:00:01\r\u001b[K     |█▋                              | 30 kB 7.9 MB/s eta 0:00:01\r\u001b[K     |██▏                             | 40 kB 7.4 MB/s eta 0:00:01\r\u001b[K     |██▊                             | 51 kB 4.5 MB/s eta 0:00:01\r\u001b[K     |███▎                            | 61 kB 5.0 MB/s eta 0:00:01\r\u001b[K     |███▉                            | 71 kB 4.7 MB/s eta 0:00:01\r\u001b[K     |████▍                           | 81 kB 4.7 MB/s eta 0:00:01\r\u001b[K     |████▉                           | 92 kB 5.1 MB/s eta 0:00:01\r\u001b[K     |█████▍                          | 102 kB 4.7 MB/s eta 0:00:01\r\u001b[K     |██████                          | 112 kB 4.7 MB/s eta 0:00:01\r\u001b[K     |██████▌                         | 122 kB 4.7 MB/s eta 0:00:01\r\u001b[K     |███████                         | 133 kB 4.7 MB/s eta 0:00:01\r\u001b[K     |███████▋                        | 143 kB 4.7 MB/s eta 0:00:01\r\u001b[K     |████████▏                       | 153 kB 4.7 MB/s eta 0:00:01\r\u001b[K     |████████▊                       | 163 kB 4.7 MB/s eta 0:00:01\r\u001b[K     |█████████▏                      | 174 kB 4.7 MB/s eta 0:00:01\r\u001b[K     |█████████▊                      | 184 kB 4.7 MB/s eta 0:00:01\r\u001b[K     |██████████▎                     | 194 kB 4.7 MB/s eta 0:00:01\r\u001b[K     |██████████▉                     | 204 kB 4.7 MB/s eta 0:00:01\r\u001b[K     |███████████▍                    | 215 kB 4.7 MB/s eta 0:00:01\r\u001b[K     |████████████                    | 225 kB 4.7 MB/s eta 0:00:01\r\u001b[K     |████████████▌                   | 235 kB 4.7 MB/s eta 0:00:01\r\u001b[K     |█████████████                   | 245 kB 4.7 MB/s eta 0:00:01\r\u001b[K     |█████████████▌                  | 256 kB 4.7 MB/s eta 0:00:01\r\u001b[K     |██████████████                  | 266 kB 4.7 MB/s eta 0:00:01\r\u001b[K     |██████████████▋                 | 276 kB 4.7 MB/s eta 0:00:01\r\u001b[K     |███████████████▏                | 286 kB 4.7 MB/s eta 0:00:01\r\u001b[K     |███████████████▊                | 296 kB 4.7 MB/s eta 0:00:01\r\u001b[K     |████████████████▎               | 307 kB 4.7 MB/s eta 0:00:01\r\u001b[K     |████████████████▉               | 317 kB 4.7 MB/s eta 0:00:01\r\u001b[K     |█████████████████▍              | 327 kB 4.7 MB/s eta 0:00:01\r\u001b[K     |█████████████████▉              | 337 kB 4.7 MB/s eta 0:00:01\r\u001b[K     |██████████████████▍             | 348 kB 4.7 MB/s eta 0:00:01\r\u001b[K     |███████████████████             | 358 kB 4.7 MB/s eta 0:00:01\r\u001b[K     |███████████████████▌            | 368 kB 4.7 MB/s eta 0:00:01\r\u001b[K     |████████████████████            | 378 kB 4.7 MB/s eta 0:00:01\r\u001b[K     |████████████████████▋           | 389 kB 4.7 MB/s eta 0:00:01\r\u001b[K     |█████████████████████▏          | 399 kB 4.7 MB/s eta 0:00:01\r\u001b[K     |█████████████████████▊          | 409 kB 4.7 MB/s eta 0:00:01\r\u001b[K     |██████████████████████▏         | 419 kB 4.7 MB/s eta 0:00:01\r\u001b[K     |██████████████████████▊         | 430 kB 4.7 MB/s eta 0:00:01\r\u001b[K     |███████████████████████▎        | 440 kB 4.7 MB/s eta 0:00:01\r\u001b[K     |███████████████████████▉        | 450 kB 4.7 MB/s eta 0:00:01\r\u001b[K     |████████████████████████▍       | 460 kB 4.7 MB/s eta 0:00:01\r\u001b[K     |█████████████████████████       | 471 kB 4.7 MB/s eta 0:00:01\r\u001b[K     |█████████████████████████▌      | 481 kB 4.7 MB/s eta 0:00:01\r\u001b[K     |██████████████████████████      | 491 kB 4.7 MB/s eta 0:00:01\r\u001b[K     |██████████████████████████▌     | 501 kB 4.7 MB/s eta 0:00:01\r\u001b[K     |███████████████████████████     | 512 kB 4.7 MB/s eta 0:00:01\r\u001b[K     |███████████████████████████▋    | 522 kB 4.7 MB/s eta 0:00:01\r\u001b[K     |████████████████████████████▏   | 532 kB 4.7 MB/s eta 0:00:01\r\u001b[K     |████████████████████████████▊   | 542 kB 4.7 MB/s eta 0:00:01\r\u001b[K     |█████████████████████████████▎  | 552 kB 4.7 MB/s eta 0:00:01\r\u001b[K     |█████████████████████████████▉  | 563 kB 4.7 MB/s eta 0:00:01\r\u001b[K     |██████████████████████████████▍ | 573 kB 4.7 MB/s eta 0:00:01\r\u001b[K     |██████████████████████████████▉ | 583 kB 4.7 MB/s eta 0:00:01\r\u001b[K     |███████████████████████████████▍| 593 kB 4.7 MB/s eta 0:00:01\r\u001b[K     |████████████████████████████████| 604 kB 4.7 MB/s eta 0:00:01\r\u001b[K     |████████████████████████████████| 604 kB 4.7 MB/s \n",
            "\u001b[?25hRequirement already satisfied: tzlocal in /usr/local/lib/python3.7/dist-packages (from clickhouse-driver) (1.5.1)\n",
            "Requirement already satisfied: pytz in /usr/local/lib/python3.7/dist-packages (from clickhouse-driver) (2018.9)\n",
            "Installing collected packages: clickhouse-driver\n",
            "Successfully installed clickhouse-driver-0.2.2\n"
          ]
        }
      ]
    },
    {
      "cell_type": "code",
      "metadata": {
        "colab": {
          "base_uri": "https://localhost:8080/"
        },
        "id": "vwP0ktP-2w2y",
        "outputId": "869a315e-3791-42ef-eea0-87f5dc3ede58"
      },
      "source": [
        "!pip install clickhouse-sqlalchemy"
      ],
      "execution_count": null,
      "outputs": [
        {
          "output_type": "stream",
          "name": "stdout",
          "text": [
            "Collecting clickhouse-sqlalchemy\n",
            "  Downloading clickhouse-sqlalchemy-0.1.6.tar.gz (33 kB)\n",
            "Collecting sqlalchemy<1.4,>=1.3\n",
            "  Downloading SQLAlchemy-1.3.24-cp37-cp37m-manylinux2010_x86_64.whl (1.3 MB)\n",
            "\u001b[K     |████████████████████████████████| 1.3 MB 8.1 MB/s \n",
            "\u001b[?25hRequirement already satisfied: requests in /usr/local/lib/python3.7/dist-packages (from clickhouse-sqlalchemy) (2.23.0)\n",
            "Requirement already satisfied: clickhouse-driver>=0.1.2 in /usr/local/lib/python3.7/dist-packages (from clickhouse-sqlalchemy) (0.2.2)\n",
            "Requirement already satisfied: pytz in /usr/local/lib/python3.7/dist-packages (from clickhouse-driver>=0.1.2->clickhouse-sqlalchemy) (2018.9)\n",
            "Requirement already satisfied: tzlocal in /usr/local/lib/python3.7/dist-packages (from clickhouse-driver>=0.1.2->clickhouse-sqlalchemy) (1.5.1)\n",
            "Requirement already satisfied: urllib3!=1.25.0,!=1.25.1,<1.26,>=1.21.1 in /usr/local/lib/python3.7/dist-packages (from requests->clickhouse-sqlalchemy) (1.24.3)\n",
            "Requirement already satisfied: certifi>=2017.4.17 in /usr/local/lib/python3.7/dist-packages (from requests->clickhouse-sqlalchemy) (2021.5.30)\n",
            "Requirement already satisfied: idna<3,>=2.5 in /usr/local/lib/python3.7/dist-packages (from requests->clickhouse-sqlalchemy) (2.10)\n",
            "Requirement already satisfied: chardet<4,>=3.0.2 in /usr/local/lib/python3.7/dist-packages (from requests->clickhouse-sqlalchemy) (3.0.4)\n",
            "Building wheels for collected packages: clickhouse-sqlalchemy\n",
            "  Building wheel for clickhouse-sqlalchemy (setup.py) ... \u001b[?25l\u001b[?25hdone\n",
            "  Created wheel for clickhouse-sqlalchemy: filename=clickhouse_sqlalchemy-0.1.6-py3-none-any.whl size=39528 sha256=5f2e9b85c72564e749b360b87ba3b11f2bfd90b7bc353e9445d95b12e33b6267\n",
            "  Stored in directory: /root/.cache/pip/wheels/5c/22/84/4a30a637d63d799dceed04e4fd0d6f8ba01be0841b0efb061f\n",
            "Successfully built clickhouse-sqlalchemy\n",
            "Installing collected packages: sqlalchemy, clickhouse-sqlalchemy\n",
            "  Attempting uninstall: sqlalchemy\n",
            "    Found existing installation: SQLAlchemy 1.4.25\n",
            "    Uninstalling SQLAlchemy-1.4.25:\n",
            "      Successfully uninstalled SQLAlchemy-1.4.25\n",
            "Successfully installed clickhouse-sqlalchemy-0.1.6 sqlalchemy-1.3.24\n"
          ]
        }
      ]
    },
    {
      "cell_type": "code",
      "metadata": {
        "id": "or9RReh322ce"
      },
      "source": [
        "from clickhouse_driver import Client"
      ],
      "execution_count": null,
      "outputs": []
    },
    {
      "cell_type": "code",
      "metadata": {
        "id": "gHRH0MGX3DPB"
      },
      "source": [
        "client = Client('ec2-18-136-200-246.ap-southeast-1.compute.amazonaws.com',\n",
        "                port=9000,\n",
        "                user='admin',\n",
        "                password='$dm1nCH',\n",
        "                secure=True,\n",
        "                verify=False,\n",
        "                database='ch_elearning')"
      ],
      "execution_count": null,
      "outputs": []
    },
    {
      "cell_type": "code",
      "metadata": {
        "id": "2wY31JcZ4oqH"
      },
      "source": [
        "result = client.execute('SELECT COUNT(*) FROM ppgdj_mahasiswa_n2020')\n",
        "print(result)"
      ],
      "execution_count": null,
      "outputs": []
    },
    {
      "cell_type": "code",
      "metadata": {
        "id": "HzhyJzr738je"
      },
      "source": [
        "result = client.execute('SELECT now(), version()')\n",
        "print(\"RESULT: {0}: {1}\".format(type(result), result))\n",
        "for t in result:\n",
        "    print(\" ROW: {0}: {1}\".format(type(t), t))\n",
        "    for v in t:\n",
        "            print(\"  COLUMN: {0}: {1}\".format(type(v), v))"
      ],
      "execution_count": null,
      "outputs": []
    },
    {
      "cell_type": "markdown",
      "metadata": {
        "id": "Bzg8QgTtxI79"
      },
      "source": [
        "**Mempersiapkan Library**"
      ]
    },
    {
      "cell_type": "code",
      "metadata": {
        "colab": {
          "base_uri": "https://localhost:8080/"
        },
        "id": "TztS6PG6xtYJ",
        "outputId": "a9c52082-85d9-4e7c-a8df-a9a20a429c68"
      },
      "source": [
        "!pip install chart_studio"
      ],
      "execution_count": null,
      "outputs": [
        {
          "output_type": "stream",
          "name": "stdout",
          "text": [
            "Collecting chart_studio\n",
            "  Downloading chart_studio-1.1.0-py3-none-any.whl (64 kB)\n",
            "\u001b[?25l\r\u001b[K     |█████                           | 10 kB 25.9 MB/s eta 0:00:01\r\u001b[K     |██████████▏                     | 20 kB 27.6 MB/s eta 0:00:01\r\u001b[K     |███████████████▎                | 30 kB 19.0 MB/s eta 0:00:01\r\u001b[K     |████████████████████▍           | 40 kB 16.0 MB/s eta 0:00:01\r\u001b[K     |█████████████████████████▍      | 51 kB 8.0 MB/s eta 0:00:01\r\u001b[K     |██████████████████████████████▌ | 61 kB 7.7 MB/s eta 0:00:01\r\u001b[K     |████████████████████████████████| 64 kB 2.4 MB/s \n",
            "\u001b[?25hRequirement already satisfied: requests in /usr/local/lib/python3.7/dist-packages (from chart_studio) (2.23.0)\n",
            "Requirement already satisfied: plotly in /usr/local/lib/python3.7/dist-packages (from chart_studio) (4.4.1)\n",
            "Requirement already satisfied: six in /usr/local/lib/python3.7/dist-packages (from chart_studio) (1.15.0)\n",
            "Requirement already satisfied: retrying>=1.3.3 in /usr/local/lib/python3.7/dist-packages (from chart_studio) (1.3.3)\n",
            "Requirement already satisfied: urllib3!=1.25.0,!=1.25.1,<1.26,>=1.21.1 in /usr/local/lib/python3.7/dist-packages (from requests->chart_studio) (1.24.3)\n",
            "Requirement already satisfied: certifi>=2017.4.17 in /usr/local/lib/python3.7/dist-packages (from requests->chart_studio) (2021.5.30)\n",
            "Requirement already satisfied: idna<3,>=2.5 in /usr/local/lib/python3.7/dist-packages (from requests->chart_studio) (2.10)\n",
            "Requirement already satisfied: chardet<4,>=3.0.2 in /usr/local/lib/python3.7/dist-packages (from requests->chart_studio) (3.0.4)\n",
            "Installing collected packages: chart-studio\n",
            "Successfully installed chart-studio-1.1.0\n"
          ]
        }
      ]
    },
    {
      "cell_type": "code",
      "metadata": {
        "id": "IsPBOJlsr3-J",
        "colab": {
          "base_uri": "https://localhost:8080/",
          "height": 86
        },
        "outputId": "c44b6132-0546-4ce6-9799-e2ef89551572"
      },
      "source": [
        "import numpy as np\n",
        "import pandas as pd\n",
        "\n",
        "\n",
        "# Plotly Packages\n",
        "from chart_studio import tools\n",
        "import chart_studio.plotly as py\n",
        "import plotly.figure_factory as ff\n",
        "import plotly.graph_objs as go\n",
        "from plotly.offline import download_plotlyjs, init_notebook_mode, plot, iplot\n",
        "init_notebook_mode(connected=True)\n",
        "\n",
        "# Matplotlib and Seaborn\n",
        "import matplotlib.pyplot as plt\n",
        "import seaborn as sns\n",
        "from string import ascii_letters\n",
        "\n",
        "# Statistical Libraries\n",
        "from scipy.stats import norm\n",
        "from scipy.stats import skew\n",
        "from scipy.stats.stats import pearsonr\n",
        "from scipy import stats\n",
        "\n",
        "\n",
        "# Regression Modeling\n",
        "import statsmodels.api as sm\n",
        "from statsmodels.sandbox.regression.predstd import wls_prediction_std\n",
        "\n",
        "\n",
        "# Other Libraries\n",
        "import warnings\n",
        "warnings.filterwarnings(\"ignore\")"
      ],
      "execution_count": null,
      "outputs": [
        {
          "output_type": "display_data",
          "data": {
            "text/html": [
              "        <script type=\"text/javascript\">\n",
              "        window.PlotlyConfig = {MathJaxConfig: 'local'};\n",
              "        if (window.MathJax) {MathJax.Hub.Config({SVG: {font: \"STIX-Web\"}});}\n",
              "        if (typeof require !== 'undefined') {\n",
              "        require.undef(\"plotly\");\n",
              "        requirejs.config({\n",
              "            paths: {\n",
              "                'plotly': ['https://cdn.plot.ly/plotly-latest.min']\n",
              "            }\n",
              "        });\n",
              "        require(['plotly'], function(Plotly) {\n",
              "            window._Plotly = Plotly;\n",
              "        });\n",
              "        }\n",
              "        </script>\n",
              "        "
            ]
          },
          "metadata": {}
        },
        {
          "output_type": "stream",
          "name": "stderr",
          "text": [
            "/usr/local/lib/python3.7/dist-packages/statsmodels/tools/_testing.py:19: FutureWarning:\n",
            "\n",
            "pandas.util.testing is deprecated. Use the functions in the public API at pandas.testing instead.\n",
            "\n"
          ]
        }
      ]
    },
    {
      "cell_type": "markdown",
      "metadata": {
        "id": "PbbccL72yaeL"
      },
      "source": [
        "Put in DataFrame"
      ]
    },
    {
      "cell_type": "code",
      "metadata": {
        "id": "P_aYgl68yUmr"
      },
      "source": [
        "df = pd.read_csv(\"drive/MyDrive/eduBI/vw_ppgdj_mahasiswa_nilai2020_202110051559.csv\")\n",
        "\n",
        "# Let's store the original dataframe in another variable.\n",
        "original_df = df.copy()"
      ],
      "execution_count": null,
      "outputs": []
    },
    {
      "cell_type": "code",
      "metadata": {
        "id": "RzTzs0Ik_Pk_"
      },
      "source": [
        "df1 = df[df[\"JENIS_DIKLAT\"] == \"Diklat PPG Daljab (APBN) Angkatan 1\"]\n",
        "df2 = df[df[\"JENIS_DIKLAT\"] == \"Diklat PPG Daljab (APBN) Angkatan 2\"]\n",
        "df3 = df[df[\"JENIS_DIKLAT\"] == \"Diklat PPG Daljab (APBN) Angkatan 3\"]\n",
        "df4 = df[df[\"JENIS_DIKLAT\"] == \"Diklat PPG Daljab (APBN) Angkatan 4\"]"
      ],
      "execution_count": null,
      "outputs": []
    },
    {
      "cell_type": "code",
      "metadata": {
        "id": "l9VRpXgRy5rZ"
      },
      "source": [
        "df.head()"
      ],
      "execution_count": null,
      "outputs": []
    },
    {
      "cell_type": "markdown",
      "metadata": {
        "id": "0eWkWVDb0OVM"
      },
      "source": [
        "Data description"
      ]
    },
    {
      "cell_type": "code",
      "metadata": {
        "id": "NV2Vw1rZzqCc"
      },
      "source": [
        "df.describe()"
      ],
      "execution_count": null,
      "outputs": []
    },
    {
      "cell_type": "code",
      "metadata": {
        "id": "H6AvOf2qzyBC"
      },
      "source": [
        "print(df.shape)\n",
        "df.dtypes"
      ],
      "execution_count": null,
      "outputs": []
    },
    {
      "cell_type": "code",
      "metadata": {
        "colab": {
          "base_uri": "https://localhost:8080/"
        },
        "id": "Sn4cldq_3dRv",
        "outputId": "a26cc89c-e530-41f1-d54c-aec13c60a33d"
      },
      "source": [
        "print(df.info())"
      ],
      "execution_count": null,
      "outputs": [
        {
          "output_type": "stream",
          "name": "stdout",
          "text": [
            "<class 'pandas.core.frame.DataFrame'>\n",
            "RangeIndex: 20060 entries, 0 to 20059\n",
            "Data columns (total 11 columns):\n",
            " #   Column        Non-Null Count  Dtype  \n",
            "---  ------        --------------  -----  \n",
            " 0   JENIS_DIKLAT  20060 non-null  object \n",
            " 1   NOPES         20060 non-null  object \n",
            " 2   PM            20060 non-null  float64\n",
            " 3   PPP           20060 non-null  float64\n",
            " 4   RPP           20060 non-null  float64\n",
            " 5   PPL_1         20060 non-null  float64\n",
            " 6   R_PPL_1       20060 non-null  float64\n",
            " 7   PPL_2         20060 non-null  float64\n",
            " 8   R_PPL_2       20060 non-null  float64\n",
            " 9   DURASI_MENIT  20060 non-null  float64\n",
            " 10  VISITS        20060 non-null  int64  \n",
            "dtypes: float64(8), int64(1), object(2)\n",
            "memory usage: 1.7+ MB\n",
            "None\n"
          ]
        }
      ]
    },
    {
      "cell_type": "markdown",
      "metadata": {
        "id": "4rrpHbpO3wHQ"
      },
      "source": [
        "Change Data Type"
      ]
    },
    {
      "cell_type": "code",
      "metadata": {
        "id": "kHwfGZHw3oMD"
      },
      "source": [
        "df[\"NOPES\"] = df[\"NOPES\"].astype(\"object\")"
      ],
      "execution_count": null,
      "outputs": []
    },
    {
      "cell_type": "markdown",
      "metadata": {
        "id": "-imHtJoC4BuA"
      },
      "source": [
        "Distribution of JENIS DIKLAT"
      ]
    },
    {
      "cell_type": "code",
      "metadata": {
        "colab": {
          "base_uri": "https://localhost:8080/"
        },
        "id": "Ov7yczTh4IMC",
        "outputId": "8fe51d9c-ad22-4fb6-c202-89c854082d88"
      },
      "source": [
        "df[\"JENIS_DIKLAT\"].value_counts()"
      ],
      "execution_count": null,
      "outputs": [
        {
          "output_type": "execute_result",
          "data": {
            "text/plain": [
              "Diklat PPG Daljab (APBN) Angkatan 1    7017\n",
              "Diklat PPG Daljab (APBN) Angkatan 2    6433\n",
              "Diklat PPG Daljab (APBN) Angkatan 3    5010\n",
              "Diklat PPG Daljab (APBN) Angkatan 4    1600\n",
              "Name: JENIS_DIKLAT, dtype: int64"
            ]
          },
          "metadata": {},
          "execution_count": 31
        }
      ]
    },
    {
      "cell_type": "code",
      "metadata": {
        "id": "6UbtJlrV4aA2"
      },
      "source": [
        "df[\"JENIS_DIKLAT\"].value_counts(normalize=True)"
      ],
      "execution_count": null,
      "outputs": []
    },
    {
      "cell_type": "markdown",
      "metadata": {
        "id": "rtdM6gmc4voN"
      },
      "source": [
        "Average Values of JENIS_DIKLAT"
      ]
    },
    {
      "cell_type": "code",
      "metadata": {
        "colab": {
          "base_uri": "https://localhost:8080/"
        },
        "id": "jnPA5n7w5ABA",
        "outputId": "65d325fa-e3c2-48d4-f9b4-6b2dddb5fc99"
      },
      "source": [
        "df[df[\"JENIS_DIKLAT\"] == \"Diklat PPG Daljab (APBN) Angkatan 1\"].mean()"
      ],
      "execution_count": null,
      "outputs": [
        {
          "output_type": "execute_result",
          "data": {
            "text/plain": [
              "NOPES           2.015271e+11\n",
              "PM              9.537981e+01\n",
              "PPP             8.823778e+01\n",
              "RPP             8.843826e+01\n",
              "PPL_1           8.692965e+01\n",
              "R_PPL_1         8.688188e+01\n",
              "PPL_2           8.526237e+01\n",
              "R_PPL_2         8.701594e+01\n",
              "DURASI_MENIT    6.234771e+03\n",
              "VISITS          5.745985e+03\n",
              "dtype: float64"
            ]
          },
          "metadata": {},
          "execution_count": 34
        }
      ]
    },
    {
      "cell_type": "markdown",
      "metadata": {
        "id": "X9lvSvIN50gx"
      },
      "source": [
        "MIN dan MAX values of JENIS_DIKLAT"
      ]
    },
    {
      "cell_type": "code",
      "metadata": {
        "id": "bbXPybRP55VR"
      },
      "source": [
        "df.apply(np.max)"
      ],
      "execution_count": null,
      "outputs": []
    },
    {
      "cell_type": "code",
      "metadata": {
        "colab": {
          "base_uri": "https://localhost:8080/"
        },
        "id": "x7rwkJnv5-Jk",
        "outputId": "4926f473-1d2c-449b-bb1e-19518366e9a0"
      },
      "source": [
        "df.apply(np.min)"
      ],
      "execution_count": null,
      "outputs": [
        {
          "output_type": "execute_result",
          "data": {
            "text/plain": [
              "JENIS_DIKLAT    Diklat PPG Daljab (APBN) Angkatan 1\n",
              "NOPES                                  201500000047\n",
              "PM                                                0\n",
              "PPP                                               0\n",
              "RPP                                               0\n",
              "PPL_1                                             0\n",
              "R_PPL_1                                           0\n",
              "PPL_2                                             0\n",
              "R_PPL_2                                           0\n",
              "DURASI_MENIT                                   1944\n",
              "VISITS                                         2630\n",
              "dtype: object"
            ]
          },
          "metadata": {},
          "execution_count": 37
        }
      ]
    },
    {
      "cell_type": "markdown",
      "metadata": {
        "id": "mXnycsHw0Ewb"
      },
      "source": [
        "Correlation among variables"
      ]
    },
    {
      "cell_type": "code",
      "metadata": {
        "colab": {
          "base_uri": "https://localhost:8080/",
          "height": 317
        },
        "id": "xYp0mEu50ER0",
        "outputId": "51284001-5762-41ca-82f9-4f5d6434589c"
      },
      "source": [
        "dfP = df1[['PM','PPP','RPP',\n",
        "          'PPL_1', 'R_PPL_1', 'PPL_2', 'R_PPL_2']] #Subsetting the data\n",
        "#          'DURASI_MENIT','VISITS']] #Subsetting the data\n",
        "cor = dfP.corr() #Calculate the correlation of the above variables\n",
        "sns.heatmap(cor, square = True) #Plot the correlation as heat map"
      ],
      "execution_count": null,
      "outputs": [
        {
          "output_type": "execute_result",
          "data": {
            "text/plain": [
              "<matplotlib.axes._subplots.AxesSubplot at 0x7fc50a842b50>"
            ]
          },
          "metadata": {},
          "execution_count": 59
        },
        {
          "output_type": "display_data",
          "data": {
            "image/png": "[encoded data removed]",
            "text/plain": [
              "<Figure size 432x288 with 2 Axes>"
            ]
          },
          "metadata": {
            "needs_background": "light"
          }
        }
      ]
    },
    {
      "cell_type": "markdown",
      "metadata": {
        "id": "OXTTQ8jU9_i6"
      },
      "source": [
        "Visualizing Data"
      ]
    },
    {
      "cell_type": "code",
      "metadata": {
        "id": "OP3Ju0PY-Efu"
      },
      "source": [
        "df.hist(bins=15, color='steelblue', edgecolor='black', linewidth=1.0,\n",
        "           xlabelsize=8, ylabelsize=8, grid=False)    \n",
        "plt.tight_layout(rect=(0, 0, 1.2, 1.2)) "
      ],
      "execution_count": null,
      "outputs": []
    },
    {
      "cell_type": "code",
      "metadata": {
        "id": "a0zSRd0x-l1p"
      },
      "source": [
        "#Subsetting the data\n",
        "dfP = df4[['PM','PPP','RPP',\n",
        "          'PPL_1', 'R_PPL_1', 'PPL_2', 'R_PPL_2']]\n",
        "# Correlation Matrix Heatmap\n",
        "f, ax = plt.subplots(figsize=(10, 6))\n",
        "corr = dfP.corr()\n",
        "hm = sns.heatmap(round(corr,2), annot=True, ax=ax, cmap=\"coolwarm\",fmt='.2f',\n",
        "                 linewidths=.05)\n",
        "f.subplots_adjust(top=0.93)\n",
        "t= f.suptitle('Attributes Correlation Heatmap', fontsize=14)"
      ],
      "execution_count": null,
      "outputs": []
    },
    {
      "cell_type": "code",
      "metadata": {
        "id": "DldSL6N3DLGx"
      },
      "source": [
        "# Pair-wise Scatter Plots\n",
        "# cols = ['PPL_1', 'R_PPL_1', 'PPL_2', 'R_PPL_2']\n",
        "cols = ['PM','PPP','RPP','PPL_1', 'R_PPL_1', 'PPL_2', 'R_PPL_2']\n",
        "pp = sns.pairplot(df1[cols], size=1.8, aspect=1.8,\n",
        "                  plot_kws=dict(edgecolor=\"k\", linewidth=0.5),\n",
        "                  diag_kind=\"kde\", diag_kws=dict(shade=True))\n",
        "\n",
        "fig = pp.fig \n",
        "fig.subplots_adjust(top=0.93, wspace=0.3)\n",
        "t = fig.suptitle('Attributes Pairwise Plots', fontsize=14)"
      ],
      "execution_count": null,
      "outputs": []
    }
  ]
}