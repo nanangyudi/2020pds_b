{
  "nbformat": 4,
  "nbformat_minor": 0,
  "metadata": {
    "colab": {
      "name": "Tugas akhir PDS.ipynb",
      "provenance": [],
      "collapsed_sections": [
        "xacUiyN_e-Ls",
        "Tu58LA7fQ2lh"
      ],
      "include_colab_link": true
    },
    "kernelspec": {
      "name": "python3",
      "display_name": "Python 3"
    }
  },
  "cells": [
    {
      "cell_type": "markdown",
      "metadata": {
        "id": "view-in-github",
        "colab_type": "text"
      },
      "source": [
        "<a href=\"https://colab.research.google.com/github/nanangyudi/2020pds_b/blob/main/Tugas_akhir_PDS.ipynb\" target=\"_parent\"><img src=\"https://colab.research.google.com/assets/colab-badge.svg\" alt=\"Open In Colab\"/></a>"
      ]
    },
    {
      "cell_type": "markdown",
      "metadata": {
        "id": "7beTr5U697i_"
      },
      "source": [
        "# Prediksi Pelanggan Kartu Kredit\n",
        "Nama : \n",
        "\n",
        "Tito Rhenaldi Priono (175150400111052)\n",
        "\n",
        "Priska Aprillia Putri (175150401111006)\n",
        "\n",
        "Ammar yazid taqiyuddin (175150407111044)\n",
        "\n",
        "Muhamad Lukman Nurhakim (175150407111041)\n"
      ]
    },
    {
      "cell_type": "markdown",
      "metadata": {
        "id": "GQvnwhz3KBBU"
      },
      "source": [
        "## Deskripsi Tujuan Bisnis :\n",
        "<br>\n",
        "Layanan kartu kredit saat ini semakin ditinggalkan, dan seorang manajer dari perusahaan merasa terganggu dengan semakin banyaknya pelanggan yang meninggalkan layanan kartu kredit mereka. Oleh karena itu mereka membutuhkan model data sains yang dapat digunakan untuk memprediksi siapa saja pelanggan yang berpotensi berhenti menggunakan layanan kartu kredit. Dengan adanya model tersebut, diharapkan pihak bank dapat secara proaktif memberikan pelayanan yang lebih baik kepada pelanggan, yang tujuannya untuk dapat mengubah keputusannya untuk tidak meninggalkan penggunaan kartu kredit.\n"
      ]
    },
    {
      "cell_type": "markdown",
      "metadata": {
        "id": "A_5fBg5YrhIt"
      },
      "source": [
        "## Analisa Pendekatan yang akan dilakukan :\r\n",
        "<br>\r\n",
        "Akan mengumpulkan data seperti nomor pelanggan ,aktivitas pelanggan, nomor pelanggan, jenis kelamin, jumlah tanggungan, kualitas pendidikan, status,pendapatan tahunan, card kategori seperti (blue, silver, gold), dan jangka waktu berhubungan dengan bank kemudian melakukan analisis data untuk mencari tau alasan di balik permasalahan ini dan akan memanfaatkan data untuk memprediksi pelanggan yang cenderung berhenti."
      ]
    },
    {
      "cell_type": "markdown",
      "metadata": {
        "id": "ALHXXGlubXeY"
      },
      "source": [
        "## Pengumpulan data :\n",
        "\n",
        "<br>\n",
        "\n",
        "Untuk melakukan penghitungan persentase yang berhenti menggunakan layanan kartu kredit diperlukan kumpulan data yang berhubungan dengan pelanggan untuk melakukan prediksi persentase. Seorang data analis yang diminta untuk melakukan pemodelan data kemudian melakukan pengumpulan data dan kemudian membuat sebuah dataset dengan 21 kolom data.\n",
        "\n",
        "<br>\n",
        "\n",
        "Pemahaman terhadap data yang dikumpulkan :\n",
        "\n",
        "<br>\n",
        "\n",
        "Berikut link Dataset: https://drive.google.com/drive/folders/1b5ProyU3sSfINCa_o52-D_O0vjOaFn4a?usp=sharing\n",
        "\n",
        "<br>\n",
        "\n",
        "Data yang dikumpulkan merupakan data profil dan data terkait layanan kartu kredit. Berikut adalah data yang dikumpulkan :\n",
        "<br>\n",
        "\n",
        "Data profil pelanggan :\n",
        "1. ClientNum : id pelanggan yang bersifat unik\n",
        "2. Attrition_Flag : status pelanggan (pelanggan/ sudah keluar)\n",
        "3. Customer_Age : data tentang umur pelanggan\n",
        "4. Gender : data tentang jenis kelamin pelanggan\n",
        "5. Dependent_count : tingkatan ketergantungan terhadap sumber pendapatan utama.\n",
        "6. Education_level : jenjang edukasi yang telah ditempuh\n",
        "7. Marital_status : data tentang status menikah\n",
        "8. Income_category : data tentang jumlah penghasilan pelanggan\n",
        "\n",
        "Data layanan kartu kredit :\n",
        "1. Card_category : tipe kategori kartu yang dimiliki pelanggan\n",
        "2. Months_on_book : durasi pelanggan menggunakan jasa kartu kredit\n",
        "3. Total_relationship_count : jumlah produk/jasa yang digunakan pelanggan\n",
        "4. Months_Inactive_12_mon : berapa lama masa tidak aktif dalam durasi 12 bulan\n",
        "5. Contacts_Count_12_mon : berapa banyak kontak dalam durasi 12 bulan\n",
        "6. Credit_Limit : limit kredit dalam kartu kredit\n",
        "7. Total_Revolving_Bal : jumlah pinjaman pada kartu kredit\n",
        "8. Avg_Open_To_Buy : Rata - rata pembelian linoe of credit (LOC)\n",
        "9. Total_Amt_Chng_Q4_Q1 : perubahan jumlah transaksi setiap musim (3 bulan)\n",
        "10. Total_Trans_Amt : jumlah total uang yang ditransaksi dalam waktu 12 bulan\n",
        "11. Total_Trans_Ct : jumlah total pelanggan melakukan transaksi dalam waktu 12 bulan\n",
        "12. Total_Ct_Chng_Q4_Q1 : perubahan aktivitas transaksi setiap musim (3 bulan)\n",
        "13. Avg_Utilization_Ratio : Rasio Penggunaan Kartu Rata-rata\n",
        "\n"
      ]
    },
    {
      "cell_type": "markdown",
      "metadata": {
        "id": "kRRUl3eRelf9"
      },
      "source": [
        "## Import Dataset\r\n",
        "Pada langkah ini, kami menggunakan utility dari colab untuk mengimport file .csv, hal ini dilakukan untuk memudahkan mengakses file tanpa harus memasukkan path yang spesifik. Sehingga siapapun dapat menggunakan notebook ini.  "
      ]
    },
    {
      "cell_type": "code",
      "metadata": {
        "id": "xi_5VV9n5ajR",
        "colab": {
          "resources": {
            "http://localhost:8080/nbextensions/google.colab/files.js": {
              "data": "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",
              "ok": true,
              "headers": [
                [
                  "content-type",
                  "application/javascript"
                ]
              ],
              "status": 200,
              "status_text": "OK"
            }
          },
          "base_uri": "https://localhost:8080/",
          "height": 80
        },
        "outputId": "fb8a99e0-33bc-45fd-ca96-3217df6d5c97"
      },
      "source": [
        "from google.colab import files\n",
        "uploaded = files.upload()"
      ],
      "execution_count": null,
      "outputs": [
        {
          "output_type": "display_data",
          "data": {
            "text/html": [
              "\n",
              "     <input type=\"file\" id=\"files-7e0ef7ce-99c5-4d7a-aaf8-b6ddc3380383\" name=\"files[]\" multiple disabled\n",
              "        style=\"border:none\" />\n",
              "     <output id=\"result-7e0ef7ce-99c5-4d7a-aaf8-b6ddc3380383\">\n",
              "      Upload widget is only available when the cell has been executed in the\n",
              "      current browser session. Please rerun this cell to enable.\n",
              "      </output>\n",
              "      <script src=\"/nbextensions/google.colab/files.js\"></script> "
            ],
            "text/plain": [
              "<IPython.core.display.HTML object>"
            ]
          },
          "metadata": {
            "tags": []
          }
        },
        {
          "output_type": "stream",
          "text": [
            "Saving BankChurners.csv to BankChurners.csv\n"
          ],
          "name": "stdout"
        }
      ]
    },
    {
      "cell_type": "markdown",
      "metadata": {
        "id": "GxqLrhWTeu3T"
      },
      "source": [
        "## Import Utilities dan Library\r\n",
        "Mengimport beberapa utilities dan library yang akan digunakan untuk menghitung prediksi, membuat grafik, dan membuat dataframe."
      ]
    },
    {
      "cell_type": "code",
      "metadata": {
        "id": "rG4ZM_4TD-rE"
      },
      "source": [
        "import io\n",
        "import numpy as np \n",
        "import pandas as pd \n",
        "import seaborn as sns\n",
        "import matplotlib.pyplot as plt\n",
        "from sklearn.model_selection import train_test_split\n",
        "from sklearn.ensemble import RandomForestClassifier\n",
        "from sklearn.metrics import accuracy_score\n",
        "from sklearn.metrics import confusion_matrix,classification_report\n",
        "from sklearn.metrics import r2_score, mean_absolute_error,mean_squared_error\n",
        "import statsmodels.api as sm"
      ],
      "execution_count": null,
      "outputs": []
    },
    {
      "cell_type": "markdown",
      "metadata": {
        "id": "xacUiyN_e-Ls"
      },
      "source": [
        "## Dataframe\n",
        "Pada kode dibawah dataset yang sudah berhasil di import akan dimasukkan kedalam dataframe dan ditunjukkan isi dataset tersebut. Disini kami membuat 2 dataframe, df untuk eksplorasi data dan model untuk pemodelan data."
      ]
    },
    {
      "cell_type": "code",
      "metadata": {
        "colab": {
          "base_uri": "https://localhost:8080/"
        },
        "id": "LvWX9xHOEO52",
        "outputId": "2f7364ff-5f9f-40de-da4b-1b8b4544e787"
      },
      "source": [
        "df = pd.read_csv(io.BytesIO(uploaded['BankChurners.csv']))\n",
        "df"
      ],
      "execution_count": null,
      "outputs": [
        {
          "output_type": "execute_result",
          "data": {
            "text/html": [
              "<div>\n",
              "<style scoped>\n",
              "    .dataframe tbody tr th:only-of-type {\n",
              "        vertical-align: middle;\n",
              "    }\n",
              "\n",
              "    .dataframe tbody tr th {\n",
              "        vertical-align: top;\n",
              "    }\n",
              "\n",
              "    .dataframe thead th {\n",
              "        text-align: right;\n",
              "    }\n",
              "</style>\n",
              "<table border=\"1\" class=\"dataframe\">\n",
              "  <thead>\n",
              "    <tr style=\"text-align: right;\">\n",
              "      <th></th>\n",
              "      <th>CLIENTNUM</th>\n",
              "      <th>Attrition_Flag</th>\n",
              "      <th>Customer_Age</th>\n",
              "      <th>Gender</th>\n",
              "      <th>Dependent_count</th>\n",
              "      <th>Education_Level</th>\n",
              "      <th>Marital_Status</th>\n",
              "      <th>Income_Category</th>\n",
              "      <th>Card_Category</th>\n",
              "      <th>Months_on_book</th>\n",
              "      <th>Total_Relationship_Count</th>\n",
              "      <th>Months_Inactive_12_mon</th>\n",
              "      <th>Contacts_Count_12_mon</th>\n",
              "      <th>Credit_Limit</th>\n",
              "      <th>Total_Revolving_Bal</th>\n",
              "      <th>Avg_Open_To_Buy</th>\n",
              "      <th>Total_Amt_Chng_Q4_Q1</th>\n",
              "      <th>Total_Trans_Amt</th>\n",
              "      <th>Total_Trans_Ct</th>\n",
              "      <th>Total_Ct_Chng_Q4_Q1</th>\n",
              "      <th>Avg_Utilization_Ratio</th>\n",
              "      <th>Naive_Bayes_Classifier_Attrition_Flag_Card_Category_Contacts_Count_12_mon_Dependent_count_Education_Level_Months_Inactive_12_mon_1</th>\n",
              "      <th>Naive_Bayes_Classifier_Attrition_Flag_Card_Category_Contacts_Count_12_mon_Dependent_count_Education_Level_Months_Inactive_12_mon_2</th>\n",
              "    </tr>\n",
              "  </thead>\n",
              "  <tbody>\n",
              "    <tr>\n",
              "      <th>0</th>\n",
              "      <td>768805383</td>\n",
              "      <td>Existing Customer</td>\n",
              "      <td>45</td>\n",
              "      <td>M</td>\n",
              "      <td>3</td>\n",
              "      <td>High School</td>\n",
              "      <td>Married</td>\n",
              "      <td>$60K - $80K</td>\n",
              "      <td>Blue</td>\n",
              "      <td>39</td>\n",
              "      <td>5</td>\n",
              "      <td>1</td>\n",
              "      <td>3</td>\n",
              "      <td>12691.0</td>\n",
              "      <td>777</td>\n",
              "      <td>11914.0</td>\n",
              "      <td>1.335</td>\n",
              "      <td>1144</td>\n",
              "      <td>42</td>\n",
              "      <td>1.625</td>\n",
              "      <td>0.061</td>\n",
              "      <td>0.000093</td>\n",
              "      <td>0.999910</td>\n",
              "    </tr>\n",
              "    <tr>\n",
              "      <th>1</th>\n",
              "      <td>818770008</td>\n",
              "      <td>Existing Customer</td>\n",
              "      <td>49</td>\n",
              "      <td>F</td>\n",
              "      <td>5</td>\n",
              "      <td>Graduate</td>\n",
              "      <td>Single</td>\n",
              "      <td>Less than $40K</td>\n",
              "      <td>Blue</td>\n",
              "      <td>44</td>\n",
              "      <td>6</td>\n",
              "      <td>1</td>\n",
              "      <td>2</td>\n",
              "      <td>8256.0</td>\n",
              "      <td>864</td>\n",
              "      <td>7392.0</td>\n",
              "      <td>1.541</td>\n",
              "      <td>1291</td>\n",
              "      <td>33</td>\n",
              "      <td>3.714</td>\n",
              "      <td>0.105</td>\n",
              "      <td>0.000057</td>\n",
              "      <td>0.999940</td>\n",
              "    </tr>\n",
              "    <tr>\n",
              "      <th>2</th>\n",
              "      <td>713982108</td>\n",
              "      <td>Existing Customer</td>\n",
              "      <td>51</td>\n",
              "      <td>M</td>\n",
              "      <td>3</td>\n",
              "      <td>Graduate</td>\n",
              "      <td>Married</td>\n",
              "      <td>$80K - $120K</td>\n",
              "      <td>Blue</td>\n",
              "      <td>36</td>\n",
              "      <td>4</td>\n",
              "      <td>1</td>\n",
              "      <td>0</td>\n",
              "      <td>3418.0</td>\n",
              "      <td>0</td>\n",
              "      <td>3418.0</td>\n",
              "      <td>2.594</td>\n",
              "      <td>1887</td>\n",
              "      <td>20</td>\n",
              "      <td>2.333</td>\n",
              "      <td>0.000</td>\n",
              "      <td>0.000021</td>\n",
              "      <td>0.999980</td>\n",
              "    </tr>\n",
              "    <tr>\n",
              "      <th>3</th>\n",
              "      <td>769911858</td>\n",
              "      <td>Existing Customer</td>\n",
              "      <td>40</td>\n",
              "      <td>F</td>\n",
              "      <td>4</td>\n",
              "      <td>High School</td>\n",
              "      <td>Unknown</td>\n",
              "      <td>Less than $40K</td>\n",
              "      <td>Blue</td>\n",
              "      <td>34</td>\n",
              "      <td>3</td>\n",
              "      <td>4</td>\n",
              "      <td>1</td>\n",
              "      <td>3313.0</td>\n",
              "      <td>2517</td>\n",
              "      <td>796.0</td>\n",
              "      <td>1.405</td>\n",
              "      <td>1171</td>\n",
              "      <td>20</td>\n",
              "      <td>2.333</td>\n",
              "      <td>0.760</td>\n",
              "      <td>0.000134</td>\n",
              "      <td>0.999870</td>\n",
              "    </tr>\n",
              "    <tr>\n",
              "      <th>4</th>\n",
              "      <td>709106358</td>\n",
              "      <td>Existing Customer</td>\n",
              "      <td>40</td>\n",
              "      <td>M</td>\n",
              "      <td>3</td>\n",
              "      <td>Uneducated</td>\n",
              "      <td>Married</td>\n",
              "      <td>$60K - $80K</td>\n",
              "      <td>Blue</td>\n",
              "      <td>21</td>\n",
              "      <td>5</td>\n",
              "      <td>1</td>\n",
              "      <td>0</td>\n",
              "      <td>4716.0</td>\n",
              "      <td>0</td>\n",
              "      <td>4716.0</td>\n",
              "      <td>2.175</td>\n",
              "      <td>816</td>\n",
              "      <td>28</td>\n",
              "      <td>2.500</td>\n",
              "      <td>0.000</td>\n",
              "      <td>0.000022</td>\n",
              "      <td>0.999980</td>\n",
              "    </tr>\n",
              "    <tr>\n",
              "      <th>...</th>\n",
              "      <td>...</td>\n",
              "      <td>...</td>\n",
              "      <td>...</td>\n",
              "      <td>...</td>\n",
              "      <td>...</td>\n",
              "      <td>...</td>\n",
              "      <td>...</td>\n",
              "      <td>...</td>\n",
              "      <td>...</td>\n",
              "      <td>...</td>\n",
              "      <td>...</td>\n",
              "      <td>...</td>\n",
              "      <td>...</td>\n",
              "      <td>...</td>\n",
              "      <td>...</td>\n",
              "      <td>...</td>\n",
              "      <td>...</td>\n",
              "      <td>...</td>\n",
              "      <td>...</td>\n",
              "      <td>...</td>\n",
              "      <td>...</td>\n",
              "      <td>...</td>\n",
              "      <td>...</td>\n",
              "    </tr>\n",
              "    <tr>\n",
              "      <th>10122</th>\n",
              "      <td>772366833</td>\n",
              "      <td>Existing Customer</td>\n",
              "      <td>50</td>\n",
              "      <td>M</td>\n",
              "      <td>2</td>\n",
              "      <td>Graduate</td>\n",
              "      <td>Single</td>\n",
              "      <td>$40K - $60K</td>\n",
              "      <td>Blue</td>\n",
              "      <td>40</td>\n",
              "      <td>3</td>\n",
              "      <td>2</td>\n",
              "      <td>3</td>\n",
              "      <td>4003.0</td>\n",
              "      <td>1851</td>\n",
              "      <td>2152.0</td>\n",
              "      <td>0.703</td>\n",
              "      <td>15476</td>\n",
              "      <td>117</td>\n",
              "      <td>0.857</td>\n",
              "      <td>0.462</td>\n",
              "      <td>0.000191</td>\n",
              "      <td>0.999810</td>\n",
              "    </tr>\n",
              "    <tr>\n",
              "      <th>10123</th>\n",
              "      <td>710638233</td>\n",
              "      <td>Attrited Customer</td>\n",
              "      <td>41</td>\n",
              "      <td>M</td>\n",
              "      <td>2</td>\n",
              "      <td>Unknown</td>\n",
              "      <td>Divorced</td>\n",
              "      <td>$40K - $60K</td>\n",
              "      <td>Blue</td>\n",
              "      <td>25</td>\n",
              "      <td>4</td>\n",
              "      <td>2</td>\n",
              "      <td>3</td>\n",
              "      <td>4277.0</td>\n",
              "      <td>2186</td>\n",
              "      <td>2091.0</td>\n",
              "      <td>0.804</td>\n",
              "      <td>8764</td>\n",
              "      <td>69</td>\n",
              "      <td>0.683</td>\n",
              "      <td>0.511</td>\n",
              "      <td>0.995270</td>\n",
              "      <td>0.004729</td>\n",
              "    </tr>\n",
              "    <tr>\n",
              "      <th>10124</th>\n",
              "      <td>716506083</td>\n",
              "      <td>Attrited Customer</td>\n",
              "      <td>44</td>\n",
              "      <td>F</td>\n",
              "      <td>1</td>\n",
              "      <td>High School</td>\n",
              "      <td>Married</td>\n",
              "      <td>Less than $40K</td>\n",
              "      <td>Blue</td>\n",
              "      <td>36</td>\n",
              "      <td>5</td>\n",
              "      <td>3</td>\n",
              "      <td>4</td>\n",
              "      <td>5409.0</td>\n",
              "      <td>0</td>\n",
              "      <td>5409.0</td>\n",
              "      <td>0.819</td>\n",
              "      <td>10291</td>\n",
              "      <td>60</td>\n",
              "      <td>0.818</td>\n",
              "      <td>0.000</td>\n",
              "      <td>0.997880</td>\n",
              "      <td>0.002118</td>\n",
              "    </tr>\n",
              "    <tr>\n",
              "      <th>10125</th>\n",
              "      <td>717406983</td>\n",
              "      <td>Attrited Customer</td>\n",
              "      <td>30</td>\n",
              "      <td>M</td>\n",
              "      <td>2</td>\n",
              "      <td>Graduate</td>\n",
              "      <td>Unknown</td>\n",
              "      <td>$40K - $60K</td>\n",
              "      <td>Blue</td>\n",
              "      <td>36</td>\n",
              "      <td>4</td>\n",
              "      <td>3</td>\n",
              "      <td>3</td>\n",
              "      <td>5281.0</td>\n",
              "      <td>0</td>\n",
              "      <td>5281.0</td>\n",
              "      <td>0.535</td>\n",
              "      <td>8395</td>\n",
              "      <td>62</td>\n",
              "      <td>0.722</td>\n",
              "      <td>0.000</td>\n",
              "      <td>0.996710</td>\n",
              "      <td>0.003294</td>\n",
              "    </tr>\n",
              "    <tr>\n",
              "      <th>10126</th>\n",
              "      <td>714337233</td>\n",
              "      <td>Attrited Customer</td>\n",
              "      <td>43</td>\n",
              "      <td>F</td>\n",
              "      <td>2</td>\n",
              "      <td>Graduate</td>\n",
              "      <td>Married</td>\n",
              "      <td>Less than $40K</td>\n",
              "      <td>Silver</td>\n",
              "      <td>25</td>\n",
              "      <td>6</td>\n",
              "      <td>2</td>\n",
              "      <td>4</td>\n",
              "      <td>10388.0</td>\n",
              "      <td>1961</td>\n",
              "      <td>8427.0</td>\n",
              "      <td>0.703</td>\n",
              "      <td>10294</td>\n",
              "      <td>61</td>\n",
              "      <td>0.649</td>\n",
              "      <td>0.189</td>\n",
              "      <td>0.996620</td>\n",
              "      <td>0.003377</td>\n",
              "    </tr>\n",
              "  </tbody>\n",
              "</table>\n",
              "<p>10127 rows × 23 columns</p>\n",
              "</div>"
            ],
            "text/plain": [
              "       CLIENTNUM  ... Naive_Bayes_Classifier_Attrition_Flag_Card_Category_Contacts_Count_12_mon_Dependent_count_Education_Level_Months_Inactive_12_mon_2\n",
              "0      768805383  ...                                           0.999910                                                                                \n",
              "1      818770008  ...                                           0.999940                                                                                \n",
              "2      713982108  ...                                           0.999980                                                                                \n",
              "3      769911858  ...                                           0.999870                                                                                \n",
              "4      709106358  ...                                           0.999980                                                                                \n",
              "...          ...  ...                                                ...                                                                                \n",
              "10122  772366833  ...                                           0.999810                                                                                \n",
              "10123  710638233  ...                                           0.004729                                                                                \n",
              "10124  716506083  ...                                           0.002118                                                                                \n",
              "10125  717406983  ...                                           0.003294                                                                                \n",
              "10126  714337233  ...                                           0.003377                                                                                \n",
              "\n",
              "[10127 rows x 23 columns]"
            ]
          },
          "metadata": {
            "tags": []
          },
          "execution_count": 35
        }
      ]
    },
    {
      "cell_type": "code",
      "metadata": {
        "colab": {
          "base_uri": "https://localhost:8080/"
        },
        "id": "OMZ12Dhmttj5",
        "outputId": "99477458-5c9a-4cba-9871-c5e91db8e1d7"
      },
      "source": [
        "model = pd.read_csv(io.BytesIO(uploaded['BankChurners.csv']))\n",
        "model"
      ],
      "execution_count": null,
      "outputs": [
        {
          "output_type": "execute_result",
          "data": {
            "text/html": [
              "<div>\n",
              "<style scoped>\n",
              "    .dataframe tbody tr th:only-of-type {\n",
              "        vertical-align: middle;\n",
              "    }\n",
              "\n",
              "    .dataframe tbody tr th {\n",
              "        vertical-align: top;\n",
              "    }\n",
              "\n",
              "    .dataframe thead th {\n",
              "        text-align: right;\n",
              "    }\n",
              "</style>\n",
              "<table border=\"1\" class=\"dataframe\">\n",
              "  <thead>\n",
              "    <tr style=\"text-align: right;\">\n",
              "      <th></th>\n",
              "      <th>CLIENTNUM</th>\n",
              "      <th>Attrition_Flag</th>\n",
              "      <th>Customer_Age</th>\n",
              "      <th>Gender</th>\n",
              "      <th>Dependent_count</th>\n",
              "      <th>Education_Level</th>\n",
              "      <th>Marital_Status</th>\n",
              "      <th>Income_Category</th>\n",
              "      <th>Card_Category</th>\n",
              "      <th>Months_on_book</th>\n",
              "      <th>Total_Relationship_Count</th>\n",
              "      <th>Months_Inactive_12_mon</th>\n",
              "      <th>Contacts_Count_12_mon</th>\n",
              "      <th>Credit_Limit</th>\n",
              "      <th>Total_Revolving_Bal</th>\n",
              "      <th>Avg_Open_To_Buy</th>\n",
              "      <th>Total_Amt_Chng_Q4_Q1</th>\n",
              "      <th>Total_Trans_Amt</th>\n",
              "      <th>Total_Trans_Ct</th>\n",
              "      <th>Total_Ct_Chng_Q4_Q1</th>\n",
              "      <th>Avg_Utilization_Ratio</th>\n",
              "      <th>Naive_Bayes_Classifier_Attrition_Flag_Card_Category_Contacts_Count_12_mon_Dependent_count_Education_Level_Months_Inactive_12_mon_1</th>\n",
              "      <th>Naive_Bayes_Classifier_Attrition_Flag_Card_Category_Contacts_Count_12_mon_Dependent_count_Education_Level_Months_Inactive_12_mon_2</th>\n",
              "    </tr>\n",
              "  </thead>\n",
              "  <tbody>\n",
              "    <tr>\n",
              "      <th>0</th>\n",
              "      <td>768805383</td>\n",
              "      <td>Existing Customer</td>\n",
              "      <td>45</td>\n",
              "      <td>M</td>\n",
              "      <td>3</td>\n",
              "      <td>High School</td>\n",
              "      <td>Married</td>\n",
              "      <td>$60K - $80K</td>\n",
              "      <td>Blue</td>\n",
              "      <td>39</td>\n",
              "      <td>5</td>\n",
              "      <td>1</td>\n",
              "      <td>3</td>\n",
              "      <td>12691.0</td>\n",
              "      <td>777</td>\n",
              "      <td>11914.0</td>\n",
              "      <td>1.335</td>\n",
              "      <td>1144</td>\n",
              "      <td>42</td>\n",
              "      <td>1.625</td>\n",
              "      <td>0.061</td>\n",
              "      <td>0.000093</td>\n",
              "      <td>0.999910</td>\n",
              "    </tr>\n",
              "    <tr>\n",
              "      <th>1</th>\n",
              "      <td>818770008</td>\n",
              "      <td>Existing Customer</td>\n",
              "      <td>49</td>\n",
              "      <td>F</td>\n",
              "      <td>5</td>\n",
              "      <td>Graduate</td>\n",
              "      <td>Single</td>\n",
              "      <td>Less than $40K</td>\n",
              "      <td>Blue</td>\n",
              "      <td>44</td>\n",
              "      <td>6</td>\n",
              "      <td>1</td>\n",
              "      <td>2</td>\n",
              "      <td>8256.0</td>\n",
              "      <td>864</td>\n",
              "      <td>7392.0</td>\n",
              "      <td>1.541</td>\n",
              "      <td>1291</td>\n",
              "      <td>33</td>\n",
              "      <td>3.714</td>\n",
              "      <td>0.105</td>\n",
              "      <td>0.000057</td>\n",
              "      <td>0.999940</td>\n",
              "    </tr>\n",
              "    <tr>\n",
              "      <th>2</th>\n",
              "      <td>713982108</td>\n",
              "      <td>Existing Customer</td>\n",
              "      <td>51</td>\n",
              "      <td>M</td>\n",
              "      <td>3</td>\n",
              "      <td>Graduate</td>\n",
              "      <td>Married</td>\n",
              "      <td>$80K - $120K</td>\n",
              "      <td>Blue</td>\n",
              "      <td>36</td>\n",
              "      <td>4</td>\n",
              "      <td>1</td>\n",
              "      <td>0</td>\n",
              "      <td>3418.0</td>\n",
              "      <td>0</td>\n",
              "      <td>3418.0</td>\n",
              "      <td>2.594</td>\n",
              "      <td>1887</td>\n",
              "      <td>20</td>\n",
              "      <td>2.333</td>\n",
              "      <td>0.000</td>\n",
              "      <td>0.000021</td>\n",
              "      <td>0.999980</td>\n",
              "    </tr>\n",
              "    <tr>\n",
              "      <th>3</th>\n",
              "      <td>769911858</td>\n",
              "      <td>Existing Customer</td>\n",
              "      <td>40</td>\n",
              "      <td>F</td>\n",
              "      <td>4</td>\n",
              "      <td>High School</td>\n",
              "      <td>Unknown</td>\n",
              "      <td>Less than $40K</td>\n",
              "      <td>Blue</td>\n",
              "      <td>34</td>\n",
              "      <td>3</td>\n",
              "      <td>4</td>\n",
              "      <td>1</td>\n",
              "      <td>3313.0</td>\n",
              "      <td>2517</td>\n",
              "      <td>796.0</td>\n",
              "      <td>1.405</td>\n",
              "      <td>1171</td>\n",
              "      <td>20</td>\n",
              "      <td>2.333</td>\n",
              "      <td>0.760</td>\n",
              "      <td>0.000134</td>\n",
              "      <td>0.999870</td>\n",
              "    </tr>\n",
              "    <tr>\n",
              "      <th>4</th>\n",
              "      <td>709106358</td>\n",
              "      <td>Existing Customer</td>\n",
              "      <td>40</td>\n",
              "      <td>M</td>\n",
              "      <td>3</td>\n",
              "      <td>Uneducated</td>\n",
              "      <td>Married</td>\n",
              "      <td>$60K - $80K</td>\n",
              "      <td>Blue</td>\n",
              "      <td>21</td>\n",
              "      <td>5</td>\n",
              "      <td>1</td>\n",
              "      <td>0</td>\n",
              "      <td>4716.0</td>\n",
              "      <td>0</td>\n",
              "      <td>4716.0</td>\n",
              "      <td>2.175</td>\n",
              "      <td>816</td>\n",
              "      <td>28</td>\n",
              "      <td>2.500</td>\n",
              "      <td>0.000</td>\n",
              "      <td>0.000022</td>\n",
              "      <td>0.999980</td>\n",
              "    </tr>\n",
              "    <tr>\n",
              "      <th>...</th>\n",
              "      <td>...</td>\n",
              "      <td>...</td>\n",
              "      <td>...</td>\n",
              "      <td>...</td>\n",
              "      <td>...</td>\n",
              "      <td>...</td>\n",
              "      <td>...</td>\n",
              "      <td>...</td>\n",
              "      <td>...</td>\n",
              "      <td>...</td>\n",
              "      <td>...</td>\n",
              "      <td>...</td>\n",
              "      <td>...</td>\n",
              "      <td>...</td>\n",
              "      <td>...</td>\n",
              "      <td>...</td>\n",
              "      <td>...</td>\n",
              "      <td>...</td>\n",
              "      <td>...</td>\n",
              "      <td>...</td>\n",
              "      <td>...</td>\n",
              "      <td>...</td>\n",
              "      <td>...</td>\n",
              "    </tr>\n",
              "    <tr>\n",
              "      <th>10122</th>\n",
              "      <td>772366833</td>\n",
              "      <td>Existing Customer</td>\n",
              "      <td>50</td>\n",
              "      <td>M</td>\n",
              "      <td>2</td>\n",
              "      <td>Graduate</td>\n",
              "      <td>Single</td>\n",
              "      <td>$40K - $60K</td>\n",
              "      <td>Blue</td>\n",
              "      <td>40</td>\n",
              "      <td>3</td>\n",
              "      <td>2</td>\n",
              "      <td>3</td>\n",
              "      <td>4003.0</td>\n",
              "      <td>1851</td>\n",
              "      <td>2152.0</td>\n",
              "      <td>0.703</td>\n",
              "      <td>15476</td>\n",
              "      <td>117</td>\n",
              "      <td>0.857</td>\n",
              "      <td>0.462</td>\n",
              "      <td>0.000191</td>\n",
              "      <td>0.999810</td>\n",
              "    </tr>\n",
              "    <tr>\n",
              "      <th>10123</th>\n",
              "      <td>710638233</td>\n",
              "      <td>Attrited Customer</td>\n",
              "      <td>41</td>\n",
              "      <td>M</td>\n",
              "      <td>2</td>\n",
              "      <td>Unknown</td>\n",
              "      <td>Divorced</td>\n",
              "      <td>$40K - $60K</td>\n",
              "      <td>Blue</td>\n",
              "      <td>25</td>\n",
              "      <td>4</td>\n",
              "      <td>2</td>\n",
              "      <td>3</td>\n",
              "      <td>4277.0</td>\n",
              "      <td>2186</td>\n",
              "      <td>2091.0</td>\n",
              "      <td>0.804</td>\n",
              "      <td>8764</td>\n",
              "      <td>69</td>\n",
              "      <td>0.683</td>\n",
              "      <td>0.511</td>\n",
              "      <td>0.995270</td>\n",
              "      <td>0.004729</td>\n",
              "    </tr>\n",
              "    <tr>\n",
              "      <th>10124</th>\n",
              "      <td>716506083</td>\n",
              "      <td>Attrited Customer</td>\n",
              "      <td>44</td>\n",
              "      <td>F</td>\n",
              "      <td>1</td>\n",
              "      <td>High School</td>\n",
              "      <td>Married</td>\n",
              "      <td>Less than $40K</td>\n",
              "      <td>Blue</td>\n",
              "      <td>36</td>\n",
              "      <td>5</td>\n",
              "      <td>3</td>\n",
              "      <td>4</td>\n",
              "      <td>5409.0</td>\n",
              "      <td>0</td>\n",
              "      <td>5409.0</td>\n",
              "      <td>0.819</td>\n",
              "      <td>10291</td>\n",
              "      <td>60</td>\n",
              "      <td>0.818</td>\n",
              "      <td>0.000</td>\n",
              "      <td>0.997880</td>\n",
              "      <td>0.002118</td>\n",
              "    </tr>\n",
              "    <tr>\n",
              "      <th>10125</th>\n",
              "      <td>717406983</td>\n",
              "      <td>Attrited Customer</td>\n",
              "      <td>30</td>\n",
              "      <td>M</td>\n",
              "      <td>2</td>\n",
              "      <td>Graduate</td>\n",
              "      <td>Unknown</td>\n",
              "      <td>$40K - $60K</td>\n",
              "      <td>Blue</td>\n",
              "      <td>36</td>\n",
              "      <td>4</td>\n",
              "      <td>3</td>\n",
              "      <td>3</td>\n",
              "      <td>5281.0</td>\n",
              "      <td>0</td>\n",
              "      <td>5281.0</td>\n",
              "      <td>0.535</td>\n",
              "      <td>8395</td>\n",
              "      <td>62</td>\n",
              "      <td>0.722</td>\n",
              "      <td>0.000</td>\n",
              "      <td>0.996710</td>\n",
              "      <td>0.003294</td>\n",
              "    </tr>\n",
              "    <tr>\n",
              "      <th>10126</th>\n",
              "      <td>714337233</td>\n",
              "      <td>Attrited Customer</td>\n",
              "      <td>43</td>\n",
              "      <td>F</td>\n",
              "      <td>2</td>\n",
              "      <td>Graduate</td>\n",
              "      <td>Married</td>\n",
              "      <td>Less than $40K</td>\n",
              "      <td>Silver</td>\n",
              "      <td>25</td>\n",
              "      <td>6</td>\n",
              "      <td>2</td>\n",
              "      <td>4</td>\n",
              "      <td>10388.0</td>\n",
              "      <td>1961</td>\n",
              "      <td>8427.0</td>\n",
              "      <td>0.703</td>\n",
              "      <td>10294</td>\n",
              "      <td>61</td>\n",
              "      <td>0.649</td>\n",
              "      <td>0.189</td>\n",
              "      <td>0.996620</td>\n",
              "      <td>0.003377</td>\n",
              "    </tr>\n",
              "  </tbody>\n",
              "</table>\n",
              "<p>10127 rows × 23 columns</p>\n",
              "</div>"
            ],
            "text/plain": [
              "       CLIENTNUM  ... Naive_Bayes_Classifier_Attrition_Flag_Card_Category_Contacts_Count_12_mon_Dependent_count_Education_Level_Months_Inactive_12_mon_2\n",
              "0      768805383  ...                                           0.999910                                                                                \n",
              "1      818770008  ...                                           0.999940                                                                                \n",
              "2      713982108  ...                                           0.999980                                                                                \n",
              "3      769911858  ...                                           0.999870                                                                                \n",
              "4      709106358  ...                                           0.999980                                                                                \n",
              "...          ...  ...                                                ...                                                                                \n",
              "10122  772366833  ...                                           0.999810                                                                                \n",
              "10123  710638233  ...                                           0.004729                                                                                \n",
              "10124  716506083  ...                                           0.002118                                                                                \n",
              "10125  717406983  ...                                           0.003294                                                                                \n",
              "10126  714337233  ...                                           0.003377                                                                                \n",
              "\n",
              "[10127 rows x 23 columns]"
            ]
          },
          "metadata": {
            "tags": []
          },
          "execution_count": 36
        }
      ]
    },
    {
      "cell_type": "markdown",
      "metadata": {
        "id": "Tu58LA7fQ2lh"
      },
      "source": [
        "## Persiapan Data\n",
        "Pada tahap ini, kami melakukan proses persiapan data dengan melakukan data cleaning. Untuk menjaga konsistensi kedua dataframe kami lakukan cleaning dengan metode yang sama."
      ]
    },
    {
      "cell_type": "markdown",
      "metadata": {
        "id": "c3SiJ9TEvuCX"
      },
      "source": [
        "### Persiapan Dataframe \"df\"\n",
        "\n",
        "Pada dataframe \"df\" kami menghapus kolom :\n",
        "1. Naive_Bayes_Classifier_Attrition_Flag_Card_Category_Contacts_Count_12_mon_Dependent_count_Education_Level_Months_Inactive_12_mon_1\n",
        "2. Naive_Bayes_Classifier_Attrition_Flag_Card_Category_Contacts_Count_12_mon_Dependent_count_Education_Level_Months_Inactive_12_mon_2\n",
        "3. CLIENTNUM\n",
        "\n",
        "ketiga kolom tersebut kami hapus karena tidak dipakai pada proses selanjutnya.\n",
        "\n",
        "\n",
        "\n"
      ]
    },
    {
      "cell_type": "code",
      "metadata": {
        "id": "7gOYGSGNRDmw"
      },
      "source": [
        "df.drop(columns=['Naive_Bayes_Classifier_Attrition_Flag_Card_Category_Contacts_Count_12_mon_Dependent_count_Education_Level_Months_Inactive_12_mon_1',\n",
        "                'Naive_Bayes_Classifier_Attrition_Flag_Card_Category_Contacts_Count_12_mon_Dependent_count_Education_Level_Months_Inactive_12_mon_2',\n",
        "                'CLIENTNUM'],axis=1,inplace=True)"
      ],
      "execution_count": null,
      "outputs": []
    },
    {
      "cell_type": "code",
      "metadata": {
        "colab": {
          "base_uri": "https://localhost:8080/"
        },
        "id": "hREKrt1zwRnz",
        "outputId": "2b9ca03f-b3d8-499d-8aa1-fea7ac132a38"
      },
      "source": [
        "df.head(3)"
      ],
      "execution_count": null,
      "outputs": [
        {
          "output_type": "execute_result",
          "data": {
            "text/html": [
              "<div>\n",
              "<style scoped>\n",
              "    .dataframe tbody tr th:only-of-type {\n",
              "        vertical-align: middle;\n",
              "    }\n",
              "\n",
              "    .dataframe tbody tr th {\n",
              "        vertical-align: top;\n",
              "    }\n",
              "\n",
              "    .dataframe thead th {\n",
              "        text-align: right;\n",
              "    }\n",
              "</style>\n",
              "<table border=\"1\" class=\"dataframe\">\n",
              "  <thead>\n",
              "    <tr style=\"text-align: right;\">\n",
              "      <th></th>\n",
              "      <th>Attrition_Flag</th>\n",
              "      <th>Customer_Age</th>\n",
              "      <th>Gender</th>\n",
              "      <th>Dependent_count</th>\n",
              "      <th>Education_Level</th>\n",
              "      <th>Marital_Status</th>\n",
              "      <th>Income_Category</th>\n",
              "      <th>Card_Category</th>\n",
              "      <th>Months_on_book</th>\n",
              "      <th>Total_Relationship_Count</th>\n",
              "      <th>Months_Inactive_12_mon</th>\n",
              "      <th>Contacts_Count_12_mon</th>\n",
              "      <th>Credit_Limit</th>\n",
              "      <th>Total_Revolving_Bal</th>\n",
              "      <th>Avg_Open_To_Buy</th>\n",
              "      <th>Total_Amt_Chng_Q4_Q1</th>\n",
              "      <th>Total_Trans_Amt</th>\n",
              "      <th>Total_Trans_Ct</th>\n",
              "      <th>Total_Ct_Chng_Q4_Q1</th>\n",
              "      <th>Avg_Utilization_Ratio</th>\n",
              "    </tr>\n",
              "  </thead>\n",
              "  <tbody>\n",
              "    <tr>\n",
              "      <th>0</th>\n",
              "      <td>Existing Customer</td>\n",
              "      <td>45</td>\n",
              "      <td>M</td>\n",
              "      <td>3</td>\n",
              "      <td>High School</td>\n",
              "      <td>Married</td>\n",
              "      <td>$60K - $80K</td>\n",
              "      <td>Blue</td>\n",
              "      <td>39</td>\n",
              "      <td>5</td>\n",
              "      <td>1</td>\n",
              "      <td>3</td>\n",
              "      <td>12691.0</td>\n",
              "      <td>777</td>\n",
              "      <td>11914.0</td>\n",
              "      <td>1.335</td>\n",
              "      <td>1144</td>\n",
              "      <td>42</td>\n",
              "      <td>1.625</td>\n",
              "      <td>0.061</td>\n",
              "    </tr>\n",
              "    <tr>\n",
              "      <th>1</th>\n",
              "      <td>Existing Customer</td>\n",
              "      <td>49</td>\n",
              "      <td>F</td>\n",
              "      <td>5</td>\n",
              "      <td>Graduate</td>\n",
              "      <td>Single</td>\n",
              "      <td>Less than $40K</td>\n",
              "      <td>Blue</td>\n",
              "      <td>44</td>\n",
              "      <td>6</td>\n",
              "      <td>1</td>\n",
              "      <td>2</td>\n",
              "      <td>8256.0</td>\n",
              "      <td>864</td>\n",
              "      <td>7392.0</td>\n",
              "      <td>1.541</td>\n",
              "      <td>1291</td>\n",
              "      <td>33</td>\n",
              "      <td>3.714</td>\n",
              "      <td>0.105</td>\n",
              "    </tr>\n",
              "    <tr>\n",
              "      <th>2</th>\n",
              "      <td>Existing Customer</td>\n",
              "      <td>51</td>\n",
              "      <td>M</td>\n",
              "      <td>3</td>\n",
              "      <td>Graduate</td>\n",
              "      <td>Married</td>\n",
              "      <td>$80K - $120K</td>\n",
              "      <td>Blue</td>\n",
              "      <td>36</td>\n",
              "      <td>4</td>\n",
              "      <td>1</td>\n",
              "      <td>0</td>\n",
              "      <td>3418.0</td>\n",
              "      <td>0</td>\n",
              "      <td>3418.0</td>\n",
              "      <td>2.594</td>\n",
              "      <td>1887</td>\n",
              "      <td>20</td>\n",
              "      <td>2.333</td>\n",
              "      <td>0.000</td>\n",
              "    </tr>\n",
              "  </tbody>\n",
              "</table>\n",
              "</div>"
            ],
            "text/plain": [
              "      Attrition_Flag  Customer_Age  ... Total_Ct_Chng_Q4_Q1  Avg_Utilization_Ratio\n",
              "0  Existing Customer            45  ...               1.625                  0.061\n",
              "1  Existing Customer            49  ...               3.714                  0.105\n",
              "2  Existing Customer            51  ...               2.333                  0.000\n",
              "\n",
              "[3 rows x 20 columns]"
            ]
          },
          "metadata": {
            "tags": []
          },
          "execution_count": 38
        }
      ]
    },
    {
      "cell_type": "markdown",
      "metadata": {
        "id": "u9fVs8nGNbI4"
      },
      "source": [
        "Setelah mengahpus kolom yang tidak dipakai, selanjutnya adalah memeriksa jika terdapat value yang kosong pada setiap field. "
      ]
    },
    {
      "cell_type": "code",
      "metadata": {
        "colab": {
          "base_uri": "https://localhost:8080/"
        },
        "id": "hqM8hmElQ_Eo",
        "outputId": "13cfdced-6f66-43b2-d3c2-bdca9a5ac90b"
      },
      "source": [
        "df.isnull().sum()/df.shape[0]*100"
      ],
      "execution_count": null,
      "outputs": [
        {
          "output_type": "execute_result",
          "data": {
            "text/plain": [
              "Attrition_Flag              0.0\n",
              "Customer_Age                0.0\n",
              "Gender                      0.0\n",
              "Dependent_count             0.0\n",
              "Education_Level             0.0\n",
              "Marital_Status              0.0\n",
              "Income_Category             0.0\n",
              "Card_Category               0.0\n",
              "Months_on_book              0.0\n",
              "Total_Relationship_Count    0.0\n",
              "Months_Inactive_12_mon      0.0\n",
              "Contacts_Count_12_mon       0.0\n",
              "Credit_Limit                0.0\n",
              "Total_Revolving_Bal         0.0\n",
              "Avg_Open_To_Buy             0.0\n",
              "Total_Amt_Chng_Q4_Q1        0.0\n",
              "Total_Trans_Amt             0.0\n",
              "Total_Trans_Ct              0.0\n",
              "Total_Ct_Chng_Q4_Q1         0.0\n",
              "Avg_Utilization_Ratio       0.0\n",
              "dtype: float64"
            ]
          },
          "metadata": {
            "tags": []
          },
          "execution_count": 39
        }
      ]
    },
    {
      "cell_type": "markdown",
      "metadata": {
        "id": "czm9UupZN1jQ"
      },
      "source": [
        "Tidak ada value yang kosong pada dataframe tersebut. Selanjutnya kami juga memeriksa tipe data untuk memudahkan dalam proses kedepannya."
      ]
    },
    {
      "cell_type": "code",
      "metadata": {
        "colab": {
          "base_uri": "https://localhost:8080/"
        },
        "id": "1lNP0gWzMW56",
        "outputId": "b4241f00-0837-4b3d-c0e3-17d5fc0a6191"
      },
      "source": [
        "df.dtypes"
      ],
      "execution_count": null,
      "outputs": [
        {
          "output_type": "execute_result",
          "data": {
            "text/plain": [
              "Attrition_Flag               object\n",
              "Customer_Age                  int64\n",
              "Gender                       object\n",
              "Dependent_count               int64\n",
              "Education_Level              object\n",
              "Marital_Status               object\n",
              "Income_Category              object\n",
              "Card_Category                object\n",
              "Months_on_book                int64\n",
              "Total_Relationship_Count      int64\n",
              "Months_Inactive_12_mon        int64\n",
              "Contacts_Count_12_mon         int64\n",
              "Credit_Limit                float64\n",
              "Total_Revolving_Bal           int64\n",
              "Avg_Open_To_Buy             float64\n",
              "Total_Amt_Chng_Q4_Q1        float64\n",
              "Total_Trans_Amt               int64\n",
              "Total_Trans_Ct                int64\n",
              "Total_Ct_Chng_Q4_Q1         float64\n",
              "Avg_Utilization_Ratio       float64\n",
              "dtype: object"
            ]
          },
          "metadata": {
            "tags": []
          },
          "execution_count": 40
        }
      ]
    },
    {
      "cell_type": "markdown",
      "metadata": {
        "id": "elgyz74_OXLI"
      },
      "source": [
        "Setelah itu, kami juga memeriksa jika sebuah field memiliki outlier atau nilai yang berbeda jauh dengan nilai yang lain."
      ]
    },
    {
      "cell_type": "code",
      "metadata": {
        "colab": {
          "base_uri": "https://localhost:8080/"
        },
        "id": "kkhEy9SlR-D_",
        "outputId": "971a6e1f-f2c2-4910-d996-0fd3e6e1e224"
      },
      "source": [
        "plt.figure(figsize=(15,15))\n",
        "\n",
        "df.boxplot(column=['Customer_Age','Dependent_count','Months_on_book','Total_Relationship_Count',\n",
        "                   'Months_Inactive_12_mon','Contacts_Count_12_mon','Credit_Limit', 'Total_Revolving_Bal',\n",
        "                   'Avg_Open_To_Buy', 'Total_Amt_Chng_Q4_Q1','Total_Trans_Amt','Total_Trans_Ct','Total_Ct_Chng_Q4_Q1'])\n",
        "plt.xticks(rotation=45)\n",
        "plt.show()"
      ],
      "execution_count": null,
      "outputs": [
        {
          "output_type": "display_data",
          "data": {
            "image/png": "[encoded data removed]",
            "text/plain": [
              "<Figure size 1080x1080 with 1 Axes>"
            ]
          },
          "metadata": {
            "tags": [],
            "needs_background": "light"
          }
        }
      ]
    },
    {
      "cell_type": "markdown",
      "metadata": {
        "id": "hQzBriV2Ojkg"
      },
      "source": [
        "Tidak terdapat outlier pada dataframe tersebut, sehingga dapat dilakukan eksplorasi data."
      ]
    },
    {
      "cell_type": "markdown",
      "metadata": {
        "id": "Mysk9KyWvmV-"
      },
      "source": [
        "### Persiapan DataFrame \"model\"\n",
        "Pada dataframe \"model\" kami menghapus kolom yang sama seperti pada datafram \"df\", yaitu:\n",
        " 1. Naive_Bayes_Classifier_Attrition_Flag_Card_Category_Contacts_Count_12_mon_Dependent_count_Education_Level_Months_Inactive_12_mon_1\n",
        "\n",
        "    2. Naive_Bayes_Classifier_Attrition_Flag_Card_Category_Contacts_Count_12_mon_Dependent_count_Education_Level_Months_Inactive_12_mon_2\n",
        "\n",
        "   3. CLIENTNUM\n",
        "\n",
        "ketiga kolom tersebut kami hapus karena tidak dipakai pada proses selanjutnya."
      ]
    },
    {
      "cell_type": "code",
      "metadata": {
        "colab": {
          "base_uri": "https://localhost:8080/"
        },
        "id": "ZoK2yXwYuEnd",
        "outputId": "89a64636-def7-4afb-f345-91bb7651108c"
      },
      "source": [
        "model.drop(columns=['Naive_Bayes_Classifier_Attrition_Flag_Card_Category_Contacts_Count_12_mon_Dependent_count_Education_Level_Months_Inactive_12_mon_1',\n",
        "                'Naive_Bayes_Classifier_Attrition_Flag_Card_Category_Contacts_Count_12_mon_Dependent_count_Education_Level_Months_Inactive_12_mon_2',\n",
        "                'CLIENTNUM'],axis=1,inplace=True)\n",
        "model.head()"
      ],
      "execution_count": null,
      "outputs": [
        {
          "output_type": "execute_result",
          "data": {
            "text/html": [
              "<div>\n",
              "<style scoped>\n",
              "    .dataframe tbody tr th:only-of-type {\n",
              "        vertical-align: middle;\n",
              "    }\n",
              "\n",
              "    .dataframe tbody tr th {\n",
              "        vertical-align: top;\n",
              "    }\n",
              "\n",
              "    .dataframe thead th {\n",
              "        text-align: right;\n",
              "    }\n",
              "</style>\n",
              "<table border=\"1\" class=\"dataframe\">\n",
              "  <thead>\n",
              "    <tr style=\"text-align: right;\">\n",
              "      <th></th>\n",
              "      <th>Attrition_Flag</th>\n",
              "      <th>Customer_Age</th>\n",
              "      <th>Gender</th>\n",
              "      <th>Dependent_count</th>\n",
              "      <th>Education_Level</th>\n",
              "      <th>Marital_Status</th>\n",
              "      <th>Income_Category</th>\n",
              "      <th>Card_Category</th>\n",
              "      <th>Months_on_book</th>\n",
              "      <th>Total_Relationship_Count</th>\n",
              "      <th>Months_Inactive_12_mon</th>\n",
              "      <th>Contacts_Count_12_mon</th>\n",
              "      <th>Credit_Limit</th>\n",
              "      <th>Total_Revolving_Bal</th>\n",
              "      <th>Avg_Open_To_Buy</th>\n",
              "      <th>Total_Amt_Chng_Q4_Q1</th>\n",
              "      <th>Total_Trans_Amt</th>\n",
              "      <th>Total_Trans_Ct</th>\n",
              "      <th>Total_Ct_Chng_Q4_Q1</th>\n",
              "      <th>Avg_Utilization_Ratio</th>\n",
              "    </tr>\n",
              "  </thead>\n",
              "  <tbody>\n",
              "    <tr>\n",
              "      <th>0</th>\n",
              "      <td>Existing Customer</td>\n",
              "      <td>45</td>\n",
              "      <td>M</td>\n",
              "      <td>3</td>\n",
              "      <td>High School</td>\n",
              "      <td>Married</td>\n",
              "      <td>$60K - $80K</td>\n",
              "      <td>Blue</td>\n",
              "      <td>39</td>\n",
              "      <td>5</td>\n",
              "      <td>1</td>\n",
              "      <td>3</td>\n",
              "      <td>12691.0</td>\n",
              "      <td>777</td>\n",
              "      <td>11914.0</td>\n",
              "      <td>1.335</td>\n",
              "      <td>1144</td>\n",
              "      <td>42</td>\n",
              "      <td>1.625</td>\n",
              "      <td>0.061</td>\n",
              "    </tr>\n",
              "    <tr>\n",
              "      <th>1</th>\n",
              "      <td>Existing Customer</td>\n",
              "      <td>49</td>\n",
              "      <td>F</td>\n",
              "      <td>5</td>\n",
              "      <td>Graduate</td>\n",
              "      <td>Single</td>\n",
              "      <td>Less than $40K</td>\n",
              "      <td>Blue</td>\n",
              "      <td>44</td>\n",
              "      <td>6</td>\n",
              "      <td>1</td>\n",
              "      <td>2</td>\n",
              "      <td>8256.0</td>\n",
              "      <td>864</td>\n",
              "      <td>7392.0</td>\n",
              "      <td>1.541</td>\n",
              "      <td>1291</td>\n",
              "      <td>33</td>\n",
              "      <td>3.714</td>\n",
              "      <td>0.105</td>\n",
              "    </tr>\n",
              "    <tr>\n",
              "      <th>2</th>\n",
              "      <td>Existing Customer</td>\n",
              "      <td>51</td>\n",
              "      <td>M</td>\n",
              "      <td>3</td>\n",
              "      <td>Graduate</td>\n",
              "      <td>Married</td>\n",
              "      <td>$80K - $120K</td>\n",
              "      <td>Blue</td>\n",
              "      <td>36</td>\n",
              "      <td>4</td>\n",
              "      <td>1</td>\n",
              "      <td>0</td>\n",
              "      <td>3418.0</td>\n",
              "      <td>0</td>\n",
              "      <td>3418.0</td>\n",
              "      <td>2.594</td>\n",
              "      <td>1887</td>\n",
              "      <td>20</td>\n",
              "      <td>2.333</td>\n",
              "      <td>0.000</td>\n",
              "    </tr>\n",
              "    <tr>\n",
              "      <th>3</th>\n",
              "      <td>Existing Customer</td>\n",
              "      <td>40</td>\n",
              "      <td>F</td>\n",
              "      <td>4</td>\n",
              "      <td>High School</td>\n",
              "      <td>Unknown</td>\n",
              "      <td>Less than $40K</td>\n",
              "      <td>Blue</td>\n",
              "      <td>34</td>\n",
              "      <td>3</td>\n",
              "      <td>4</td>\n",
              "      <td>1</td>\n",
              "      <td>3313.0</td>\n",
              "      <td>2517</td>\n",
              "      <td>796.0</td>\n",
              "      <td>1.405</td>\n",
              "      <td>1171</td>\n",
              "      <td>20</td>\n",
              "      <td>2.333</td>\n",
              "      <td>0.760</td>\n",
              "    </tr>\n",
              "    <tr>\n",
              "      <th>4</th>\n",
              "      <td>Existing Customer</td>\n",
              "      <td>40</td>\n",
              "      <td>M</td>\n",
              "      <td>3</td>\n",
              "      <td>Uneducated</td>\n",
              "      <td>Married</td>\n",
              "      <td>$60K - $80K</td>\n",
              "      <td>Blue</td>\n",
              "      <td>21</td>\n",
              "      <td>5</td>\n",
              "      <td>1</td>\n",
              "      <td>0</td>\n",
              "      <td>4716.0</td>\n",
              "      <td>0</td>\n",
              "      <td>4716.0</td>\n",
              "      <td>2.175</td>\n",
              "      <td>816</td>\n",
              "      <td>28</td>\n",
              "      <td>2.500</td>\n",
              "      <td>0.000</td>\n",
              "    </tr>\n",
              "  </tbody>\n",
              "</table>\n",
              "</div>"
            ],
            "text/plain": [
              "      Attrition_Flag  Customer_Age  ... Total_Ct_Chng_Q4_Q1  Avg_Utilization_Ratio\n",
              "0  Existing Customer            45  ...               1.625                  0.061\n",
              "1  Existing Customer            49  ...               3.714                  0.105\n",
              "2  Existing Customer            51  ...               2.333                  0.000\n",
              "3  Existing Customer            40  ...               2.333                  0.760\n",
              "4  Existing Customer            40  ...               2.500                  0.000\n",
              "\n",
              "[5 rows x 20 columns]"
            ]
          },
          "metadata": {
            "tags": []
          },
          "execution_count": 42
        }
      ]
    },
    {
      "cell_type": "markdown",
      "metadata": {
        "id": "Cy_FoTnJQhA1"
      },
      "source": [
        "Selanjutnya adalah mengubah value teks atau huruf menjadi angka atau numerik. Namun sebelum itu, kami ingin memeriksa value yang unik pada semua field untuk dijadikan angka."
      ]
    },
    {
      "cell_type": "code",
      "metadata": {
        "colab": {
          "base_uri": "https://localhost:8080/"
        },
        "id": "XaGtqRwAoton",
        "outputId": "1e336ef0-b48c-486b-836e-7797d209e23b"
      },
      "source": [
        "print(model['Attrition_Flag'].value_counts())\n",
        "print(model['Gender'].value_counts())\n",
        "print(model['Education_Level'].value_counts())\n",
        "print(model['Marital_Status'].value_counts())\n",
        "print(model['Income_Category'].value_counts())\n",
        "print(model['Card_Category'].value_counts())"
      ],
      "execution_count": null,
      "outputs": [
        {
          "output_type": "stream",
          "text": [
            "Existing Customer    8500\n",
            "Attrited Customer    1627\n",
            "Name: Attrition_Flag, dtype: int64\n",
            "F    5358\n",
            "M    4769\n",
            "Name: Gender, dtype: int64\n",
            "Graduate         3128\n",
            "High School      2013\n",
            "Unknown          1519\n",
            "Uneducated       1487\n",
            "College          1013\n",
            "Post-Graduate     516\n",
            "Doctorate         451\n",
            "Name: Education_Level, dtype: int64\n",
            "Married     4687\n",
            "Single      3943\n",
            "Unknown      749\n",
            "Divorced     748\n",
            "Name: Marital_Status, dtype: int64\n",
            "Less than $40K    3561\n",
            "$40K - $60K       1790\n",
            "$80K - $120K      1535\n",
            "$60K - $80K       1402\n",
            "Unknown           1112\n",
            "$120K +            727\n",
            "Name: Income_Category, dtype: int64\n",
            "Blue        9436\n",
            "Silver       555\n",
            "Gold         116\n",
            "Platinum      20\n",
            "Name: Card_Category, dtype: int64\n"
          ],
          "name": "stdout"
        }
      ]
    },
    {
      "cell_type": "code",
      "metadata": {
        "colab": {
          "base_uri": "https://localhost:8080/"
        },
        "id": "y8tf6rgbo1wG",
        "outputId": "0ed53a3c-44c2-442e-c2ab-2fcd26216469"
      },
      "source": [
        "model['Attrition_Flag'].replace({'Existing Customer' : 0, 'Attrited Customer' : 1},inplace = True)\n",
        "model['Gender'].replace({'F': 0, 'M': 1}, inplace = True)\n",
        "model['Education_Level'].replace({'Unknown' : 0, 'Uneducated' : 1, 'High School' : 2, 'College' : 3, \n",
        "                               'Graduate' : 4, 'Post-Graduate' : 5, 'Doctorate' : 6}, inplace = True)\n",
        "model['Marital_Status'].replace({'Unknown' : 0, 'Single' : 1, 'Divorced' : 2, 'Married' : 3}, inplace = True)\n",
        "model['Income_Category'].replace({'Unknown' : 0, 'Less than $40K' : 1, '$40K - $60K' : 2, '$60K - $80K' : 3,\n",
        "                              '$80K - $120K' : 4, '$120K +' : 5}, inplace = True)\n",
        "model['Card_Category'].replace({'Blue' : 0, 'Silver' : 1, 'Gold' : 2, 'Platinum' : 3}, inplace = True)\n",
        "model.dtypes"
      ],
      "execution_count": null,
      "outputs": [
        {
          "output_type": "execute_result",
          "data": {
            "text/plain": [
              "Attrition_Flag                int64\n",
              "Customer_Age                  int64\n",
              "Gender                        int64\n",
              "Dependent_count               int64\n",
              "Education_Level               int64\n",
              "Marital_Status                int64\n",
              "Income_Category               int64\n",
              "Card_Category                 int64\n",
              "Months_on_book                int64\n",
              "Total_Relationship_Count      int64\n",
              "Months_Inactive_12_mon        int64\n",
              "Contacts_Count_12_mon         int64\n",
              "Credit_Limit                float64\n",
              "Total_Revolving_Bal           int64\n",
              "Avg_Open_To_Buy             float64\n",
              "Total_Amt_Chng_Q4_Q1        float64\n",
              "Total_Trans_Amt               int64\n",
              "Total_Trans_Ct                int64\n",
              "Total_Ct_Chng_Q4_Q1         float64\n",
              "Avg_Utilization_Ratio       float64\n",
              "dtype: object"
            ]
          },
          "metadata": {
            "tags": []
          },
          "execution_count": 44
        }
      ]
    },
    {
      "cell_type": "markdown",
      "metadata": {
        "id": "bUGMaDTgQ6Op"
      },
      "source": [
        "Berikut adalah hasil setelah melakukan transformasi data"
      ]
    },
    {
      "cell_type": "code",
      "metadata": {
        "colab": {
          "base_uri": "https://localhost:8080/"
        },
        "id": "uMOXFAIMv2Q1",
        "outputId": "2bda7836-84e6-4929-d170-3a735beac6a7"
      },
      "source": [
        "model.head(3)"
      ],
      "execution_count": null,
      "outputs": [
        {
          "output_type": "execute_result",
          "data": {
            "text/html": [
              "<div>\n",
              "<style scoped>\n",
              "    .dataframe tbody tr th:only-of-type {\n",
              "        vertical-align: middle;\n",
              "    }\n",
              "\n",
              "    .dataframe tbody tr th {\n",
              "        vertical-align: top;\n",
              "    }\n",
              "\n",
              "    .dataframe thead th {\n",
              "        text-align: right;\n",
              "    }\n",
              "</style>\n",
              "<table border=\"1\" class=\"dataframe\">\n",
              "  <thead>\n",
              "    <tr style=\"text-align: right;\">\n",
              "      <th></th>\n",
              "      <th>Attrition_Flag</th>\n",
              "      <th>Customer_Age</th>\n",
              "      <th>Gender</th>\n",
              "      <th>Dependent_count</th>\n",
              "      <th>Education_Level</th>\n",
              "      <th>Marital_Status</th>\n",
              "      <th>Income_Category</th>\n",
              "      <th>Card_Category</th>\n",
              "      <th>Months_on_book</th>\n",
              "      <th>Total_Relationship_Count</th>\n",
              "      <th>Months_Inactive_12_mon</th>\n",
              "      <th>Contacts_Count_12_mon</th>\n",
              "      <th>Credit_Limit</th>\n",
              "      <th>Total_Revolving_Bal</th>\n",
              "      <th>Avg_Open_To_Buy</th>\n",
              "      <th>Total_Amt_Chng_Q4_Q1</th>\n",
              "      <th>Total_Trans_Amt</th>\n",
              "      <th>Total_Trans_Ct</th>\n",
              "      <th>Total_Ct_Chng_Q4_Q1</th>\n",
              "      <th>Avg_Utilization_Ratio</th>\n",
              "    </tr>\n",
              "  </thead>\n",
              "  <tbody>\n",
              "    <tr>\n",
              "      <th>0</th>\n",
              "      <td>0</td>\n",
              "      <td>45</td>\n",
              "      <td>1</td>\n",
              "      <td>3</td>\n",
              "      <td>2</td>\n",
              "      <td>3</td>\n",
              "      <td>3</td>\n",
              "      <td>0</td>\n",
              "      <td>39</td>\n",
              "      <td>5</td>\n",
              "      <td>1</td>\n",
              "      <td>3</td>\n",
              "      <td>12691.0</td>\n",
              "      <td>777</td>\n",
              "      <td>11914.0</td>\n",
              "      <td>1.335</td>\n",
              "      <td>1144</td>\n",
              "      <td>42</td>\n",
              "      <td>1.625</td>\n",
              "      <td>0.061</td>\n",
              "    </tr>\n",
              "    <tr>\n",
              "      <th>1</th>\n",
              "      <td>0</td>\n",
              "      <td>49</td>\n",
              "      <td>0</td>\n",
              "      <td>5</td>\n",
              "      <td>4</td>\n",
              "      <td>1</td>\n",
              "      <td>1</td>\n",
              "      <td>0</td>\n",
              "      <td>44</td>\n",
              "      <td>6</td>\n",
              "      <td>1</td>\n",
              "      <td>2</td>\n",
              "      <td>8256.0</td>\n",
              "      <td>864</td>\n",
              "      <td>7392.0</td>\n",
              "      <td>1.541</td>\n",
              "      <td>1291</td>\n",
              "      <td>33</td>\n",
              "      <td>3.714</td>\n",
              "      <td>0.105</td>\n",
              "    </tr>\n",
              "    <tr>\n",
              "      <th>2</th>\n",
              "      <td>0</td>\n",
              "      <td>51</td>\n",
              "      <td>1</td>\n",
              "      <td>3</td>\n",
              "      <td>4</td>\n",
              "      <td>3</td>\n",
              "      <td>4</td>\n",
              "      <td>0</td>\n",
              "      <td>36</td>\n",
              "      <td>4</td>\n",
              "      <td>1</td>\n",
              "      <td>0</td>\n",
              "      <td>3418.0</td>\n",
              "      <td>0</td>\n",
              "      <td>3418.0</td>\n",
              "      <td>2.594</td>\n",
              "      <td>1887</td>\n",
              "      <td>20</td>\n",
              "      <td>2.333</td>\n",
              "      <td>0.000</td>\n",
              "    </tr>\n",
              "  </tbody>\n",
              "</table>\n",
              "</div>"
            ],
            "text/plain": [
              "   Attrition_Flag  Customer_Age  ...  Total_Ct_Chng_Q4_Q1  Avg_Utilization_Ratio\n",
              "0               0            45  ...                1.625                  0.061\n",
              "1               0            49  ...                3.714                  0.105\n",
              "2               0            51  ...                2.333                  0.000\n",
              "\n",
              "[3 rows x 20 columns]"
            ]
          },
          "metadata": {
            "tags": []
          },
          "execution_count": 45
        }
      ]
    },
    {
      "cell_type": "markdown",
      "metadata": {
        "id": "C8uxzchZSliw"
      },
      "source": [
        "## Eksplorasi Data\n",
        "Pada tahap ini, kami menampilkan data dalam bentuk grafik untuk dapat menganalisa dataset."
      ]
    },
    {
      "cell_type": "code",
      "metadata": {
        "colab": {
          "base_uri": "https://localhost:8080/"
        },
        "id": "borJnGZgVutW",
        "outputId": "853101b2-5eac-46c6-d711-241e98bc3b42"
      },
      "source": [
        "pie = pd.value_counts(df[\"Gender\"]).tolist()\n",
        "plt.figure(figsize = (10,10))\n",
        "plt.pie(x = pie, labels = [\"M\", \"F\"], autopct='%.2f%%')"
      ],
      "execution_count": null,
      "outputs": [
        {
          "output_type": "execute_result",
          "data": {
            "text/plain": [
              "([<matplotlib.patches.Wedge at 0x7f2806928390>,\n",
              "  <matplotlib.patches.Wedge at 0x7f2806928b38>],\n",
              " [Text(-0.10035590564411713, 1.0954125671190509, 'M'),\n",
              "  Text(0.10035590564411676, -1.095412567119051, 'F')],\n",
              " [Text(-0.054739584896791156, 0.5974977638831186, '52.91%'),\n",
              "  Text(0.05473958489679095, -0.5974977638831187, '47.09%')])"
            ]
          },
          "metadata": {
            "tags": []
          },
          "execution_count": 46
        },
        {
          "output_type": "display_data",
          "data": {
            "image/png": "[encoded data removed]",
            "text/plain": [
              "<Figure size 720x720 with 1 Axes>"
            ]
          },
          "metadata": {
            "tags": []
          }
        }
      ]
    },
    {
      "cell_type": "markdown",
      "metadata": {
        "id": "0hJrapxVGi5z"
      },
      "source": [
        "Pada pie chart diatas, pemilik kartu kredit hampir terbagi rata antara wanita dan pria."
      ]
    },
    {
      "cell_type": "code",
      "metadata": {
        "colab": {
          "base_uri": "https://localhost:8080/"
        },
        "id": "orHdR0D4SkPX",
        "outputId": "60114ace-2b64-42d5-d110-2c98a84f4ce6"
      },
      "source": [
        "df['Customer_Age'].plot(kind='hist')"
      ],
      "execution_count": null,
      "outputs": [
        {
          "output_type": "execute_result",
          "data": {
            "text/plain": [
              "<matplotlib.axes._subplots.AxesSubplot at 0x7f28069332e8>"
            ]
          },
          "metadata": {
            "tags": []
          },
          "execution_count": 47
        },
        {
          "output_type": "display_data",
          "data": {
            "image/png": "[encoded data removed]",
            "text/plain": [
              "<Figure size 432x288 with 1 Axes>"
            ]
          },
          "metadata": {
            "tags": [],
            "needs_background": "light"
          }
        }
      ]
    },
    {
      "cell_type": "markdown",
      "metadata": {
        "id": "hX7jFbQlGuK8"
      },
      "source": [
        "Pada histogram diatas, kebanyakan pemilik kartu kredit berada pada umur 35 sampai dengan 55 tahun."
      ]
    },
    {
      "cell_type": "code",
      "metadata": {
        "colab": {
          "base_uri": "https://localhost:8080/"
        },
        "id": "riNv2kUiS2i_",
        "outputId": "25b8f50d-ec63-4702-9d07-93a660a33c36"
      },
      "source": [
        "df.groupby('Marital_Status').agg({'Total_Trans_Amt':'sum'}).plot(kind='bar')"
      ],
      "execution_count": null,
      "outputs": [
        {
          "output_type": "execute_result",
          "data": {
            "text/plain": [
              "<matplotlib.axes._subplots.AxesSubplot at 0x7f28068b1518>"
            ]
          },
          "metadata": {
            "tags": []
          },
          "execution_count": 48
        },
        {
          "output_type": "display_data",
          "data": {
            "image/png": "[encoded data removed]",
            "text/plain": [
              "<Figure size 432x288 with 1 Axes>"
            ]
          },
          "metadata": {
            "tags": [],
            "needs_background": "light"
          }
        }
      ]
    },
    {
      "cell_type": "markdown",
      "metadata": {
        "id": "GJefufnoHHVz"
      },
      "source": [
        "Pada grafik diatas, mayoritas pemiliki kartu kredit adalah orang yang sudah menikah dan orang yang masih lajang. Mereka pun yang paling berkontribusi dalam total transaksi kartu kredit."
      ]
    },
    {
      "cell_type": "code",
      "metadata": {
        "colab": {
          "base_uri": "https://localhost:8080/"
        },
        "id": "12vMNeGaS4P3",
        "outputId": "e12faed0-5841-40ee-86ee-7005514482d2"
      },
      "source": [
        "df.groupby('Education_Level').agg({'Total_Trans_Amt':'sum'}).plot(kind='bar')"
      ],
      "execution_count": null,
      "outputs": [
        {
          "output_type": "execute_result",
          "data": {
            "text/plain": [
              "<matplotlib.axes._subplots.AxesSubplot at 0x7f280682dd30>"
            ]
          },
          "metadata": {
            "tags": []
          },
          "execution_count": 49
        },
        {
          "output_type": "display_data",
          "data": {
            "image/png": "[encoded data removed]",
            "text/plain": [
              "<Figure size 432x288 with 1 Axes>"
            ]
          },
          "metadata": {
            "tags": [],
            "needs_background": "light"
          }
        }
      ]
    },
    {
      "cell_type": "markdown",
      "metadata": {
        "id": "_GeVfa7kHbaT"
      },
      "source": [
        "pada grafik diatas, dapat dilihat bahwa ada inkonsistensi antar tingkat edukasi dengan jumlah transaksi yang dilakukan. maka tingkat edukasi seseorang tidak memengaruhi total transaksi kartu kredit. "
      ]
    },
    {
      "cell_type": "code",
      "metadata": {
        "colab": {
          "base_uri": "https://localhost:8080/"
        },
        "id": "AfSrf0vpnFK_",
        "outputId": "079041ae-70b5-4e4b-94b0-f606519f60ca"
      },
      "source": [
        "df.groupby('Income_Category').agg({'Total_Trans_Amt':'sum'}).plot(kind='bar')"
      ],
      "execution_count": null,
      "outputs": [
        {
          "output_type": "execute_result",
          "data": {
            "text/plain": [
              "<matplotlib.axes._subplots.AxesSubplot at 0x7f28068add68>"
            ]
          },
          "metadata": {
            "tags": []
          },
          "execution_count": 50
        },
        {
          "output_type": "display_data",
          "data": {
            "image/png": "[encoded data removed]",
            "text/plain": [
              "<Figure size 432x288 with 1 Axes>"
            ]
          },
          "metadata": {
            "tags": [],
            "needs_background": "light"
          }
        }
      ]
    },
    {
      "cell_type": "markdown",
      "metadata": {
        "id": "v1B6QU_GINDC"
      },
      "source": [
        "Pada grafik diatas, terdapat juga inkosistensi antar kategori pemasukan. "
      ]
    },
    {
      "cell_type": "code",
      "metadata": {
        "colab": {
          "base_uri": "https://localhost:8080/"
        },
        "id": "pLKkcsDMTXov",
        "outputId": "913cdb14-4b2d-48c6-ce49-02ed05d9fe10"
      },
      "source": [
        "plt.scatter(x=df['Total_Trans_Ct'],y=df['Total_Trans_Amt'])"
      ],
      "execution_count": null,
      "outputs": [
        {
          "output_type": "execute_result",
          "data": {
            "text/plain": [
              "<matplotlib.collections.PathCollection at 0x7f280673b860>"
            ]
          },
          "metadata": {
            "tags": []
          },
          "execution_count": 51
        },
        {
          "output_type": "display_data",
          "data": {
            "image/png": "[encoded data removed]",
            "text/plain": [
              "<Figure size 432x288 with 1 Axes>"
            ]
          },
          "metadata": {
            "tags": [],
            "needs_background": "light"
          }
        }
      ]
    },
    {
      "cell_type": "markdown",
      "metadata": {
        "id": "HEaPAAJ-MAuE"
      },
      "source": [
        "Grafik diatas menunjukkan jumlah seseorang melakukan transaksi dengan jumlah uang yang ditransaksikan"
      ]
    },
    {
      "cell_type": "markdown",
      "metadata": {
        "id": "X-syGc4GnYLn"
      },
      "source": [
        "## Pemodelan Data\n",
        "Pada tahap berikut, kami akan memodelkan data menggunakan metode Random Forest Classifier."
      ]
    },
    {
      "cell_type": "code",
      "metadata": {
        "colab": {
          "base_uri": "https://localhost:8080/",
          "height": 697
        },
        "id": "e5V_yFrhnW9g",
        "outputId": "4ca26085-3f1a-4572-80ba-24331fd707d0"
      },
      "source": [
        "model.corr()"
      ],
      "execution_count": null,
      "outputs": [
        {
          "output_type": "execute_result",
          "data": {
            "text/html": [
              "<div>\n",
              "<style scoped>\n",
              "    .dataframe tbody tr th:only-of-type {\n",
              "        vertical-align: middle;\n",
              "    }\n",
              "\n",
              "    .dataframe tbody tr th {\n",
              "        vertical-align: top;\n",
              "    }\n",
              "\n",
              "    .dataframe thead th {\n",
              "        text-align: right;\n",
              "    }\n",
              "</style>\n",
              "<table border=\"1\" class=\"dataframe\">\n",
              "  <thead>\n",
              "    <tr style=\"text-align: right;\">\n",
              "      <th></th>\n",
              "      <th>Attrition_Flag</th>\n",
              "      <th>Customer_Age</th>\n",
              "      <th>Gender</th>\n",
              "      <th>Dependent_count</th>\n",
              "      <th>Education_Level</th>\n",
              "      <th>Marital_Status</th>\n",
              "      <th>Income_Category</th>\n",
              "      <th>Card_Category</th>\n",
              "      <th>Months_on_book</th>\n",
              "      <th>Total_Relationship_Count</th>\n",
              "      <th>Months_Inactive_12_mon</th>\n",
              "      <th>Contacts_Count_12_mon</th>\n",
              "      <th>Credit_Limit</th>\n",
              "      <th>Total_Revolving_Bal</th>\n",
              "      <th>Avg_Open_To_Buy</th>\n",
              "      <th>Total_Amt_Chng_Q4_Q1</th>\n",
              "      <th>Total_Trans_Amt</th>\n",
              "      <th>Total_Trans_Ct</th>\n",
              "      <th>Total_Ct_Chng_Q4_Q1</th>\n",
              "      <th>Avg_Utilization_Ratio</th>\n",
              "    </tr>\n",
              "  </thead>\n",
              "  <tbody>\n",
              "    <tr>\n",
              "      <th>Attrition_Flag</th>\n",
              "      <td>1.000000</td>\n",
              "      <td>0.018203</td>\n",
              "      <td>-0.037272</td>\n",
              "      <td>0.018991</td>\n",
              "      <td>0.008796</td>\n",
              "      <td>-0.024117</td>\n",
              "      <td>-0.013577</td>\n",
              "      <td>0.002354</td>\n",
              "      <td>0.013687</td>\n",
              "      <td>-0.150005</td>\n",
              "      <td>0.152449</td>\n",
              "      <td>0.204491</td>\n",
              "      <td>-0.023873</td>\n",
              "      <td>-0.263053</td>\n",
              "      <td>-0.000285</td>\n",
              "      <td>-0.131063</td>\n",
              "      <td>-0.168598</td>\n",
              "      <td>-0.371403</td>\n",
              "      <td>-0.290054</td>\n",
              "      <td>-0.178410</td>\n",
              "    </tr>\n",
              "    <tr>\n",
              "      <th>Customer_Age</th>\n",
              "      <td>0.018203</td>\n",
              "      <td>1.000000</td>\n",
              "      <td>-0.017312</td>\n",
              "      <td>-0.122254</td>\n",
              "      <td>-0.002369</td>\n",
              "      <td>0.040298</td>\n",
              "      <td>0.023508</td>\n",
              "      <td>-0.018235</td>\n",
              "      <td>0.788912</td>\n",
              "      <td>-0.010931</td>\n",
              "      <td>0.054361</td>\n",
              "      <td>-0.018452</td>\n",
              "      <td>0.002476</td>\n",
              "      <td>0.014780</td>\n",
              "      <td>0.001151</td>\n",
              "      <td>-0.062042</td>\n",
              "      <td>-0.046446</td>\n",
              "      <td>-0.067097</td>\n",
              "      <td>-0.012143</td>\n",
              "      <td>0.007114</td>\n",
              "    </tr>\n",
              "    <tr>\n",
              "      <th>Gender</th>\n",
              "      <td>-0.037272</td>\n",
              "      <td>-0.017312</td>\n",
              "      <td>1.000000</td>\n",
              "      <td>0.004563</td>\n",
              "      <td>-0.005087</td>\n",
              "      <td>0.006491</td>\n",
              "      <td>0.786608</td>\n",
              "      <td>0.080093</td>\n",
              "      <td>-0.006728</td>\n",
              "      <td>0.003157</td>\n",
              "      <td>-0.011163</td>\n",
              "      <td>0.039987</td>\n",
              "      <td>0.420806</td>\n",
              "      <td>0.029658</td>\n",
              "      <td>0.418059</td>\n",
              "      <td>0.026712</td>\n",
              "      <td>0.024890</td>\n",
              "      <td>-0.067454</td>\n",
              "      <td>-0.005800</td>\n",
              "      <td>-0.257851</td>\n",
              "    </tr>\n",
              "    <tr>\n",
              "      <th>Dependent_count</th>\n",
              "      <td>0.018991</td>\n",
              "      <td>-0.122254</td>\n",
              "      <td>0.004563</td>\n",
              "      <td>1.000000</td>\n",
              "      <td>0.000472</td>\n",
              "      <td>0.004839</td>\n",
              "      <td>0.066278</td>\n",
              "      <td>0.030469</td>\n",
              "      <td>-0.103062</td>\n",
              "      <td>-0.039076</td>\n",
              "      <td>-0.010768</td>\n",
              "      <td>-0.040505</td>\n",
              "      <td>0.068065</td>\n",
              "      <td>-0.002688</td>\n",
              "      <td>0.068291</td>\n",
              "      <td>-0.035439</td>\n",
              "      <td>0.025046</td>\n",
              "      <td>0.049912</td>\n",
              "      <td>0.011087</td>\n",
              "      <td>-0.037135</td>\n",
              "    </tr>\n",
              "    <tr>\n",
              "      <th>Education_Level</th>\n",
              "      <td>0.008796</td>\n",
              "      <td>-0.002369</td>\n",
              "      <td>-0.005087</td>\n",
              "      <td>0.000472</td>\n",
              "      <td>1.000000</td>\n",
              "      <td>0.015478</td>\n",
              "      <td>-0.011677</td>\n",
              "      <td>0.014989</td>\n",
              "      <td>0.006613</td>\n",
              "      <td>0.000766</td>\n",
              "      <td>0.005761</td>\n",
              "      <td>-0.006280</td>\n",
              "      <td>-0.002354</td>\n",
              "      <td>-0.006800</td>\n",
              "      <td>-0.001743</td>\n",
              "      <td>-0.010040</td>\n",
              "      <td>-0.007460</td>\n",
              "      <td>-0.004307</td>\n",
              "      <td>-0.016692</td>\n",
              "      <td>-0.001849</td>\n",
              "    </tr>\n",
              "    <tr>\n",
              "      <th>Marital_Status</th>\n",
              "      <td>-0.024117</td>\n",
              "      <td>0.040298</td>\n",
              "      <td>0.006491</td>\n",
              "      <td>0.004839</td>\n",
              "      <td>0.015478</td>\n",
              "      <td>1.000000</td>\n",
              "      <td>0.017770</td>\n",
              "      <td>-0.052296</td>\n",
              "      <td>0.030598</td>\n",
              "      <td>0.020427</td>\n",
              "      <td>-0.004915</td>\n",
              "      <td>0.001780</td>\n",
              "      <td>-0.053580</td>\n",
              "      <td>0.036352</td>\n",
              "      <td>-0.056828</td>\n",
              "      <td>0.050805</td>\n",
              "      <td>-0.062698</td>\n",
              "      <td>-0.116268</td>\n",
              "      <td>0.008999</td>\n",
              "      <td>0.046623</td>\n",
              "    </tr>\n",
              "    <tr>\n",
              "      <th>Income_Category</th>\n",
              "      <td>-0.013577</td>\n",
              "      <td>0.023508</td>\n",
              "      <td>0.786608</td>\n",
              "      <td>0.066278</td>\n",
              "      <td>-0.011677</td>\n",
              "      <td>0.017770</td>\n",
              "      <td>1.000000</td>\n",
              "      <td>0.077326</td>\n",
              "      <td>0.022122</td>\n",
              "      <td>-0.003202</td>\n",
              "      <td>-0.016310</td>\n",
              "      <td>0.023113</td>\n",
              "      <td>0.475972</td>\n",
              "      <td>0.034718</td>\n",
              "      <td>0.472760</td>\n",
              "      <td>0.011352</td>\n",
              "      <td>0.019651</td>\n",
              "      <td>-0.054569</td>\n",
              "      <td>-0.012657</td>\n",
              "      <td>-0.246476</td>\n",
              "    </tr>\n",
              "    <tr>\n",
              "      <th>Card_Category</th>\n",
              "      <td>0.002354</td>\n",
              "      <td>-0.018235</td>\n",
              "      <td>0.080093</td>\n",
              "      <td>0.030469</td>\n",
              "      <td>0.014989</td>\n",
              "      <td>-0.052296</td>\n",
              "      <td>0.077326</td>\n",
              "      <td>1.000000</td>\n",
              "      <td>-0.012535</td>\n",
              "      <td>-0.094077</td>\n",
              "      <td>-0.014629</td>\n",
              "      <td>-0.000442</td>\n",
              "      <td>0.492446</td>\n",
              "      <td>0.026304</td>\n",
              "      <td>0.489985</td>\n",
              "      <td>0.007385</td>\n",
              "      <td>0.196003</td>\n",
              "      <td>0.134275</td>\n",
              "      <td>-0.007261</td>\n",
              "      <td>-0.198711</td>\n",
              "    </tr>\n",
              "    <tr>\n",
              "      <th>Months_on_book</th>\n",
              "      <td>0.013687</td>\n",
              "      <td>0.788912</td>\n",
              "      <td>-0.006728</td>\n",
              "      <td>-0.103062</td>\n",
              "      <td>0.006613</td>\n",
              "      <td>0.030598</td>\n",
              "      <td>0.022122</td>\n",
              "      <td>-0.012535</td>\n",
              "      <td>1.000000</td>\n",
              "      <td>-0.009203</td>\n",
              "      <td>0.074164</td>\n",
              "      <td>-0.010774</td>\n",
              "      <td>0.007507</td>\n",
              "      <td>0.008623</td>\n",
              "      <td>0.006732</td>\n",
              "      <td>-0.048959</td>\n",
              "      <td>-0.038591</td>\n",
              "      <td>-0.049819</td>\n",
              "      <td>-0.014072</td>\n",
              "      <td>-0.007541</td>\n",
              "    </tr>\n",
              "    <tr>\n",
              "      <th>Total_Relationship_Count</th>\n",
              "      <td>-0.150005</td>\n",
              "      <td>-0.010931</td>\n",
              "      <td>0.003157</td>\n",
              "      <td>-0.039076</td>\n",
              "      <td>0.000766</td>\n",
              "      <td>0.020427</td>\n",
              "      <td>-0.003202</td>\n",
              "      <td>-0.094077</td>\n",
              "      <td>-0.009203</td>\n",
              "      <td>1.000000</td>\n",
              "      <td>-0.003675</td>\n",
              "      <td>0.055203</td>\n",
              "      <td>-0.071386</td>\n",
              "      <td>0.013726</td>\n",
              "      <td>-0.072601</td>\n",
              "      <td>0.050119</td>\n",
              "      <td>-0.347229</td>\n",
              "      <td>-0.241891</td>\n",
              "      <td>0.040831</td>\n",
              "      <td>0.067663</td>\n",
              "    </tr>\n",
              "    <tr>\n",
              "      <th>Months_Inactive_12_mon</th>\n",
              "      <td>0.152449</td>\n",
              "      <td>0.054361</td>\n",
              "      <td>-0.011163</td>\n",
              "      <td>-0.010768</td>\n",
              "      <td>0.005761</td>\n",
              "      <td>-0.004915</td>\n",
              "      <td>-0.016310</td>\n",
              "      <td>-0.014629</td>\n",
              "      <td>0.074164</td>\n",
              "      <td>-0.003675</td>\n",
              "      <td>1.000000</td>\n",
              "      <td>0.029493</td>\n",
              "      <td>-0.020394</td>\n",
              "      <td>-0.042210</td>\n",
              "      <td>-0.016605</td>\n",
              "      <td>-0.032247</td>\n",
              "      <td>-0.036982</td>\n",
              "      <td>-0.042787</td>\n",
              "      <td>-0.038989</td>\n",
              "      <td>-0.007503</td>\n",
              "    </tr>\n",
              "    <tr>\n",
              "      <th>Contacts_Count_12_mon</th>\n",
              "      <td>0.204491</td>\n",
              "      <td>-0.018452</td>\n",
              "      <td>0.039987</td>\n",
              "      <td>-0.040505</td>\n",
              "      <td>-0.006280</td>\n",
              "      <td>0.001780</td>\n",
              "      <td>0.023113</td>\n",
              "      <td>-0.000442</td>\n",
              "      <td>-0.010774</td>\n",
              "      <td>0.055203</td>\n",
              "      <td>0.029493</td>\n",
              "      <td>1.000000</td>\n",
              "      <td>0.020817</td>\n",
              "      <td>-0.053913</td>\n",
              "      <td>0.025646</td>\n",
              "      <td>-0.024445</td>\n",
              "      <td>-0.112774</td>\n",
              "      <td>-0.152213</td>\n",
              "      <td>-0.094997</td>\n",
              "      <td>-0.055471</td>\n",
              "    </tr>\n",
              "    <tr>\n",
              "      <th>Credit_Limit</th>\n",
              "      <td>-0.023873</td>\n",
              "      <td>0.002476</td>\n",
              "      <td>0.420806</td>\n",
              "      <td>0.068065</td>\n",
              "      <td>-0.002354</td>\n",
              "      <td>-0.053580</td>\n",
              "      <td>0.475972</td>\n",
              "      <td>0.492446</td>\n",
              "      <td>0.007507</td>\n",
              "      <td>-0.071386</td>\n",
              "      <td>-0.020394</td>\n",
              "      <td>0.020817</td>\n",
              "      <td>1.000000</td>\n",
              "      <td>0.042493</td>\n",
              "      <td>0.995981</td>\n",
              "      <td>0.012813</td>\n",
              "      <td>0.171730</td>\n",
              "      <td>0.075927</td>\n",
              "      <td>-0.002020</td>\n",
              "      <td>-0.482965</td>\n",
              "    </tr>\n",
              "    <tr>\n",
              "      <th>Total_Revolving_Bal</th>\n",
              "      <td>-0.263053</td>\n",
              "      <td>0.014780</td>\n",
              "      <td>0.029658</td>\n",
              "      <td>-0.002688</td>\n",
              "      <td>-0.006800</td>\n",
              "      <td>0.036352</td>\n",
              "      <td>0.034718</td>\n",
              "      <td>0.026304</td>\n",
              "      <td>0.008623</td>\n",
              "      <td>0.013726</td>\n",
              "      <td>-0.042210</td>\n",
              "      <td>-0.053913</td>\n",
              "      <td>0.042493</td>\n",
              "      <td>1.000000</td>\n",
              "      <td>-0.047167</td>\n",
              "      <td>0.058174</td>\n",
              "      <td>0.064370</td>\n",
              "      <td>0.056060</td>\n",
              "      <td>0.089861</td>\n",
              "      <td>0.624022</td>\n",
              "    </tr>\n",
              "    <tr>\n",
              "      <th>Avg_Open_To_Buy</th>\n",
              "      <td>-0.000285</td>\n",
              "      <td>0.001151</td>\n",
              "      <td>0.418059</td>\n",
              "      <td>0.068291</td>\n",
              "      <td>-0.001743</td>\n",
              "      <td>-0.056828</td>\n",
              "      <td>0.472760</td>\n",
              "      <td>0.489985</td>\n",
              "      <td>0.006732</td>\n",
              "      <td>-0.072601</td>\n",
              "      <td>-0.016605</td>\n",
              "      <td>0.025646</td>\n",
              "      <td>0.995981</td>\n",
              "      <td>-0.047167</td>\n",
              "      <td>1.000000</td>\n",
              "      <td>0.007595</td>\n",
              "      <td>0.165923</td>\n",
              "      <td>0.070885</td>\n",
              "      <td>-0.010076</td>\n",
              "      <td>-0.538808</td>\n",
              "    </tr>\n",
              "    <tr>\n",
              "      <th>Total_Amt_Chng_Q4_Q1</th>\n",
              "      <td>-0.131063</td>\n",
              "      <td>-0.062042</td>\n",
              "      <td>0.026712</td>\n",
              "      <td>-0.035439</td>\n",
              "      <td>-0.010040</td>\n",
              "      <td>0.050805</td>\n",
              "      <td>0.011352</td>\n",
              "      <td>0.007385</td>\n",
              "      <td>-0.048959</td>\n",
              "      <td>0.050119</td>\n",
              "      <td>-0.032247</td>\n",
              "      <td>-0.024445</td>\n",
              "      <td>0.012813</td>\n",
              "      <td>0.058174</td>\n",
              "      <td>0.007595</td>\n",
              "      <td>1.000000</td>\n",
              "      <td>0.039678</td>\n",
              "      <td>0.005469</td>\n",
              "      <td>0.384189</td>\n",
              "      <td>0.035235</td>\n",
              "    </tr>\n",
              "    <tr>\n",
              "      <th>Total_Trans_Amt</th>\n",
              "      <td>-0.168598</td>\n",
              "      <td>-0.046446</td>\n",
              "      <td>0.024890</td>\n",
              "      <td>0.025046</td>\n",
              "      <td>-0.007460</td>\n",
              "      <td>-0.062698</td>\n",
              "      <td>0.019651</td>\n",
              "      <td>0.196003</td>\n",
              "      <td>-0.038591</td>\n",
              "      <td>-0.347229</td>\n",
              "      <td>-0.036982</td>\n",
              "      <td>-0.112774</td>\n",
              "      <td>0.171730</td>\n",
              "      <td>0.064370</td>\n",
              "      <td>0.165923</td>\n",
              "      <td>0.039678</td>\n",
              "      <td>1.000000</td>\n",
              "      <td>0.807192</td>\n",
              "      <td>0.085581</td>\n",
              "      <td>-0.083034</td>\n",
              "    </tr>\n",
              "    <tr>\n",
              "      <th>Total_Trans_Ct</th>\n",
              "      <td>-0.371403</td>\n",
              "      <td>-0.067097</td>\n",
              "      <td>-0.067454</td>\n",
              "      <td>0.049912</td>\n",
              "      <td>-0.004307</td>\n",
              "      <td>-0.116268</td>\n",
              "      <td>-0.054569</td>\n",
              "      <td>0.134275</td>\n",
              "      <td>-0.049819</td>\n",
              "      <td>-0.241891</td>\n",
              "      <td>-0.042787</td>\n",
              "      <td>-0.152213</td>\n",
              "      <td>0.075927</td>\n",
              "      <td>0.056060</td>\n",
              "      <td>0.070885</td>\n",
              "      <td>0.005469</td>\n",
              "      <td>0.807192</td>\n",
              "      <td>1.000000</td>\n",
              "      <td>0.112324</td>\n",
              "      <td>0.002838</td>\n",
              "    </tr>\n",
              "    <tr>\n",
              "      <th>Total_Ct_Chng_Q4_Q1</th>\n",
              "      <td>-0.290054</td>\n",
              "      <td>-0.012143</td>\n",
              "      <td>-0.005800</td>\n",
              "      <td>0.011087</td>\n",
              "      <td>-0.016692</td>\n",
              "      <td>0.008999</td>\n",
              "      <td>-0.012657</td>\n",
              "      <td>-0.007261</td>\n",
              "      <td>-0.014072</td>\n",
              "      <td>0.040831</td>\n",
              "      <td>-0.038989</td>\n",
              "      <td>-0.094997</td>\n",
              "      <td>-0.002020</td>\n",
              "      <td>0.089861</td>\n",
              "      <td>-0.010076</td>\n",
              "      <td>0.384189</td>\n",
              "      <td>0.085581</td>\n",
              "      <td>0.112324</td>\n",
              "      <td>1.000000</td>\n",
              "      <td>0.074143</td>\n",
              "    </tr>\n",
              "    <tr>\n",
              "      <th>Avg_Utilization_Ratio</th>\n",
              "      <td>-0.178410</td>\n",
              "      <td>0.007114</td>\n",
              "      <td>-0.257851</td>\n",
              "      <td>-0.037135</td>\n",
              "      <td>-0.001849</td>\n",
              "      <td>0.046623</td>\n",
              "      <td>-0.246476</td>\n",
              "      <td>-0.198711</td>\n",
              "      <td>-0.007541</td>\n",
              "      <td>0.067663</td>\n",
              "      <td>-0.007503</td>\n",
              "      <td>-0.055471</td>\n",
              "      <td>-0.482965</td>\n",
              "      <td>0.624022</td>\n",
              "      <td>-0.538808</td>\n",
              "      <td>0.035235</td>\n",
              "      <td>-0.083034</td>\n",
              "      <td>0.002838</td>\n",
              "      <td>0.074143</td>\n",
              "      <td>1.000000</td>\n",
              "    </tr>\n",
              "  </tbody>\n",
              "</table>\n",
              "</div>"
            ],
            "text/plain": [
              "                          Attrition_Flag  ...  Avg_Utilization_Ratio\n",
              "Attrition_Flag                  1.000000  ...              -0.178410\n",
              "Customer_Age                    0.018203  ...               0.007114\n",
              "Gender                         -0.037272  ...              -0.257851\n",
              "Dependent_count                 0.018991  ...              -0.037135\n",
              "Education_Level                 0.008796  ...              -0.001849\n",
              "Marital_Status                 -0.024117  ...               0.046623\n",
              "Income_Category                -0.013577  ...              -0.246476\n",
              "Card_Category                   0.002354  ...              -0.198711\n",
              "Months_on_book                  0.013687  ...              -0.007541\n",
              "Total_Relationship_Count       -0.150005  ...               0.067663\n",
              "Months_Inactive_12_mon          0.152449  ...              -0.007503\n",
              "Contacts_Count_12_mon           0.204491  ...              -0.055471\n",
              "Credit_Limit                   -0.023873  ...              -0.482965\n",
              "Total_Revolving_Bal            -0.263053  ...               0.624022\n",
              "Avg_Open_To_Buy                -0.000285  ...              -0.538808\n",
              "Total_Amt_Chng_Q4_Q1           -0.131063  ...               0.035235\n",
              "Total_Trans_Amt                -0.168598  ...              -0.083034\n",
              "Total_Trans_Ct                 -0.371403  ...               0.002838\n",
              "Total_Ct_Chng_Q4_Q1            -0.290054  ...               0.074143\n",
              "Avg_Utilization_Ratio          -0.178410  ...               1.000000\n",
              "\n",
              "[20 rows x 20 columns]"
            ]
          },
          "metadata": {
            "tags": []
          },
          "execution_count": 52
        }
      ]
    },
    {
      "cell_type": "markdown",
      "metadata": {
        "id": "8BdZ7UKOEUuU"
      },
      "source": [
        "Berdasarkan tabel korelasi diatas, akan digunakan beberapa field yang memiliki korelasi tinggi (> 0.15) dengan atribut 'Attrition_Flag'. Field yang akan digunakan adalah 'Total_Relationship_Count' 'Months_Inactive_12_mon', 'Contacts_Count_12_mon', 'Total_Revolving_Bal', 'Total_Trans_Amt', 'Total_Trans_Ct', 'Total_Ct_Chng_Q4_Q1', 'Avg_Utilization_Ratio'"
      ]
    },
    {
      "cell_type": "code",
      "metadata": {
        "id": "_zy-x7Vt8R5B"
      },
      "source": [
        "X = model[['Total_Relationship_Count', 'Months_Inactive_12_mon', 'Contacts_Count_12_mon',\n",
        "        'Total_Revolving_Bal', 'Total_Trans_Amt', 'Total_Trans_Ct', 'Total_Ct_Chng_Q4_Q1',\n",
        "        'Avg_Utilization_Ratio']]\n",
        "y = model['Attrition_Flag']\n",
        "\n",
        "\n",
        "X_train, X_test, y_train, y_test = train_test_split(X, y, test_size=0.3,random_state=3)"
      ],
      "execution_count": null,
      "outputs": []
    },
    {
      "cell_type": "code",
      "metadata": {
        "id": "4SwWXvuC83hu"
      },
      "source": [
        "clf=RandomForestClassifier(n_estimators=100, max_depth=13, random_state=3)\n",
        "\n",
        "clf.fit(X,y)\n",
        "\n",
        "clf.fit(X_train,y_train)\n",
        "\n",
        "y_pred=clf.predict(X_test)"
      ],
      "execution_count": null,
      "outputs": []
    },
    {
      "cell_type": "markdown",
      "metadata": {
        "id": "_VRMrZb749oC"
      },
      "source": [
        "## Evaluasi Model\n",
        "\n",
        "Berdasarkan model yang diatas, kami melakukan evaluasi terkait akurasi dari model tersebut."
      ]
    },
    {
      "cell_type": "code",
      "metadata": {
        "id": "-oDDNwgB7SBj"
      },
      "source": [
        "def find_model_accuracy(threshold,y_test,predictions):\n",
        "    \n",
        "    #Membuat kelas prediksi mengunggakan prediksi dengan nilai ambang\n",
        "    predicted_classes = np.where(predictions>threshold, 1, 0)\n",
        "    acc_score = accuracy_score(y_test, predicted_classes)\n",
        "    print('***********************************************')\n",
        "    print('   Accuracy Score of Model is '+str(acc_score))\n",
        "    print('***********************************************')\n",
        "    \n",
        "    #Membuat Confusion Matrix dari test dan predicted results\n",
        "    confusion_mat = confusion_matrix(y_test,predicted_classes)\n",
        "    #Membuat dataframe Confusion Matrix\n",
        "    confusion_df  = pd.DataFrame(confusion_mat,index=['Actual Neg', 'Actual Pos'],columns=['Predicted Neg','Predicted Pos'])\n",
        "    print('             Model Results                     ')\n",
        "    print('             *************                     ')\n",
        "    #Menghitung akurasi True Positive dan False Positive \n",
        "    TN = confusion_mat[0][0]\n",
        "    TP = confusion_mat[1][1]\n",
        "    FN = confusion_mat[1][0]\n",
        "    FP = confusion_mat[0][1]\n",
        "    total = TN+TP+FN+FP\n",
        "    acc = (TN + TP)/total\n",
        "    missClassification = (FN+FP)/total\n",
        "    nullErrorRate = (TN+FP)/total\n",
        "    print('Accuray Of the Model '+ str(acc))\n",
        "    print('Misclassification Rate '+str(missClassification))\n",
        "    print('Null Error Rate '+ str(nullErrorRate))\n",
        "    print('***********************************************')\n",
        "    print('             Confusion Matrix                  ')\n",
        "    print('             ----------------                  ')\n",
        "    #Membuat sebuah map dengan sns\n",
        "    sns.heatmap(data=confusion_df,cmap='coolwarm',annot=True)\n",
        "    plt.show() \n",
        "    print('***********************************************')\n",
        "    #Menunjukkan Classification Report\n",
        "    print(classification_report(y_test, y_pred))"
      ],
      "execution_count": null,
      "outputs": []
    },
    {
      "cell_type": "code",
      "metadata": {
        "colab": {
          "base_uri": "https://localhost:8080/",
          "height": 653
        },
        "id": "4CGYGjHM9GR0",
        "outputId": "1bad25c2-e09b-4d2d-f298-23f39a3831c8"
      },
      "source": [
        "find_model_accuracy(0.75,y_test,y_pred)"
      ],
      "execution_count": null,
      "outputs": [
        {
          "output_type": "stream",
          "text": [
            "***********************************************\n",
            "   Accuracy Score of Model is 0.9598552155314248\n",
            "***********************************************\n",
            "             Model Results                     \n",
            "             *************                     \n",
            "Accuray Of the Model 0.9598552155314248\n",
            "Misclassification Rate 0.04014478446857519\n",
            "Null Error Rate 0.8450148075024679\n",
            "***********************************************\n",
            "             Confusion Matrix                  \n",
            "             ----------------                  \n"
          ],
          "name": "stdout"
        },
        {
          "output_type": "display_data",
          "data": {
            "image/png": "[encoded data removed]",
            "text/plain": [
              "<Figure size 432x288 with 2 Axes>"
            ]
          },
          "metadata": {
            "tags": [],
            "needs_background": "light"
          }
        },
        {
          "output_type": "stream",
          "text": [
            "***********************************************\n",
            "              precision    recall  f1-score   support\n",
            "\n",
            "           0       0.97      0.98      0.98      2568\n",
            "           1       0.90      0.84      0.87       471\n",
            "\n",
            "    accuracy                           0.96      3039\n",
            "   macro avg       0.93      0.91      0.92      3039\n",
            "weighted avg       0.96      0.96      0.96      3039\n",
            "\n"
          ],
          "name": "stdout"
        }
      ]
    },
    {
      "cell_type": "markdown",
      "metadata": {
        "id": "AmM4twK6Dw5N"
      },
      "source": [
        "Kesimpulan\n",
        "\n",
        "<br>\n",
        "\n",
        "berdasarkan model tersebut dapat dilihat bahwa masih terdapat 77 false - negative yang ingin kita hindari. selain itu, model ini juga memiliki akurasi yang tinggi dengan nilai 0,959 atau 0,96. "
      ]
    }
  ]
}