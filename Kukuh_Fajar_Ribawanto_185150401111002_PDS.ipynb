{
  "nbformat": 4,
  "nbformat_minor": 0,
  "metadata": {
    "colab": {
      "name": "Kukuh Fajar Ribawanto_185150401111002_PDS.ipynb",
      "provenance": [],
      "collapsed_sections": [],
      "include_colab_link": true
    },
    "kernelspec": {
      "name": "python3",
      "display_name": "Python 3"
    }
  },
  "cells": [
    {
      "cell_type": "markdown",
      "metadata": {
        "id": "view-in-github",
        "colab_type": "text"
      },
      "source": [
        "<a href=\"https://colab.research.google.com/github/nanangyudi/2020pds_b/blob/main/Kukuh_Fajar_Ribawanto_185150401111002_PDS.ipynb\" target=\"_parent\"><img src=\"https://colab.research.google.com/assets/colab-badge.svg\" alt=\"Open In Colab\"/></a>"
      ]
    },
    {
      "cell_type": "markdown",
      "metadata": {
        "id": "fy2QeaYzrKxM"
      },
      "source": [
        "# **Nama  : Kukuh Fajar Ribawanto**\n",
        "\n",
        "**Nim   : 185150401111002**\n",
        "\n",
        "**Kelas : PDS SI** \n"
      ]
    },
    {
      "cell_type": "markdown",
      "metadata": {
        "id": "SZA3PLj9O0W7"
      },
      "source": [
        "## **Deskripsi Tujuan Bisnis**\n",
        "\n",
        "Netflix adalah layanan yang memungkinkan pengguna menonton tayangan kesukaan di mana pun, kapan pun, dan hampir lewat media apa pun seperti (smartphone, smartTV, tablet, PC, dan laptop). Netflix menawarkan film digital di dunia maya. Pengguna netflix dapat menentukan sendiri konten yang ingin dinikmati.\n",
        "\n",
        "Layanan Netflix telah mengakomodasi arsip film paling lengkap dengan wilayah pengoperasian terbanyak. Kemudian seiring tingginya penetrasi internet, layanan-layanan serupa bermunculan dengan beberapa modifikasi dan signifikansi pasar. Oleh sebab itu maka netflix pastinya memiliki strategi dalam menambah jumlah film di tiap tahunnya demi tetap bisa bersaing oleh para kompetitor.\n",
        "\n",
        "Oleh karena itu, pada projek ini saya akan mencoba memprediksi penambahan film yang akan terjadi, hal ini dilandasi berdasarkan kepopuleran netflix sebagai siaran digital yang terus berkembang. Oleh sebab itu maka saya tertarik bagaimana cara netflix tetap bisa bersaing dengan para kompetitor "
      ]
    },
    {
      "cell_type": "markdown",
      "metadata": {
        "id": "3csZAX0wq_ev"
      },
      "source": [
        "## **Analisa pendekatan yang akan dilakukan**\n",
        "\n",
        "Dalam hal ini saya akan menganalisa pendekatan berdasarkan penambahan film dalam 5 tahun terakhir, dengan melihat trend penambahan film di setiap tahunnya. "
      ]
    },
    {
      "cell_type": "markdown",
      "metadata": {
        "id": "YWXknD3Mq2Nr"
      },
      "source": [
        "## **Pengumpulan data**\n",
        "\n",
        "Dalam pengumpulan data ini saya telah memperoleh dari salah satu data set yang telah di sediakan pada https://atapdata.ai/dataset/255/netflix\n",
        "karena data pada atapdata.ai dalam bentuk file csv, maka untuk mengimport data pada notebook ini saya menaruh dataset tersebut ke repository github saya  \n",
        "https://raw.githubusercontent.com/KukuhFajarr/pds_dataset/main/netflix.csv"
      ]
    },
    {
      "cell_type": "markdown",
      "metadata": {
        "id": "LaAmoH262Zso"
      },
      "source": [
        "Berikut ini dataset netflix saya import ke notebook, kemudian untuk mengetahui dataset telah berhasil di import maka saya memberikan sebuah pernyataan \"Data sudah masuk\""
      ]
    },
    {
      "cell_type": "code",
      "metadata": {
        "id": "m8aDQx5wEfGB",
        "colab": {
          "base_uri": "https://localhost:8080/"
        },
        "outputId": "184cea06-1870-4dba-d730-823a2a27de86"
      },
      "source": [
        "import pandas as pd\n",
        "pd.set_option('display.max_columns', None)\n",
        "data = pd.read_csv('https://raw.githubusercontent.com/KukuhFajarr/pds_dataset/main/netflix.csv')\n",
        "print(\"Data sudah masuk\") "
      ],
      "execution_count": null,
      "outputs": [
        {
          "output_type": "stream",
          "text": [
            "Data sudah masuk\n"
          ],
          "name": "stdout"
        }
      ]
    },
    {
      "cell_type": "markdown",
      "metadata": {
        "id": "pLAhrIP9wwVJ"
      },
      "source": [
        "## **Pemahaman terhadap data yang telah dikumpulkan**\n",
        "\n",
        "pada tahap pemahaman data ini saya mencoba untuk memahami data dari segi jumlah baris dan kolom, header kolom, melihat contoh isi sample data nya, dan melihat tipedata dari tiap kolom serta melihat baris data yang kosong. hal ini saya lihat guna untuk menyimpulkan data apa yang dapat saya pakai untuk mendukung pemodelan yang akan dibuat. "
      ]
    },
    {
      "cell_type": "markdown",
      "metadata": {
        "id": "17oaiF0SxOOF"
      },
      "source": [
        "Melihat jumlah baris dan kolom"
      ]
    },
    {
      "cell_type": "code",
      "metadata": {
        "colab": {
          "base_uri": "https://localhost:8080/"
        },
        "id": "rGh85yPuzkHj",
        "outputId": "243bea50-941d-4ebb-e1e9-ac52b0a9a0c2"
      },
      "source": [
        "data.shape"
      ],
      "execution_count": null,
      "outputs": [
        {
          "output_type": "execute_result",
          "data": {
            "text/plain": [
              "(6234, 12)"
            ]
          },
          "metadata": {
            "tags": []
          },
          "execution_count": 2
        }
      ]
    },
    {
      "cell_type": "markdown",
      "metadata": {
        "id": "Z5yrQJsrzuGQ"
      },
      "source": [
        "dalam hal ini data memiliki jumlah baris sebanyak 6234, dan kolom sebanyak 12"
      ]
    },
    {
      "cell_type": "markdown",
      "metadata": {
        "id": "6OjQ1SzQz7s7"
      },
      "source": [
        "Melihat header kolom yang ada pada data "
      ]
    },
    {
      "cell_type": "code",
      "metadata": {
        "colab": {
          "base_uri": "https://localhost:8080/"
        },
        "id": "e33J2u7z0CbG",
        "outputId": "d5fdf5c2-b8fc-4518-8cdd-c6cd3d5837ef"
      },
      "source": [
        "data.columns"
      ],
      "execution_count": null,
      "outputs": [
        {
          "output_type": "execute_result",
          "data": {
            "text/plain": [
              "Index(['show_id', 'type', 'title', 'director', 'cast', 'country', 'date_added',\n",
              "       'release_year', 'rating', 'duration', 'listed_in', 'description'],\n",
              "      dtype='object')"
            ]
          },
          "metadata": {
            "tags": []
          },
          "execution_count": 3
        }
      ]
    },
    {
      "cell_type": "markdown",
      "metadata": {
        "id": "RtsgYrwj0HSm"
      },
      "source": [
        "pada output di atas terlihat bahwa kolom yang ada pada data terdiri dari :\n",
        "\n",
        "'show_id', 'type', 'title', 'director', 'cast', 'country', 'date_added', 'release_year', 'rating', 'duration', 'listed_in', 'description'"
      ]
    },
    {
      "cell_type": "markdown",
      "metadata": {
        "id": "re0nTuvc0cYQ"
      },
      "source": [
        "Melihat contoh isi sample data"
      ]
    },
    {
      "cell_type": "code",
      "metadata": {
        "colab": {
          "base_uri": "https://localhost:8080/",
          "height": 289
        },
        "id": "1XYdn33J0ook",
        "outputId": "3e4e5947-0287-4a47-938f-bafa6ef6f5ed"
      },
      "source": [
        "data.head()"
      ],
      "execution_count": null,
      "outputs": [
        {
          "output_type": "execute_result",
          "data": {
            "text/html": [
              "<div>\n",
              "<style scoped>\n",
              "    .dataframe tbody tr th:only-of-type {\n",
              "        vertical-align: middle;\n",
              "    }\n",
              "\n",
              "    .dataframe tbody tr th {\n",
              "        vertical-align: top;\n",
              "    }\n",
              "\n",
              "    .dataframe thead th {\n",
              "        text-align: right;\n",
              "    }\n",
              "</style>\n",
              "<table border=\"1\" class=\"dataframe\">\n",
              "  <thead>\n",
              "    <tr style=\"text-align: right;\">\n",
              "      <th></th>\n",
              "      <th>show_id</th>\n",
              "      <th>type</th>\n",
              "      <th>title</th>\n",
              "      <th>director</th>\n",
              "      <th>cast</th>\n",
              "      <th>country</th>\n",
              "      <th>date_added</th>\n",
              "      <th>release_year</th>\n",
              "      <th>rating</th>\n",
              "      <th>duration</th>\n",
              "      <th>listed_in</th>\n",
              "      <th>description</th>\n",
              "    </tr>\n",
              "  </thead>\n",
              "  <tbody>\n",
              "    <tr>\n",
              "      <th>0</th>\n",
              "      <td>81145628</td>\n",
              "      <td>Movie</td>\n",
              "      <td>Norm of the North: King Sized Adventure</td>\n",
              "      <td>Richard Finn, Tim Maltby</td>\n",
              "      <td>Alan Marriott, Andrew Toth, Brian Dobson, Cole...</td>\n",
              "      <td>United States, India, South Korea, China</td>\n",
              "      <td>September 9, 2019</td>\n",
              "      <td>2019</td>\n",
              "      <td>TV-PG</td>\n",
              "      <td>90 min</td>\n",
              "      <td>Children &amp; Family Movies, Comedies</td>\n",
              "      <td>Before planning an awesome wedding for his gra...</td>\n",
              "    </tr>\n",
              "    <tr>\n",
              "      <th>1</th>\n",
              "      <td>80117401</td>\n",
              "      <td>Movie</td>\n",
              "      <td>Jandino: Whatever it Takes</td>\n",
              "      <td>NaN</td>\n",
              "      <td>Jandino Asporaat</td>\n",
              "      <td>United Kingdom</td>\n",
              "      <td>September 9, 2016</td>\n",
              "      <td>2016</td>\n",
              "      <td>TV-MA</td>\n",
              "      <td>94 min</td>\n",
              "      <td>Stand-Up Comedy</td>\n",
              "      <td>Jandino Asporaat riffs on the challenges of ra...</td>\n",
              "    </tr>\n",
              "    <tr>\n",
              "      <th>2</th>\n",
              "      <td>70234439</td>\n",
              "      <td>TV Show</td>\n",
              "      <td>Transformers Prime</td>\n",
              "      <td>NaN</td>\n",
              "      <td>Peter Cullen, Sumalee Montano, Frank Welker, J...</td>\n",
              "      <td>United States</td>\n",
              "      <td>September 8, 2018</td>\n",
              "      <td>2013</td>\n",
              "      <td>TV-Y7-FV</td>\n",
              "      <td>1 Season</td>\n",
              "      <td>Kids' TV</td>\n",
              "      <td>With the help of three human allies, the Autob...</td>\n",
              "    </tr>\n",
              "    <tr>\n",
              "      <th>3</th>\n",
              "      <td>80058654</td>\n",
              "      <td>TV Show</td>\n",
              "      <td>Transformers: Robots in Disguise</td>\n",
              "      <td>NaN</td>\n",
              "      <td>Will Friedle, Darren Criss, Constance Zimmer, ...</td>\n",
              "      <td>United States</td>\n",
              "      <td>September 8, 2018</td>\n",
              "      <td>2016</td>\n",
              "      <td>TV-Y7</td>\n",
              "      <td>1 Season</td>\n",
              "      <td>Kids' TV</td>\n",
              "      <td>When a prison ship crash unleashes hundreds of...</td>\n",
              "    </tr>\n",
              "    <tr>\n",
              "      <th>4</th>\n",
              "      <td>80125979</td>\n",
              "      <td>Movie</td>\n",
              "      <td>#realityhigh</td>\n",
              "      <td>Fernando Lebrija</td>\n",
              "      <td>Nesta Cooper, Kate Walsh, John Michael Higgins...</td>\n",
              "      <td>United States</td>\n",
              "      <td>September 8, 2017</td>\n",
              "      <td>2017</td>\n",
              "      <td>TV-14</td>\n",
              "      <td>99 min</td>\n",
              "      <td>Comedies</td>\n",
              "      <td>When nerdy high schooler Dani finally attracts...</td>\n",
              "    </tr>\n",
              "  </tbody>\n",
              "</table>\n",
              "</div>"
            ],
            "text/plain": [
              "    show_id     type                                    title  \\\n",
              "0  81145628    Movie  Norm of the North: King Sized Adventure   \n",
              "1  80117401    Movie               Jandino: Whatever it Takes   \n",
              "2  70234439  TV Show                       Transformers Prime   \n",
              "3  80058654  TV Show         Transformers: Robots in Disguise   \n",
              "4  80125979    Movie                             #realityhigh   \n",
              "\n",
              "                   director  \\\n",
              "0  Richard Finn, Tim Maltby   \n",
              "1                       NaN   \n",
              "2                       NaN   \n",
              "3                       NaN   \n",
              "4          Fernando Lebrija   \n",
              "\n",
              "                                                cast  \\\n",
              "0  Alan Marriott, Andrew Toth, Brian Dobson, Cole...   \n",
              "1                                   Jandino Asporaat   \n",
              "2  Peter Cullen, Sumalee Montano, Frank Welker, J...   \n",
              "3  Will Friedle, Darren Criss, Constance Zimmer, ...   \n",
              "4  Nesta Cooper, Kate Walsh, John Michael Higgins...   \n",
              "\n",
              "                                    country         date_added  release_year  \\\n",
              "0  United States, India, South Korea, China  September 9, 2019          2019   \n",
              "1                            United Kingdom  September 9, 2016          2016   \n",
              "2                             United States  September 8, 2018          2013   \n",
              "3                             United States  September 8, 2018          2016   \n",
              "4                             United States  September 8, 2017          2017   \n",
              "\n",
              "     rating  duration                           listed_in  \\\n",
              "0     TV-PG    90 min  Children & Family Movies, Comedies   \n",
              "1     TV-MA    94 min                     Stand-Up Comedy   \n",
              "2  TV-Y7-FV  1 Season                            Kids' TV   \n",
              "3     TV-Y7  1 Season                            Kids' TV   \n",
              "4     TV-14    99 min                            Comedies   \n",
              "\n",
              "                                         description  \n",
              "0  Before planning an awesome wedding for his gra...  \n",
              "1  Jandino Asporaat riffs on the challenges of ra...  \n",
              "2  With the help of three human allies, the Autob...  \n",
              "3  When a prison ship crash unleashes hundreds of...  \n",
              "4  When nerdy high schooler Dani finally attracts...  "
            ]
          },
          "metadata": {
            "tags": []
          },
          "execution_count": 4
        }
      ]
    },
    {
      "cell_type": "markdown",
      "metadata": {
        "id": "w4mipPGG0vXg"
      },
      "source": [
        "Melihat tipe data dari data tersebut"
      ]
    },
    {
      "cell_type": "code",
      "metadata": {
        "colab": {
          "base_uri": "https://localhost:8080/"
        },
        "id": "6NpmqQDy05ga",
        "outputId": "26e9375d-ad2e-4dc5-e632-4978210a9663"
      },
      "source": [
        "data.dtypes"
      ],
      "execution_count": null,
      "outputs": [
        {
          "output_type": "execute_result",
          "data": {
            "text/plain": [
              "show_id          int64\n",
              "type            object\n",
              "title           object\n",
              "director        object\n",
              "cast            object\n",
              "country         object\n",
              "date_added      object\n",
              "release_year     int64\n",
              "rating          object\n",
              "duration        object\n",
              "listed_in       object\n",
              "description     object\n",
              "dtype: object"
            ]
          },
          "metadata": {
            "tags": []
          },
          "execution_count": 5
        }
      ]
    },
    {
      "cell_type": "markdown",
      "metadata": {
        "id": "NgQLlR4h09b-"
      },
      "source": [
        "Karena hal di atas cara mengenali datanya sendiri-sendiri maka ada cara lebih baik dan komplit untuk melihat informasi dataset dengan memanfaatkan fungsi method info()"
      ]
    },
    {
      "cell_type": "code",
      "metadata": {
        "colab": {
          "base_uri": "https://localhost:8080/"
        },
        "id": "V-fDleMXC6ZF",
        "outputId": "61d73375-10dd-4aad-eb86-b7141fb9dc33"
      },
      "source": [
        "data.info()"
      ],
      "execution_count": null,
      "outputs": [
        {
          "output_type": "stream",
          "text": [
            "<class 'pandas.core.frame.DataFrame'>\n",
            "RangeIndex: 6234 entries, 0 to 6233\n",
            "Data columns (total 12 columns):\n",
            " #   Column        Non-Null Count  Dtype \n",
            "---  ------        --------------  ----- \n",
            " 0   show_id       6234 non-null   int64 \n",
            " 1   type          6234 non-null   object\n",
            " 2   title         6234 non-null   object\n",
            " 3   director      4265 non-null   object\n",
            " 4   cast          5664 non-null   object\n",
            " 5   country       5758 non-null   object\n",
            " 6   date_added    6223 non-null   object\n",
            " 7   release_year  6234 non-null   int64 \n",
            " 8   rating        6224 non-null   object\n",
            " 9   duration      6234 non-null   object\n",
            " 10  listed_in     6234 non-null   object\n",
            " 11  description   6234 non-null   object\n",
            "dtypes: int64(2), object(10)\n",
            "memory usage: 584.6+ KB\n"
          ],
          "name": "stdout"
        }
      ]
    },
    {
      "cell_type": "markdown",
      "metadata": {
        "id": "hYOuJUBB2TE_"
      },
      "source": [
        "Melihat deskripsi data"
      ]
    },
    {
      "cell_type": "code",
      "metadata": {
        "colab": {
          "base_uri": "https://localhost:8080/",
          "height": 294
        },
        "id": "QfMeLS8g2YrD",
        "outputId": "276a5bc6-36b9-4f31-a4a9-893860a53d46"
      },
      "source": [
        "data.describe()"
      ],
      "execution_count": null,
      "outputs": [
        {
          "output_type": "execute_result",
          "data": {
            "text/html": [
              "<div>\n",
              "<style scoped>\n",
              "    .dataframe tbody tr th:only-of-type {\n",
              "        vertical-align: middle;\n",
              "    }\n",
              "\n",
              "    .dataframe tbody tr th {\n",
              "        vertical-align: top;\n",
              "    }\n",
              "\n",
              "    .dataframe thead th {\n",
              "        text-align: right;\n",
              "    }\n",
              "</style>\n",
              "<table border=\"1\" class=\"dataframe\">\n",
              "  <thead>\n",
              "    <tr style=\"text-align: right;\">\n",
              "      <th></th>\n",
              "      <th>show_id</th>\n",
              "      <th>release_year</th>\n",
              "    </tr>\n",
              "  </thead>\n",
              "  <tbody>\n",
              "    <tr>\n",
              "      <th>count</th>\n",
              "      <td>6.234000e+03</td>\n",
              "      <td>6234.00000</td>\n",
              "    </tr>\n",
              "    <tr>\n",
              "      <th>mean</th>\n",
              "      <td>7.670368e+07</td>\n",
              "      <td>2013.35932</td>\n",
              "    </tr>\n",
              "    <tr>\n",
              "      <th>std</th>\n",
              "      <td>1.094296e+07</td>\n",
              "      <td>8.81162</td>\n",
              "    </tr>\n",
              "    <tr>\n",
              "      <th>min</th>\n",
              "      <td>2.477470e+05</td>\n",
              "      <td>1925.00000</td>\n",
              "    </tr>\n",
              "    <tr>\n",
              "      <th>25%</th>\n",
              "      <td>8.003580e+07</td>\n",
              "      <td>2013.00000</td>\n",
              "    </tr>\n",
              "    <tr>\n",
              "      <th>50%</th>\n",
              "      <td>8.016337e+07</td>\n",
              "      <td>2016.00000</td>\n",
              "    </tr>\n",
              "    <tr>\n",
              "      <th>75%</th>\n",
              "      <td>8.024489e+07</td>\n",
              "      <td>2018.00000</td>\n",
              "    </tr>\n",
              "    <tr>\n",
              "      <th>max</th>\n",
              "      <td>8.123573e+07</td>\n",
              "      <td>2020.00000</td>\n",
              "    </tr>\n",
              "  </tbody>\n",
              "</table>\n",
              "</div>"
            ],
            "text/plain": [
              "            show_id  release_year\n",
              "count  6.234000e+03    6234.00000\n",
              "mean   7.670368e+07    2013.35932\n",
              "std    1.094296e+07       8.81162\n",
              "min    2.477470e+05    1925.00000\n",
              "25%    8.003580e+07    2013.00000\n",
              "50%    8.016337e+07    2016.00000\n",
              "75%    8.024489e+07    2018.00000\n",
              "max    8.123573e+07    2020.00000"
            ]
          },
          "metadata": {
            "tags": []
          },
          "execution_count": 7
        }
      ]
    },
    {
      "cell_type": "markdown",
      "metadata": {
        "id": "gk-eEZMI2vdL"
      },
      "source": [
        "pada output di atas terlihat bahwa rata-rata tahun release film yaitu pada tahun 2013 keatas, dan tahun release film paling awal tahun 1925, dan paling baru pada tahun 2020, namun method ini terkadang juga sering mengecoh (kurang akurat), namun hal ini dapat di jadikan gambaran dasar terhadap pemahaman data set yang ada  "
      ]
    },
    {
      "cell_type": "markdown",
      "metadata": {
        "id": "52NA8dDg4lrW"
      },
      "source": [
        "Melihat ada tidaknya data yang kosong"
      ]
    },
    {
      "cell_type": "code",
      "metadata": {
        "colab": {
          "base_uri": "https://localhost:8080/"
        },
        "id": "CQxzS5a0rtz_",
        "outputId": "ab8655ee-ed9a-41c2-ff24-0463b11c1acd"
      },
      "source": [
        "data.isna().values.any()\n",
        "\n",
        "# data[data.duplicated(keep=False)]\n",
        "# data.duplicated().value_counts()\n",
        "# data.drop_duplicates(inplace=True)"
      ],
      "execution_count": null,
      "outputs": [
        {
          "output_type": "execute_result",
          "data": {
            "text/plain": [
              "True"
            ]
          },
          "metadata": {
            "tags": []
          },
          "execution_count": 8
        }
      ]
    },
    {
      "cell_type": "markdown",
      "metadata": {
        "id": "PVCkzgrl5Qow"
      },
      "source": [
        "karena terdapat data yang kosong maka saya mencoba untuk melihat di kolom mana saja data yang kosong berada agar hal tersebut tidak mengganggu hasil pemodelan yang ingin dibuat"
      ]
    },
    {
      "cell_type": "code",
      "metadata": {
        "colab": {
          "base_uri": "https://localhost:8080/"
        },
        "id": "RfkhQLlJ4Q6c",
        "outputId": "a9c05b5c-83cf-4606-8ea5-7c816d180b15"
      },
      "source": [
        "data.isna().sum()"
      ],
      "execution_count": null,
      "outputs": [
        {
          "output_type": "execute_result",
          "data": {
            "text/plain": [
              "show_id            0\n",
              "type               0\n",
              "title              0\n",
              "director        1969\n",
              "cast             570\n",
              "country          476\n",
              "date_added        11\n",
              "release_year       0\n",
              "rating            10\n",
              "duration           0\n",
              "listed_in          0\n",
              "description        0\n",
              "dtype: int64"
            ]
          },
          "metadata": {
            "tags": []
          },
          "execution_count": 10
        }
      ]
    },
    {
      "cell_type": "markdown",
      "metadata": {
        "id": "pgxZ6Lt07OF7"
      },
      "source": [
        "pada output di atas terlihat bahwa terdapat kolom yang memiliki data yang kosong, dan beberapa kolom tersebut akan saya gunakan untuk pemodelan data seperti kolom date_added. oleh karena itu maka data yang kosong pada kolom tersebut akan saya hapus karena dapat mengganggu hasil pemodelan."
      ]
    },
    {
      "cell_type": "markdown",
      "metadata": {
        "id": "qYHjqE3M9A5m"
      },
      "source": [
        "## **Eksplorasi data**\n",
        "pada tahap ini saya akan eksplorasi data seperti menghapus data yang bernilai kosong, melihat jumlah film berdasarkan type."
      ]
    },
    {
      "cell_type": "markdown",
      "metadata": {
        "id": "0hTLekur9mCr"
      },
      "source": [
        "menghapus data kosong pada kolom date_added"
      ]
    },
    {
      "cell_type": "code",
      "metadata": {
        "colab": {
          "base_uri": "https://localhost:8080/"
        },
        "id": "aH1Gq8r59lB5",
        "outputId": "e9832c5a-3889-40df-9f72-08b6894a8163"
      },
      "source": [
        "data.dropna(axis=0, subset=[\"date_added\"], inplace=True)\n",
        "data.isna().sum()\n"
      ],
      "execution_count": null,
      "outputs": [
        {
          "output_type": "execute_result",
          "data": {
            "text/plain": [
              "show_id            0\n",
              "type               0\n",
              "title              0\n",
              "director        1958\n",
              "cast             569\n",
              "country          474\n",
              "date_added         0\n",
              "release_year       0\n",
              "rating             9\n",
              "duration           0\n",
              "listed_in          0\n",
              "description        0\n",
              "dtype: int64"
            ]
          },
          "metadata": {
            "tags": []
          },
          "execution_count": 76
        }
      ]
    },
    {
      "cell_type": "markdown",
      "metadata": {
        "id": "Q-gbttQgKPm_"
      },
      "source": [
        "pada hasil output terlihat bahwa data kosong/missing value telah berhasil di hapus pada kolom date_added, maka setelah di hapus maka kita lihat lagi jumlah baris yang tersisa."
      ]
    },
    {
      "cell_type": "code",
      "metadata": {
        "colab": {
          "base_uri": "https://localhost:8080/"
        },
        "id": "cTWSyBNcEAM0",
        "outputId": "e773af82-bfcf-4e33-c70a-e165cbd622d2"
      },
      "source": [
        "data.shape"
      ],
      "execution_count": null,
      "outputs": [
        {
          "output_type": "execute_result",
          "data": {
            "text/plain": [
              "(6223, 12)"
            ]
          },
          "metadata": {
            "tags": []
          },
          "execution_count": 77
        }
      ]
    },
    {
      "cell_type": "markdown",
      "metadata": {
        "id": "gp-ivLBsL0QQ"
      },
      "source": [
        "terlihat bahwa baris data pada dataset menjadi berjumlah 6223 baris"
      ]
    },
    {
      "cell_type": "markdown",
      "metadata": {
        "id": "UT-1aXQHL8qq"
      },
      "source": [
        "kemudian kita mencoba melihat total film berdasarkan type yaitu Movie dan TV Show, namun untuk melihat itu saya memasukkan total data tersebut ke vaiabel baru yaitu total_movies dan total_tv_show"
      ]
    },
    {
      "cell_type": "code",
      "metadata": {
        "id": "1KHfnDKL2gC2",
        "colab": {
          "base_uri": "https://localhost:8080/"
        },
        "outputId": "a264205e-1802-4fbd-ca47-cfa23ed8899b"
      },
      "source": [
        "total_movies = len(data[:][data[\"type\"] == \"Movie\"])\n",
        "total_tv_show = len(data[:][data[\"type\"] == \"TV Show\"])\n",
        "print(\"data berhasil dimasukkan ke variabel total_movies dan total_tv_show\")"
      ],
      "execution_count": null,
      "outputs": [
        {
          "output_type": "stream",
          "text": [
            "data berhasil dimasukkan ke variabel total_movies dan total_tv_show\n"
          ],
          "name": "stdout"
        }
      ]
    },
    {
      "cell_type": "markdown",
      "metadata": {
        "id": "xA6kgLhIMz6u"
      },
      "source": [
        "Setelah itu kita coba melihat berapa total jumlah dari movie dan tv show"
      ]
    },
    {
      "cell_type": "code",
      "metadata": {
        "colab": {
          "base_uri": "https://localhost:8080/"
        },
        "id": "44rRvjFZ4NTt",
        "outputId": "b08f8c75-b32f-4c7f-bc0d-e707a95c4618"
      },
      "source": [
        "total_movies , total_tv_show "
      ],
      "execution_count": null,
      "outputs": [
        {
          "output_type": "execute_result",
          "data": {
            "text/plain": [
              "(4264, 1959)"
            ]
          },
          "metadata": {
            "tags": []
          },
          "execution_count": 81
        }
      ]
    },
    {
      "cell_type": "markdown",
      "metadata": {
        "id": "tYFE1tcWM_yd"
      },
      "source": [
        "ternyata terdapat 4264 total film bertype movie, dan 1959 bertype tv show"
      ]
    },
    {
      "cell_type": "markdown",
      "metadata": {
        "id": "mvMBsMZ3Pgkl"
      },
      "source": [
        "Kemudian melihat jumlah data per tahun nya dari 5 tahun ter atas"
      ]
    },
    {
      "cell_type": "code",
      "metadata": {
        "colab": {
          "base_uri": "https://localhost:8080/"
        },
        "id": "jM2nfzOhOJwc",
        "outputId": "b95f54ad-0fbd-48c9-a21f-a6544815a2fc"
      },
      "source": [
        "data.value_counts(\"release_year\").head(5)"
      ],
      "execution_count": null,
      "outputs": [
        {
          "output_type": "execute_result",
          "data": {
            "text/plain": [
              "release_year\n",
              "2018    1062\n",
              "2017     959\n",
              "2019     843\n",
              "2016     828\n",
              "2015     515\n",
              "dtype: int64"
            ]
          },
          "metadata": {
            "tags": []
          },
          "execution_count": 83
        }
      ]
    },
    {
      "cell_type": "markdown",
      "metadata": {
        "id": "jPWHaWlvPw_R"
      },
      "source": [
        "dapat dilihat bahwa nilai tertinggi penambahan terdapat pada tahun 2018 yaitu sejumlah 1062 film, lalu kita coba untuk membuat berdasarkan grafik agar lebih terlihat trend naik turun jumlah film pada setiap tahunnya"
      ]
    },
    {
      "cell_type": "code",
      "metadata": {
        "colab": {
          "base_uri": "https://localhost:8080/",
          "height": 926
        },
        "id": "5qQ6vJQ3QSjv",
        "outputId": "fdc4812f-3ca8-4e1c-b3cf-beace35a5c3f"
      },
      "source": [
        "import matplotlib.pyplot as plt;\r\n",
        "import seaborn as sns;\r\n",
        "plt.figure(figsize = (30,15));\r\n",
        "t = {'fontsize': 15}\r\n",
        "sns.countplot(x='release_year', data=data);\r\n",
        "plt.title(\"jumlah penambahan film berdasarkan tahun\", fontsize = 25)\r\n",
        "plt.xlabel(\"Tahun\", fontsize = 15)\r\n",
        "plt.ylabel(\"Total\", fontsize = 15)\r\n",
        "\r\n",
        "plt.show()"
      ],
      "execution_count": null,
      "outputs": [
        {
          "output_type": "display_data",
          "data": {
            "image/png": "[encoded data removed]",
            "text/plain": [
              "<Figure size 2160x1080 with 1 Axes>"
            ]
          },
          "metadata": {
            "tags": [],
            "needs_background": "light"
          }
        }
      ]
    },
    {
      "cell_type": "markdown",
      "metadata": {
        "id": "_3zcEecbXIqa"
      },
      "source": [
        "dalam grafix diatas dapat terlihat bahwa hampir tiap tahun penambahan jumlah film hampir selalu mengalami kenaikan, maka dapat disimpulan terjadi kenaikan drastis pada tahun 2015 - 2019, oleh sebab itu maka saya mencoba memprediksi penjumlahan film yang akan terjadi pada tahun 2020 berdasarkan grafik trend kenaikan dari 2015-2019 atau 5 tahun terakhir"
      ]
    },
    {
      "cell_type": "markdown",
      "metadata": {
        "id": "0A34CvXmnDk1"
      },
      "source": [
        "Kemudian mencoba melihat type film yang ada"
      ]
    },
    {
      "cell_type": "code",
      "metadata": {
        "colab": {
          "base_uri": "https://localhost:8080/"
        },
        "id": "deHRogWkkjYL",
        "outputId": "a57500ef-c92f-471f-9532-4a034652ff75"
      },
      "source": [
        "data.value_counts(\"type\").head(5)"
      ],
      "execution_count": null,
      "outputs": [
        {
          "output_type": "execute_result",
          "data": {
            "text/plain": [
              "type\n",
              "Movie      4264\n",
              "TV Show    1959\n",
              "dtype: int64"
            ]
          },
          "metadata": {
            "tags": []
          },
          "execution_count": 149
        }
      ]
    },
    {
      "cell_type": "markdown",
      "metadata": {
        "id": "XPkUzo1VnJLs"
      },
      "source": [
        "dari output diatas terlihat bahwa terdapat 2 type film yaitu movie dan tv show"
      ]
    },
    {
      "cell_type": "markdown",
      "metadata": {
        "id": "VPnJRAotE9v6"
      },
      "source": [
        "## **Pemodelan data**"
      ]
    },
    {
      "cell_type": "markdown",
      "metadata": {
        "id": "P8YEUANm_Ka7"
      },
      "source": [
        "Pada pemodelan data ini saya akan menggunakan linear regression, dan menggunakan beberapa kolom pada dataset yaitu kolom release_year, date_added. release_year saya gunakan pada 5 tahun terakhir yaitu pada tahun 2015 - 2019, kemudian untuk date_added saya gunakan untuk melihat berapa pertambahan jumlah film per tahunnya. Lalu film ini akan saya bagi berdasarkan type yaitu film bertype movie dan film bertype tv show. yang pertama pastinya membutuhkan module sklearn.linear_model untuk memanggil algoritma Linear Regression."
      ]
    },
    {
      "cell_type": "code",
      "metadata": {
        "id": "AMpkJww1E8iT"
      },
      "source": [
        "from sklearn.linear_model import LinearRegression"
      ],
      "execution_count": null,
      "outputs": []
    },
    {
      "cell_type": "markdown",
      "metadata": {
        "id": "GEcOJ-QXCIRL"
      },
      "source": [
        "kemudian saya memanfaatkan object data dan year sebagai parameter dari pendefinisian method get_dataframe_for_year, kemudian melakukan perhitungan berdasarkan data.date_added untuk mengetahui jumlah film yang masuk pertahunnya"
      ]
    },
    {
      "cell_type": "code",
      "metadata": {
        "id": "yzH3Lh544v82"
      },
      "source": [
        "def get_dataframe_for_year(data,year):\n",
        "    \n",
        "    for index,value in enumerate(data.date_added):\n",
        "        if year in str(value):  \n",
        "            data.date_added[index] = int(year)\n",
        "            \n",
        "    data = data[data.date_added == int(year)]\n",
        "       \n",
        "    return data"
      ],
      "execution_count": null,
      "outputs": []
    },
    {
      "cell_type": "markdown",
      "metadata": {
        "id": "L0cGUwMvCR9q"
      },
      "source": [
        "kemudian hasil jumlah data pertahun yang di dapat dari perulangan for, akan ditampung dalam variabel lainnya berasarkan 5 tahun terakhir, yaitu pada tahun 2015-2019, dengan memanfaatkan method get_dataframe_for_year"
      ]
    },
    {
      "cell_type": "code",
      "metadata": {
        "id": "2ZQQaI9C5Alj",
        "colab": {
          "base_uri": "https://localhost:8080/"
        },
        "outputId": "896b8757-5bcf-41bc-cbeb-3daa0bd85e90"
      },
      "source": [
        "data_2015 = get_dataframe_for_year(data,'2015')\n",
        "data_2016 = get_dataframe_for_year(data,'2016')\n",
        "data_2017 = get_dataframe_for_year(data,'2017')\n",
        "data_2018 = get_dataframe_for_year(data,'2018')\n",
        "data_2019 = get_dataframe_for_year(data,'2019')"
      ],
      "execution_count": null,
      "outputs": [
        {
          "output_type": "stream",
          "text": [
            "/usr/local/lib/python3.6/dist-packages/ipykernel_launcher.py:5: SettingWithCopyWarning: \n",
            "A value is trying to be set on a copy of a slice from a DataFrame\n",
            "\n",
            "See the caveats in the documentation: https://pandas.pydata.org/pandas-docs/stable/user_guide/indexing.html#returning-a-view-versus-a-copy\n",
            "  \"\"\"\n"
          ],
          "name": "stderr"
        }
      ]
    },
    {
      "cell_type": "markdown",
      "metadata": {
        "id": "IHABos8SAo31"
      },
      "source": [
        "Kemudian melakukan pendefinisian method total_data dengan parameter data_year, kemudian memisahkan total jumlah film berdasarkan type film yaitu movie dan tv show dengan dimasukkan ke variabel baru, serta membuat variabel untuk menampung nilai total film berdasarkan movie dan tv show."
      ]
    },
    {
      "cell_type": "code",
      "metadata": {
        "id": "oBSMO_ZP5SQv"
      },
      "source": [
        "def total_data(data_year):\n",
        "    total_movies = len(data_year[:][data_year[\"type\"] == \"Movie\"])\n",
        "    total_tv_shows = len(data_year[:][data_year[\"type\"] == \"TV Show\"])\n",
        "    total_added_movies_shows = total_movies + total_tv_shows\n",
        "    \n",
        "    return total_movies, total_tv_shows, total_added_movies_shows"
      ],
      "execution_count": null,
      "outputs": []
    },
    {
      "cell_type": "markdown",
      "metadata": {
        "id": "dKq2BjqmDB0F"
      },
      "source": [
        "kemudian memasukkan total data perbagian yang dipecah tadi ke dalam variabel total data per tahunnya"
      ]
    },
    {
      "cell_type": "code",
      "metadata": {
        "id": "fY89_cH15ejU"
      },
      "source": [
        "total_movies_2015, total_tv_shows_2015, total_added_movies_shows_2015 = total_data(data_2015)\n",
        "total_movies_2016, total_tv_shows_2016, total_added_movies_shows_2016 = total_data(data_2016)\n",
        "total_movies_2017, total_tv_shows_2017, total_added_movies_shows_2017 = total_data(data_2017)\n",
        "total_movies_2018, total_tv_shows_2018, total_added_movies_shows_2018 = total_data(data_2018)\n",
        "total_movies_2019, total_tv_shows_2019, total_added_movies_shows_2019 = total_data(data_2019)\n",
        "years = [year for year in range(2015,2020)]"
      ],
      "execution_count": null,
      "outputs": []
    },
    {
      "cell_type": "markdown",
      "metadata": {
        "id": "xlu5gP2nEcLm"
      },
      "source": [
        "kemudian memasukkan data 5 tahun terakhir yaitu tahun 2015-2019 pada variabel filtered_data dalam bentuk object dengan berdasar year, added movies, added tv shows dan total, lalu data tersebut di coba untuk ditampilkan. pembuatan variabel ini nantinya akan digunakan dalam penentuan prediksi"
      ]
    },
    {
      "cell_type": "code",
      "metadata": {
        "colab": {
          "base_uri": "https://localhost:8080/",
          "height": 202
        },
        "id": "-g8gfpUG6Ezu",
        "outputId": "64b20fae-1a86-47de-ac0b-409591828474"
      },
      "source": [
        "filtered_data = {\n",
        "    \"tahun\" : [year for year in range(2015,2020)], \n",
        "    \"penambahan movies\" : [total_movies_2015, total_movies_2016, total_movies_2017, total_movies_2018, total_movies_2019], \n",
        "    \"penambahan TV shows\" : [total_tv_shows_2015, total_tv_shows_2016, total_tv_shows_2017, total_tv_shows_2018, total_tv_shows_2019], \n",
        "    \"total\" : [total_added_movies_shows_2015, total_added_movies_shows_2016, total_added_movies_shows_2017,\n",
        "              total_added_movies_shows_2018, total_added_movies_shows_2019]\n",
        "}\n",
        "filtered_dataframe = pd.DataFrame(filtered_data)\n",
        "filtered_dataframe"
      ],
      "execution_count": null,
      "outputs": [
        {
          "output_type": "execute_result",
          "data": {
            "text/html": [
              "<div>\n",
              "<style scoped>\n",
              "    .dataframe tbody tr th:only-of-type {\n",
              "        vertical-align: middle;\n",
              "    }\n",
              "\n",
              "    .dataframe tbody tr th {\n",
              "        vertical-align: top;\n",
              "    }\n",
              "\n",
              "    .dataframe thead th {\n",
              "        text-align: right;\n",
              "    }\n",
              "</style>\n",
              "<table border=\"1\" class=\"dataframe\">\n",
              "  <thead>\n",
              "    <tr style=\"text-align: right;\">\n",
              "      <th></th>\n",
              "      <th>tahun</th>\n",
              "      <th>penambahan movies</th>\n",
              "      <th>penambahan TV shows</th>\n",
              "      <th>total</th>\n",
              "    </tr>\n",
              "  </thead>\n",
              "  <tbody>\n",
              "    <tr>\n",
              "      <th>0</th>\n",
              "      <td>2015</td>\n",
              "      <td>58</td>\n",
              "      <td>32</td>\n",
              "      <td>90</td>\n",
              "    </tr>\n",
              "    <tr>\n",
              "      <th>1</th>\n",
              "      <td>2016</td>\n",
              "      <td>264</td>\n",
              "      <td>192</td>\n",
              "      <td>456</td>\n",
              "    </tr>\n",
              "    <tr>\n",
              "      <th>2</th>\n",
              "      <td>2017</td>\n",
              "      <td>913</td>\n",
              "      <td>387</td>\n",
              "      <td>1300</td>\n",
              "    </tr>\n",
              "    <tr>\n",
              "      <th>3</th>\n",
              "      <td>2018</td>\n",
              "      <td>1290</td>\n",
              "      <td>492</td>\n",
              "      <td>1782</td>\n",
              "    </tr>\n",
              "    <tr>\n",
              "      <th>4</th>\n",
              "      <td>2019</td>\n",
              "      <td>1546</td>\n",
              "      <td>803</td>\n",
              "      <td>2349</td>\n",
              "    </tr>\n",
              "  </tbody>\n",
              "</table>\n",
              "</div>"
            ],
            "text/plain": [
              "   tahun  penambahan movies  penambahan TV shows  total\n",
              "0   2015                 58                   32     90\n",
              "1   2016                264                  192    456\n",
              "2   2017                913                  387   1300\n",
              "3   2018               1290                  492   1782\n",
              "4   2019               1546                  803   2349"
            ]
          },
          "metadata": {
            "tags": []
          },
          "execution_count": 170
        }
      ]
    },
    {
      "cell_type": "markdown",
      "metadata": {
        "id": "QI9lTmgEfDgk"
      },
      "source": [
        "dan bisa dilihat hasilnya di atas bahwa dari tahun ke tahun mengalami kenaikan"
      ]
    },
    {
      "cell_type": "markdown",
      "metadata": {
        "id": "tn2136MDE0b6"
      },
      "source": [
        "kemudian mengimport numpy untuk dimanfaatkan dalam pembuatan array"
      ]
    },
    {
      "cell_type": "code",
      "metadata": {
        "id": "Tw5AqYFt6o8H"
      },
      "source": [
        "import numpy as np"
      ],
      "execution_count": null,
      "outputs": []
    },
    {
      "cell_type": "markdown",
      "metadata": {
        "id": "g6azOh5_FFYv"
      },
      "source": [
        "kemudian memasukkan data 5 tahun terakhir yaitu 2015-2019 ke array"
      ]
    },
    {
      "cell_type": "code",
      "metadata": {
        "id": "gD_FoQr16c5j"
      },
      "source": [
        "X = np.array([\n",
        "    [2015],\n",
        "    [2016],\n",
        "    [2017],\n",
        "    [2018],\n",
        "    [2019],\n",
        "])"
      ],
      "execution_count": null,
      "outputs": []
    },
    {
      "cell_type": "markdown",
      "metadata": {
        "id": "Md1LZx7-FIri"
      },
      "source": [
        "mengimport matplotlib untuk dimanfaatkan dalam pembuatan grafik"
      ]
    },
    {
      "cell_type": "code",
      "metadata": {
        "id": "dptqcOG_7EQS"
      },
      "source": [
        "from matplotlib import pyplot as plt"
      ],
      "execution_count": null,
      "outputs": []
    },
    {
      "cell_type": "markdown",
      "metadata": {
        "id": "zfspXbWbFVQV"
      },
      "source": [
        "kemudian membuat grafik movie berdasarkan added_movies dan years untuk melihat grafik penambahan dari tahun 2015 - tahun 2019"
      ]
    },
    {
      "cell_type": "code",
      "metadata": {
        "colab": {
          "base_uri": "https://localhost:8080/",
          "height": 312
        },
        "id": "UFekppYG611D",
        "outputId": "6af0bfff-9f45-4bc6-87fa-92915b1407dc"
      },
      "source": [
        "y = np.array(filtered_dataframe[\"penambahan movies\"]).flatten()\n",
        "y.reshape(1,-1)\n",
        "plt.plot(X.flatten(),y)\n",
        "plt.xlabel(\"tahun\")\n",
        "plt.ylabel(\"penambahan movies\")\n",
        "plt.title(\"grafik film bertipe movies pada Netflix\")"
      ],
      "execution_count": null,
      "outputs": [
        {
          "output_type": "execute_result",
          "data": {
            "text/plain": [
              "Text(0.5, 1.0, 'grafik film bertipe movies pada Netflix')"
            ]
          },
          "metadata": {
            "tags": []
          },
          "execution_count": 175
        },
        {
          "output_type": "display_data",
          "data": {
            "image/png": "[encoded data removed]",
            "text/plain": [
              "<Figure size 432x288 with 1 Axes>"
            ]
          },
          "metadata": {
            "tags": [],
            "needs_background": "light"
          }
        }
      ]
    },
    {
      "cell_type": "markdown",
      "metadata": {
        "id": "GARAhP65Fd4W"
      },
      "source": [
        "dapat dilihat bahwa grafik diatas dari tahun ketahun mengalami kenaikan dalam penambahan film movie"
      ]
    },
    {
      "cell_type": "markdown",
      "metadata": {
        "id": "FxA61UIkFtMH"
      },
      "source": [
        "lalu melakukan pembuatan grafik untuk film bertype tv shows"
      ]
    },
    {
      "cell_type": "code",
      "metadata": {
        "colab": {
          "base_uri": "https://localhost:8080/",
          "height": 312
        },
        "id": "hD_7p2U17SAO",
        "outputId": "10d30e45-c9b2-40e1-ef6f-8780b579f599"
      },
      "source": [
        "y = np.array(filtered_dataframe[\"penambahan TV shows\"]).flatten()\n",
        "plt.plot(X.flatten(),y)\n",
        "plt.xlabel(\"tahun\")\n",
        "plt.ylabel(\"penambahan TV Shows\")\n",
        "plt.title(\"grafik film bertipe TV Shows pada Netflix\")"
      ],
      "execution_count": null,
      "outputs": [
        {
          "output_type": "execute_result",
          "data": {
            "text/plain": [
              "Text(0.5, 1.0, 'grafik film bertipe TV Shows pada Netflix')"
            ]
          },
          "metadata": {
            "tags": []
          },
          "execution_count": 176
        },
        {
          "output_type": "display_data",
          "data": {
            "image/png": "[encoded data removed]",
            "text/plain": [
              "<Figure size 432x288 with 1 Axes>"
            ]
          },
          "metadata": {
            "tags": [],
            "needs_background": "light"
          }
        }
      ]
    },
    {
      "cell_type": "markdown",
      "metadata": {
        "id": "lShpYQVXFc-T"
      },
      "source": [
        "terjadi persamaan trend kenaikan dengan film bertype movie, pada tv show juga mengalami kenaikan terus dalam jumlah penambahan pertahunnya"
      ]
    },
    {
      "cell_type": "markdown",
      "metadata": {
        "id": "YnhStKzYGAmf"
      },
      "source": [
        "kemudian sekarang mencoba melakukan prediksi penambahan data pada tahun berikutnya pada film bertype movie "
      ]
    },
    {
      "cell_type": "code",
      "metadata": {
        "colab": {
          "base_uri": "https://localhost:8080/"
        },
        "id": "v0u4Ucem725Q",
        "outputId": "9d46b9df-8f7c-49e1-d826-f5bdf10e7759"
      },
      "source": [
        "reg = LinearRegression()\n",
        "X = np.array([\n",
        "    [2015],\n",
        "    [2016],\n",
        "    [2017],\n",
        "    [2018],\n",
        "    [2019],\n",
        "])\n",
        "X_predict = np.array([[2020]])\n",
        "y = np.array(filtered_dataframe[\"penambahan movies\"][filtered_dataframe[\"tahun\"]>2014]).flatten()\n",
        "y.reshape(1,-1)\n",
        "reg = reg.fit(X,y)\n",
        "predict = reg.predict(X_predict)\n",
        "print(\"prediction : \", int(predict))"
      ],
      "execution_count": null,
      "outputs": [
        {
          "output_type": "stream",
          "text": [
            "prediction :  2014\n"
          ],
          "name": "stdout"
        }
      ]
    },
    {
      "cell_type": "markdown",
      "metadata": {
        "id": "DHhQlJv2i9PW"
      },
      "source": [
        "maka dapat dilihat diatas bahwa diprediksi akan ada 2014 jumlah film bertype movie yang akan bertambah di tahun berikutnya"
      ]
    },
    {
      "cell_type": "markdown",
      "metadata": {
        "id": "uWJZyaZUGIr1"
      },
      "source": [
        "kemudian mencoba melakukan prediksi penambahan jumlah film bertype tv show pada tahun berikutnya"
      ]
    },
    {
      "cell_type": "code",
      "metadata": {
        "colab": {
          "base_uri": "https://localhost:8080/"
        },
        "id": "lY0LZX2F8EMf",
        "outputId": "ae39dde9-e244-4e27-f9c2-4d9d5dd9ee8d"
      },
      "source": [
        "y = np.array(filtered_dataframe[\"penambahan TV shows\"][filtered_dataframe[\"tahun\"]>2014]).flatten()\n",
        "y.reshape(1,-1)\n",
        "reg = reg.fit(X,y)\n",
        "predict = reg.predict(X_predict)\n",
        "print(\"prediction : \", int(predict))"
      ],
      "execution_count": null,
      "outputs": [
        {
          "output_type": "stream",
          "text": [
            "prediction :  933\n"
          ],
          "name": "stdout"
        }
      ]
    },
    {
      "cell_type": "markdown",
      "metadata": {
        "id": "RSd4eKqnjhrr"
      },
      "source": [
        "dan dapat dilihat bahwa hasilnya yaitu sebanyak 933 film akan bertambah pada tahun selanjutnya dengan film bertype tv show"
      ]
    },
    {
      "cell_type": "markdown",
      "metadata": {
        "id": "9pzNX3Fauk_U"
      },
      "source": [
        "## **Evaluasi model**\n",
        "\n",
        "\n"
      ]
    },
    {
      "cell_type": "markdown",
      "metadata": {
        "id": "_oxmNCxA8ptU"
      },
      "source": [
        "Dari hasil prediksi terlihat bahwa total penambahan film bertipe movie akan di prediksi bertambah sebanyak 2014 film pada tahun berikutnya, hal ini dianalisis dari grafik 5 tahun terakhir dari tahun 2015-2019\n",
        "\n",
        "Hal ini sama juga dengan prediksi film bertipe tv show, bahwa akan diprediksi bertambah 933 film pada tahun berikutnya berdasarkan analisis grafik pertambahan pada 5 tahun terakhir yaitu pada 2015 - 2019"
      ]
    }
  ]
}